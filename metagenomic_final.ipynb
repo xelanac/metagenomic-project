{
  "nbformat": 4,
  "nbformat_minor": 0,
  "metadata": {
    "colab": {
      "name": "metagenomic_final.ipynb",
      "provenance": [],
      "authorship_tag": "ABX9TyNncA4smtxoARCfmSxyzPDu",
      "include_colab_link": true
    },
    "kernelspec": {
      "name": "python3",
      "display_name": "Python 3"
    }
  },
  "cells": [
    {
      "cell_type": "markdown",
      "metadata": {
        "id": "view-in-github",
        "colab_type": "text"
      },
      "source": [
        "<a href=\"https://colab.research.google.com/github/xelanac/metagenomic_project/blob/main/metagenomic_final.ipynb\" target=\"_parent\"><img src=\"https://colab.research.google.com/assets/colab-badge.svg\" alt=\"Open In Colab\"/></a>"
      ]
    },
    {
      "cell_type": "markdown",
      "metadata": {
        "id": "x4AruxVWPFnO"
      },
      "source": [
        "#Import delle librerie"
      ]
    },
    {
      "cell_type": "code",
      "metadata": {
        "id": "DDP2iYK4O-X6"
      },
      "source": [
        "%%capture\n",
        "!pip3 install google-nucleus==0.4.0\n",
        "!pip install -q tensorflow==2.0.0-alpha0\n",
        "\n",
        "from __future__ import absolute_import\n",
        "from __future__ import division\n",
        "from __future__ import print_function\n",
        "\n",
        "import os\n",
        "import random\n",
        "\n",
        "import numpy as np\n",
        "\n",
        "from nucleus.io import fastq\n",
        "from nucleus.io import fasta\n",
        "from nucleus.io import sam\n",
        "from nucleus.io import vcf\n",
        "from nucleus.io.genomics_writer import TFRecordWriter\n",
        "from nucleus.protos import reads_pb2\n",
        "from nucleus.util import cigar\n",
        "from nucleus.util import ranges\n",
        "from nucleus.util import utils\n",
        "\n",
        "import torch\n",
        "import tensorflow as tf\n",
        "from tensorflow import keras\n",
        "from tensorflow.keras import layers"
      ],
      "execution_count": 4,
      "outputs": []
    },
    {
      "cell_type": "markdown",
      "metadata": {
        "id": "98V_jRj4PROA"
      },
      "source": [
        "#Generazione di dataset randomici"
      ]
    },
    {
      "cell_type": "code",
      "metadata": {
        "id": "tDVaV9F9PVRs"
      },
      "source": [
        "bases_list = [\"A\",\"C\",\"G\",\"T\"]\n",
        "seq_length = 30\n",
        "seq_num = 20\n",
        "\n",
        "dna_not_sanitized = []\n",
        "dna_sanitized = []"
      ],
      "execution_count": 5,
      "outputs": []
    },
    {
      "cell_type": "code",
      "metadata": {
        "id": "DETl6UmH-CDh"
      },
      "source": [
        "def random_seq_generation(n_seq, seq_len, dataset):\n",
        "  for index in range(n_seq):\n",
        "    sequence = [random.choice(bases_list) for _ in range(seq_len)]\n",
        "    sequence = \"\".join(sequence)\n",
        "    dataset.append(sequence)"
      ],
      "execution_count": 6,
      "outputs": []
    },
    {
      "cell_type": "code",
      "metadata": {
        "id": "MTwW6If7-lQL"
      },
      "source": [
        "random_seq_generation(seq_num, seq_length, dna_not_sanitized)\n",
        "random_seq_generation(seq_num, seq_length, dna_sanitized)"
      ],
      "execution_count": 7,
      "outputs": []
    },
    {
      "cell_type": "markdown",
      "metadata": {
        "id": "khJvyYzMpeZZ"
      },
      "source": [
        "#Caricamento e analisi di dati reali (in questo caso trascurare la precedente sezione di generazione di dataset randomici)"
      ]
    },
    {
      "cell_type": "markdown",
      "metadata": {
        "id": "pGydAYSlqKNs"
      },
      "source": [
        "Collegamento al drive e import dei dati reali"
      ]
    },
    {
      "cell_type": "code",
      "metadata": {
        "id": "vAhdq0_cqA6n"
      },
      "source": [
        "#l'accesso al drive non è stato fatto attrsverso il codice, ma cliccando sull'icona della cartella drive\n",
        "#riporto, sottoforma di commento, anche il codice per montarlo\n",
        "\"\"\"\n",
        "from google.colab import drive\n",
        "drive.mount('/content/drive')\n",
        "\"\"\" \n",
        "# Leggo il file grezzo fastq con la libreria\n",
        "input_path_not_sanitized = \"/content/drive/My Drive/fastQ_data/T0-R2-U1.R1.fastq\"\n",
        "input_path_sanitized = \"/content/drive/My Drive/fastQ_data/T0-R2-U3.R1.fastq\"\n",
        "\n",
        "fastq_data_not_sanitized = fastq.FastqReader(input_path_not_sanitized)\n",
        "fastq_data_sanitized = fastq.FastqReader(input_path_sanitized)"
      ],
      "execution_count": null,
      "outputs": []
    },
    {
      "cell_type": "markdown",
      "metadata": {
        "id": "U1lKWqV6qaRT"
      },
      "source": [
        "Visualizzazione del fastQ"
      ]
    },
    {
      "cell_type": "code",
      "metadata": {
        "id": "qHUIOCoxqUpy"
      },
      "source": [
        "def read_fastq_structure(dataset):\n",
        "  for i in dataset:\n",
        "    print(i)\n",
        "    break;\n",
        "\n",
        "print(\"Dataset campionato prima dell'azione danificante: \" , read_fastq_structure(dna_not_sanitized , \"\\n\"))\n",
        "print(\"Dataset campionato dopo l'azione danificante: \", read_fastq_structure(dna_sanitized, \"\\n\"))"
      ],
      "execution_count": null,
      "outputs": []
    },
    {
      "cell_type": "markdown",
      "metadata": {
        "id": "AOIOfifdrOl5"
      },
      "source": [
        "Funzione per l'isolamento delle sequenze\n"
      ]
    },
    {
      "cell_type": "code",
      "metadata": {
        "id": "_sgKzZ5nrQ-i"
      },
      "source": [
        "# Definisco un metodo per la lettura di un record della libreria FASTQ\n",
        "# Eventualmente rivediamo il metodo ora lo prendo per buono ma c'è qualcosa che non va\n",
        "# Se lo lanci due volte sfalsa l'output\n",
        "\n",
        "def seq_isolation(fastq_data, seq_list, single_record):\n",
        "    seq_list.append(single_record)\n",
        "    single_sequence = str(seq_list[0])\n",
        "    single_record_list = single_sequence.split(\"\\n\") #lista contenente le proprietà di una singola sequenza(id, sequence, quality)\n",
        "\n",
        "    fastq_sequence = single_record_list[2].split(\" \") #2 è la posizione della sequenza\n",
        "    final_sequence = fastq_sequence[1] #posizione nella nuova lista\n",
        "    new_sequence = \"\"\n",
        "\n",
        "    for i in final_sequence: #tolgo le \"\" dalla stringa\n",
        "      if i != '\"':\n",
        "        new_sequence += i\n",
        "\n",
        "    final_sequence = new_sequence\n",
        "    #print(final_sequence)\n",
        "    return final_sequence  "
      ],
      "execution_count": null,
      "outputs": []
    },
    {
      "cell_type": "markdown",
      "metadata": {
        "id": "Dkpu9Fl0rbqM"
      },
      "source": [
        "**Inizio dell'analisi dei dati**"
      ]
    },
    {
      "cell_type": "code",
      "metadata": {
        "id": "dz7_pO84rdkW"
      },
      "source": [
        "# Creo due liste contenenti rispettivamente le sequenze del dna campionate prima e dopo l'azione sanificante\n",
        "fastq_data_list = []\n",
        "dna_not_sanitized = []\n",
        "dna_sanitized = []\n",
        "\n",
        "for index in fastq_data_not_sanitized:\n",
        "  dna_not_sanitized.append(seq_isolation(fastq_data_not_sanitized, fastq_data_list, index))\n",
        "\n",
        "fastq_data_list = []\n",
        "\n",
        "for index in fastq_data_sanitized:\n",
        "  dna_not_sanitized.append(seq_isolation(fastq_data_not_sanitized, fastq_data_list, index))\n",
        "\n",
        "# Stampo il numero di sequenze del dataset \"not_sanitized\"\n",
        "len(dna_not_sanitized)\n",
        "# Stampo il numero di sequenze del dataset \"sanitized\"\n",
        "len(dna_sanitized)"
      ],
      "execution_count": null,
      "outputs": []
    },
    {
      "cell_type": "markdown",
      "metadata": {
        "id": "wt9FrIPEsXsf"
      },
      "source": [
        "Check sulla lunghezza delle sequenze"
      ]
    },
    {
      "cell_type": "code",
      "metadata": {
        "id": "LKNr1LGxsZ4Z"
      },
      "source": [
        "#Lunghezza massima e minima del dataset \"not_sanitized\"\n",
        "print(\"Lunghezza massima delle sequenze dna_not_sanitized: \" , len(max(dna_not_sanitized, key=len)))\n",
        "print(\"Lunghezza minima delle sequenze dna_not_sanitized: \" , len(min(dna_not_sanitized, key=len)), \"\\n\")\n",
        "\n",
        "#Lunghezza massima e minima del dataset \"sanitized\"\n",
        "print(\"Lunghezza massima delle sequenze dna_sanitized: \" ,  len(max(dna_sanitized, key=len)))\n",
        "print(\"Lunghezza minima delle sequenze dna_sanitized: \" , len(min(dna_sanitized, key=len)))"
      ],
      "execution_count": null,
      "outputs": []
    },
    {
      "cell_type": "markdown",
      "metadata": {
        "id": "5nm26iWyti0e"
      },
      "source": [
        "Check che verifica se la sequenza ha qualche parametro \"K\", il quale indica un'imprecisione in fase di campionamento"
      ]
    },
    {
      "cell_type": "code",
      "metadata": {
        "id": "x2jSNcbOtr8H"
      },
      "source": [
        "def sequences_check(sequences_list):\n",
        "  i = 0\n",
        "\n",
        "  for single_sequence in sequences_list:\n",
        "    for index in single_sequence:\n",
        "      if index == \"K\":\n",
        "        return True\n",
        "    i+= 1\n",
        "  return False\n",
        "  \n",
        "print(\"Check delle sequenze non sanificate: \\n\", sequence_check(dna_not_sanitized))\n",
        "print(\"Check delle sequenze  sanificate: \\n\", sequence_check(dna_sanitized))"
      ],
      "execution_count": null,
      "outputs": []
    },
    {
      "cell_type": "markdown",
      "metadata": {
        "id": "4Fee-J8Hv6Xl"
      },
      "source": [
        "Se la funzione \"sequence_check\" restituisce \"True per una delle due liste, procedere con la correzione; altrimenti procedere con la creazione del vocabolario"
      ]
    },
    {
      "cell_type": "code",
      "metadata": {
        "id": "YA9OYhpBwKxS"
      },
      "source": [
        "#con questo metodo sostituisco il parametro \"k\" con una delle basi azotate(in questo caso ho scelto l'Adenina)\n",
        "def sequences_correction(sequences_list): \n",
        "  j = 0\n",
        "  new_dna_sequence_list = []\n",
        "  for single_sequence in sequences_list:\n",
        "    i = 0\n",
        "    new_sequence = \"\"\n",
        "    for index in single_sequence:\n",
        "      if index == \"K\":\n",
        "        new_sequence+=\"A\"\n",
        "      else:\n",
        "        new_sequence+=index\n",
        "      i+=1\n",
        "    new_dna_sequence_list.append(new_sequence)  \n",
        "    j+=1     \n",
        "\n",
        "  sequences_list = new_dna_sequence_list\n",
        "  return sequences_list"
      ],
      "execution_count": null,
      "outputs": []
    },
    {
      "cell_type": "code",
      "metadata": {
        "id": "zXACHaqy05hm"
      },
      "source": [
        "sequences_correction(dna_not_sanitized)\n",
        "sequences_correctio(dna_sanitized)"
      ],
      "execution_count": null,
      "outputs": []
    },
    {
      "cell_type": "markdown",
      "metadata": {
        "id": "JJqAwxPCSsio"
      },
      "source": [
        "#Creo il vocabolario"
      ]
    },
    {
      "cell_type": "code",
      "metadata": {
        "id": "-mKijPYcSvk2"
      },
      "source": [
        "%%capture\n",
        "from tensorflow.keras.preprocessing.text import Tokenizer\n",
        "from tensorflow.keras.preprocessing.sequence import pad_sequences"
      ],
      "execution_count": 8,
      "outputs": []
    },
    {
      "cell_type": "code",
      "metadata": {
        "id": "yqTGuXyUac1t",
        "colab": {
          "base_uri": "https://localhost:8080/"
        },
        "outputId": "220c72d0-fa53-41b1-e747-2b0a0c1b7698"
      },
      "source": [
        "tokenizer = Tokenizer(char_level=True)\n",
        "\n",
        "tokenizer.fit_on_texts(dna_not_sanitized)\n",
        "\n",
        "vocab = tokenizer.word_index\n",
        "vocab_lenght = len(vocab) + 1\n",
        "\n",
        "print(\"Vocabulary: \" ,vocab)\n",
        "type(vocab)"
      ],
      "execution_count": 9,
      "outputs": [
        {
          "output_type": "stream",
          "text": [
            "Vocabulary:  {'t': 1, 'c': 2, 'g': 3, 'a': 4}\n"
          ],
          "name": "stdout"
        },
        {
          "output_type": "execute_result",
          "data": {
            "text/plain": [
              "dict"
            ]
          },
          "metadata": {
            "tags": []
          },
          "execution_count": 9
        }
      ]
    },
    {
      "cell_type": "code",
      "metadata": {
        "id": "O5uXy2ogTC5s"
      },
      "source": [
        "input_not_sanitized = []\n",
        "\n",
        "for line in dna_not_sanitized:\n",
        "\ttoken_list = tokenizer.texts_to_sequences([line])[0]\n",
        "\tfor i in range(1, len(token_list)):\n",
        "\t\tn_gram_sequence = token_list[:i+1]\n",
        "\t\tinput_not_sanitized.append(n_gram_sequence)\n",
        "\n",
        "#pad sequences \n",
        "max_sequence_len = max([len(x) for x in input_not_sanitized])\n",
        "input_sequences = np.array(pad_sequences(input_not_sanitized, maxlen=max_sequence_len, padding='pre'))\n",
        "\n",
        "#xs, labels_x = input_sequences[:,:-1],input_sequences[:,-1] #il -1 omette l'ultimo carattere\n",
        "xs = input_sequences[:,:-1] #il -1 omette l'ultimo carattere\n"
      ],
      "execution_count": 10,
      "outputs": []
    },
    {
      "cell_type": "code",
      "metadata": {
        "id": "bXv9sV36kk6E",
        "colab": {
          "base_uri": "https://localhost:8080/"
        },
        "outputId": "e4fc7a70-464f-4e75-ae19-bd6608fac8ac"
      },
      "source": [
        "print(input_sequences)\n",
        "print(input_sequences[:-1])"
      ],
      "execution_count": 11,
      "outputs": [
        {
          "output_type": "stream",
          "text": [
            "[[0 0 0 ... 0 2 3]\n",
            " [0 0 0 ... 2 3 4]\n",
            " [0 0 0 ... 3 4 3]\n",
            " ...\n",
            " [0 0 2 ... 2 2 2]\n",
            " [0 2 1 ... 2 2 3]\n",
            " [2 1 4 ... 2 3 2]]\n",
            "[[0 0 0 ... 0 2 3]\n",
            " [0 0 0 ... 2 3 4]\n",
            " [0 0 0 ... 3 4 3]\n",
            " ...\n",
            " [0 0 0 ... 3 2 2]\n",
            " [0 0 2 ... 2 2 2]\n",
            " [0 2 1 ... 2 2 3]]\n"
          ],
          "name": "stdout"
        }
      ]
    },
    {
      "cell_type": "code",
      "metadata": {
        "id": "pWSt4TxlUYDG"
      },
      "source": [
        "input_sanitized = []\n",
        "\n",
        "for line in dna_sanitized:\n",
        "\ttoken_list = tokenizer.texts_to_sequences([line])[0]\n",
        "\tfor i in range(1, len(token_list)):\n",
        "\t\tn_gram_sequence = token_list[:i+1]\n",
        "\t\tinput_sanitized.append(n_gram_sequence)\n",
        "\n",
        "#pad sequences\n",
        "max_sequence_len = max([len(x) for x in input_sanitized])\n",
        "input_sequences = np.array(pad_sequences(input_sanitized, maxlen=max_sequence_len, padding='pre'))\n",
        "\n",
        "ys, labels_y = input_sequences[:,:-1],input_sequences[:,-1]\n",
        "\n",
        "ys = tf.keras.utils.to_categorical(labels_y, num_classes=vocab_lenght)"
      ],
      "execution_count": 12,
      "outputs": []
    },
    {
      "cell_type": "code",
      "metadata": {
        "id": "2gHUVCWfiKcv",
        "colab": {
          "base_uri": "https://localhost:8080/"
        },
        "outputId": "e2cc0aca-930a-4762-d1c6-c1ead5137cb2"
      },
      "source": [
        "print(\"Dna not sanitized in pos 0:\" , dna_not_sanitized[0])\n",
        "print(\"Dna sanitized in pos 0:    \" ,dna_sanitized[0])\n",
        "print(vocab)"
      ],
      "execution_count": 13,
      "outputs": [
        {
          "output_type": "stream",
          "text": [
            "Dna not sanitized in pos 0: CGAGCACTGCGGGTTTAATCCACTCTCTTA\n",
            "Dna sanitized in pos 0:     GGGCAGACCTAATTTCCCCATGACCCGACG\n",
            "{'t': 1, 'c': 2, 'g': 3, 'a': 4}\n"
          ],
          "name": "stdout"
        }
      ]
    },
    {
      "cell_type": "markdown",
      "metadata": {
        "id": "BnTRmRr_Usus"
      },
      "source": [
        "#Costruzione del modello Rnn con layer LSTM"
      ]
    },
    {
      "cell_type": "code",
      "metadata": {
        "id": "NqZ2h5ITUxX9"
      },
      "source": [
        "from tensorflow.keras.layers import Embedding, LSTM, Dense, Bidirectional\n",
        "from tensorflow.keras.models import Sequential\n",
        "from tensorflow.keras.optimizers import Adam"
      ],
      "execution_count": 14,
      "outputs": []
    },
    {
      "cell_type": "code",
      "metadata": {
        "id": "lyPaav9HU1U-"
      },
      "source": [
        "model = Sequential()\n",
        "model.add(Embedding(vocab_lenght, 100, input_length=max_sequence_len-1))\n",
        "model.add(Bidirectional(LSTM(150)))\n",
        "model.add(Dense(vocab_lenght, activation='softmax'))\n",
        "\n",
        "adam = Adam(lr=0.01)\n",
        "model.compile(loss='categorical_crossentropy', optimizer=adam, metrics=['accuracy'])"
      ],
      "execution_count": 15,
      "outputs": []
    },
    {
      "cell_type": "code",
      "metadata": {
        "id": "Dop7BAANU21P",
        "colab": {
          "base_uri": "https://localhost:8080/"
        },
        "outputId": "f64b769c-55fc-4174-910c-e613d074a3bb"
      },
      "source": [
        "model.summary()"
      ],
      "execution_count": 16,
      "outputs": [
        {
          "output_type": "stream",
          "text": [
            "Model: \"sequential\"\n",
            "_________________________________________________________________\n",
            "Layer (type)                 Output Shape              Param #   \n",
            "=================================================================\n",
            "embedding (Embedding)        (None, 29, 100)           500       \n",
            "_________________________________________________________________\n",
            "bidirectional (Bidirectional (None, 300)               301200    \n",
            "_________________________________________________________________\n",
            "dense (Dense)                (None, 5)                 1505      \n",
            "=================================================================\n",
            "Total params: 303,205\n",
            "Trainable params: 303,205\n",
            "Non-trainable params: 0\n",
            "_________________________________________________________________\n"
          ],
          "name": "stdout"
        }
      ]
    },
    {
      "cell_type": "code",
      "metadata": {
        "id": "qOIezHFSrUnL",
        "colab": {
          "base_uri": "https://localhost:8080/"
        },
        "outputId": "c0c39ff8-4bc2-4f01-ae5e-e7ef432361ee"
      },
      "source": [
        "xs.shape"
      ],
      "execution_count": 17,
      "outputs": [
        {
          "output_type": "execute_result",
          "data": {
            "text/plain": [
              "(580, 29)"
            ]
          },
          "metadata": {
            "tags": []
          },
          "execution_count": 17
        }
      ]
    },
    {
      "cell_type": "code",
      "metadata": {
        "id": "nLpqqVH6U4mG",
        "colab": {
          "base_uri": "https://localhost:8080/"
        },
        "outputId": "7e8c3cb1-f8a5-49fe-e4c0-70fc472e175b"
      },
      "source": [
        "history = model.fit(xs, ys, epochs=50, verbose=1)"
      ],
      "execution_count": 18,
      "outputs": [
        {
          "output_type": "stream",
          "text": [
            "Epoch 1/50\n",
            "580/580 [==============================] - 3s 5ms/sample - loss: 1.6061 - accuracy: 0.2603\n",
            "Epoch 2/50\n",
            "580/580 [==============================] - 2s 4ms/sample - loss: 1.4108 - accuracy: 0.2810\n",
            "Epoch 3/50\n",
            "580/580 [==============================] - 2s 4ms/sample - loss: 1.3922 - accuracy: 0.2690\n",
            "Epoch 4/50\n",
            "580/580 [==============================] - 2s 4ms/sample - loss: 1.3931 - accuracy: 0.2741\n",
            "Epoch 5/50\n",
            "580/580 [==============================] - 2s 4ms/sample - loss: 1.3929 - accuracy: 0.2793\n",
            "Epoch 6/50\n",
            "580/580 [==============================] - 2s 4ms/sample - loss: 1.3818 - accuracy: 0.2724\n",
            "Epoch 7/50\n",
            "580/580 [==============================] - 2s 4ms/sample - loss: 1.3684 - accuracy: 0.2879\n",
            "Epoch 8/50\n",
            "580/580 [==============================] - 2s 4ms/sample - loss: 1.3720 - accuracy: 0.2966\n",
            "Epoch 9/50\n",
            "580/580 [==============================] - 2s 4ms/sample - loss: 1.3578 - accuracy: 0.3086\n",
            "Epoch 10/50\n",
            "580/580 [==============================] - 2s 4ms/sample - loss: 1.3620 - accuracy: 0.3086\n",
            "Epoch 11/50\n",
            "580/580 [==============================] - 2s 4ms/sample - loss: 1.3351 - accuracy: 0.3655\n",
            "Epoch 12/50\n",
            "580/580 [==============================] - 2s 4ms/sample - loss: 1.2952 - accuracy: 0.3793\n",
            "Epoch 13/50\n",
            "580/580 [==============================] - 2s 4ms/sample - loss: 1.2783 - accuracy: 0.3828\n",
            "Epoch 14/50\n",
            "580/580 [==============================] - 2s 4ms/sample - loss: 1.1745 - accuracy: 0.4690\n",
            "Epoch 15/50\n",
            "580/580 [==============================] - 2s 4ms/sample - loss: 1.0394 - accuracy: 0.5276\n",
            "Epoch 16/50\n",
            "580/580 [==============================] - 2s 4ms/sample - loss: 1.0425 - accuracy: 0.5414\n",
            "Epoch 17/50\n",
            "580/580 [==============================] - 2s 4ms/sample - loss: 0.8758 - accuracy: 0.6069\n",
            "Epoch 18/50\n",
            "580/580 [==============================] - 2s 4ms/sample - loss: 0.7756 - accuracy: 0.6707\n",
            "Epoch 19/50\n",
            "580/580 [==============================] - 2s 4ms/sample - loss: 0.5760 - accuracy: 0.7879\n",
            "Epoch 20/50\n",
            "580/580 [==============================] - 2s 4ms/sample - loss: 0.4131 - accuracy: 0.8603\n",
            "Epoch 21/50\n",
            "580/580 [==============================] - 2s 4ms/sample - loss: 0.3153 - accuracy: 0.8966\n",
            "Epoch 22/50\n",
            "580/580 [==============================] - 2s 4ms/sample - loss: 0.2332 - accuracy: 0.9241\n",
            "Epoch 23/50\n",
            "580/580 [==============================] - 2s 4ms/sample - loss: 0.1701 - accuracy: 0.9397\n",
            "Epoch 24/50\n",
            "580/580 [==============================] - 2s 4ms/sample - loss: 0.1303 - accuracy: 0.9448\n",
            "Epoch 25/50\n",
            "580/580 [==============================] - 2s 4ms/sample - loss: 0.1261 - accuracy: 0.9448\n",
            "Epoch 26/50\n",
            "580/580 [==============================] - 2s 4ms/sample - loss: 0.1354 - accuracy: 0.9448\n",
            "Epoch 27/50\n",
            "580/580 [==============================] - 2s 4ms/sample - loss: 0.1165 - accuracy: 0.9500\n",
            "Epoch 28/50\n",
            "580/580 [==============================] - 2s 4ms/sample - loss: 0.1320 - accuracy: 0.9431\n",
            "Epoch 29/50\n",
            "580/580 [==============================] - 2s 4ms/sample - loss: 0.1225 - accuracy: 0.9379\n",
            "Epoch 30/50\n",
            "580/580 [==============================] - 2s 4ms/sample - loss: 0.1097 - accuracy: 0.9397\n",
            "Epoch 31/50\n",
            "580/580 [==============================] - 2s 4ms/sample - loss: 0.1015 - accuracy: 0.9500\n",
            "Epoch 32/50\n",
            "580/580 [==============================] - 2s 4ms/sample - loss: 0.1023 - accuracy: 0.9397\n",
            "Epoch 33/50\n",
            "580/580 [==============================] - 2s 4ms/sample - loss: 0.1054 - accuracy: 0.9414\n",
            "Epoch 34/50\n",
            "580/580 [==============================] - 2s 4ms/sample - loss: 0.1009 - accuracy: 0.9500\n",
            "Epoch 35/50\n",
            "580/580 [==============================] - 2s 4ms/sample - loss: 0.0939 - accuracy: 0.9414\n",
            "Epoch 36/50\n",
            "580/580 [==============================] - 2s 4ms/sample - loss: 0.0941 - accuracy: 0.9466\n",
            "Epoch 37/50\n",
            "580/580 [==============================] - 2s 4ms/sample - loss: 0.1011 - accuracy: 0.9483\n",
            "Epoch 38/50\n",
            "580/580 [==============================] - 2s 4ms/sample - loss: 0.0919 - accuracy: 0.9431\n",
            "Epoch 39/50\n",
            "580/580 [==============================] - 2s 4ms/sample - loss: 0.1016 - accuracy: 0.9362\n",
            "Epoch 40/50\n",
            "580/580 [==============================] - 2s 4ms/sample - loss: 0.0950 - accuracy: 0.9500\n",
            "Epoch 41/50\n",
            "580/580 [==============================] - 2s 4ms/sample - loss: 0.0966 - accuracy: 0.9431\n",
            "Epoch 42/50\n",
            "580/580 [==============================] - 2s 4ms/sample - loss: 0.0906 - accuracy: 0.9517\n",
            "Epoch 43/50\n",
            "580/580 [==============================] - 2s 4ms/sample - loss: 0.0916 - accuracy: 0.9397\n",
            "Epoch 44/50\n",
            "580/580 [==============================] - 2s 4ms/sample - loss: 0.1034 - accuracy: 0.9534\n",
            "Epoch 45/50\n",
            "580/580 [==============================] - 2s 4ms/sample - loss: 0.1228 - accuracy: 0.9431\n",
            "Epoch 46/50\n",
            "580/580 [==============================] - 2s 4ms/sample - loss: 0.1074 - accuracy: 0.9431\n",
            "Epoch 47/50\n",
            "580/580 [==============================] - 2s 4ms/sample - loss: 0.1035 - accuracy: 0.9414\n",
            "Epoch 48/50\n",
            "580/580 [==============================] - 2s 4ms/sample - loss: 0.1064 - accuracy: 0.9483\n",
            "Epoch 49/50\n",
            "580/580 [==============================] - 2s 4ms/sample - loss: 0.0942 - accuracy: 0.9448\n",
            "Epoch 50/50\n",
            "580/580 [==============================] - 2s 4ms/sample - loss: 0.0938 - accuracy: 0.9483\n"
          ],
          "name": "stdout"
        }
      ]
    },
    {
      "cell_type": "code",
      "metadata": {
        "id": "rZidmnc-U79N"
      },
      "source": [
        "import matplotlib.pyplot as plt\n",
        "\n",
        "\n",
        "def plot_graphs(history, string):\n",
        "  plt.plot(history.history[string])\n",
        "  plt.xlabel(\"Epochs\")\n",
        "  plt.ylabel(ylabel=\"Accuratezza\")\n",
        "  plt.show()"
      ],
      "execution_count": 19,
      "outputs": []
    },
    {
      "cell_type": "code",
      "metadata": {
        "id": "tt-T68mJU98S",
        "colab": {
          "base_uri": "https://localhost:8080/",
          "height": 279
        },
        "outputId": "c058513d-3120-4ee5-fbf9-e10567fa160d"
      },
      "source": [
        "plot_graphs(history, 'accuracy')"
      ],
      "execution_count": 20,
      "outputs": [
        {
          "output_type": "display_data",
          "data": {
            "image/png": "[encoded data removed]",
            "text/plain": [
              "<Figure size 432x288 with 1 Axes>"
            ]
          },
          "metadata": {
            "tags": [],
            "needs_background": "light"
          }
        }
      ]
    },
    {
      "cell_type": "code",
      "metadata": {
        "id": "-ONs5spxg1rp",
        "colab": {
          "base_uri": "https://localhost:8080/"
        },
        "outputId": "319365fa-77fb-4344-d41c-4c74625dce7d"
      },
      "source": [
        "#genero metà sequenza di dna non sanificato\n",
        "half_seq_length = int(seq_length / 2)\n",
        "half_sequence = [random.choice(bases_list) for _ in range(half_seq_length)]\n",
        "half_sequence = \"\".join(half_sequence)\n",
        "\n",
        "print(half_sequence)"
      ],
      "execution_count": 21,
      "outputs": [
        {
          "output_type": "stream",
          "text": [
            "CCCAACTTGAAGATA\n"
          ],
          "name": "stdout"
        }
      ]
    },
    {
      "cell_type": "code",
      "metadata": {
        "id": "cfiDYGL-gxHo"
      },
      "source": [
        "def make_prediction(next_words, tokenizer, model, text_to_predict, j):\n",
        "\tfor _ in range(next_words):\n",
        "\t\ttoken_list = tokenizer.texts_to_sequences([text_to_predict])[0]\n",
        "\t\ttoken_list = pad_sequences([token_list], maxlen=max_sequence_len-1, padding='pre')\n",
        "\t\tpredicted = model.predict_classes(token_list, verbose=0)\n",
        "\t\toutput_word = \"\"\n",
        "\t\tfor word, index in tokenizer.word_index.items():\n",
        "\t\t\tif index == predicted:\n",
        "\t\t\t\toutput_word = word\n",
        "\t\t\t\tbreak\n",
        "\t\ttext_to_predict += \"\" + output_word \n",
        "\t\tj += \"\" + output_word \n",
        "\t\tnew_sequence = \"\".join(j) #isolo la nuova sequenza generata\n",
        "\treturn new_sequence, text_to_predict"
      ],
      "execution_count": 22,
      "outputs": []
    },
    {
      "cell_type": "code",
      "metadata": {
        "id": "cZx5OkTB-5_R",
        "colab": {
          "base_uri": "https://localhost:8080/"
        },
        "outputId": "0b871ae0-0edc-4c9c-e120-e51d706f8c61"
      },
      "source": [
        "text_to_predict = half_sequence\n",
        "next_words = half_seq_length\n",
        "new_sequence = []\n",
        "increase_string = \"\"\n",
        "\n",
        "new_sequence, text_to_predict = make_prediction(next_words, tokenizer, model, text_to_predict, increase_string)\n",
        "\n",
        "print(text_to_predict) #concatenazione tra sequenza passata in input e la nuova generata\n",
        "print(new_sequence)"
      ],
      "execution_count": 23,
      "outputs": [
        {
          "output_type": "stream",
          "text": [
            "CCCAACTTGAAGATAcgaggccgagatttt\n",
            "cgaggccgagatttt\n"
          ],
          "name": "stdout"
        }
      ]
    },
    {
      "cell_type": "code",
      "metadata": {
        "id": "N0ienvjiiw8_"
      },
      "source": [
        "def make_upper(text, index):\n",
        "  s = \"\"\n",
        "  for i in text:\n",
        "    if i == \"a\":\n",
        "      s = \"A\"\n",
        "    if i == \"c\":\n",
        "      s = \"C\"\n",
        "    if i == \"g\":\n",
        "      s = \"G\"\n",
        "    if i == \"t\":\n",
        "      s = \"T\"\n",
        "    index += \"\" + s\n",
        "    text = \"\".join(index)\n",
        "  return text"
      ],
      "execution_count": 24,
      "outputs": []
    },
    {
      "cell_type": "code",
      "metadata": {
        "id": "YmnP9ZmvsYTq",
        "colab": {
          "base_uri": "https://localhost:8080/"
        },
        "outputId": "7448fe09-647b-45f9-ead8-4f9fff23d06a"
      },
      "source": [
        "increase_sequence = \"\"\n",
        "print(make_upper(new_sequence, increase_sequence))"
      ],
      "execution_count": 25,
      "outputs": [
        {
          "output_type": "stream",
          "text": [
            "CGAGGCCGAGATTTT\n"
          ],
          "name": "stdout"
        }
      ]
    }
  ]
}