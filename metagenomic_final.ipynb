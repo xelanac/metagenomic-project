{
  "nbformat": 4,
  "nbformat_minor": 0,
  "metadata": {
    "colab": {
      "name": "metagenomic_final.ipynb",
      "provenance": [],
      "collapsed_sections": [
        "RRdnF-T7GW3A",
        "SsYlsw4_Gbcc",
        "143wOQzGFQlL"
      ],
      "mount_file_id": "1fL0-eDKgqVA4MlRSci89QiN6Bhk3Uyol",
      "authorship_tag": "ABX9TyOD2FJdrY4jfnzwoqxeyfRE",
      "include_colab_link": true
    },
    "kernelspec": {
      "display_name": "Python 3",
      "name": "python3"
    }
  },
  "cells": [
    {
      "cell_type": "markdown",
      "metadata": {
        "id": "view-in-github",
        "colab_type": "text"
      },
      "source": [
        "<a href=\"https://colab.research.google.com/github/xelanac/metagenomic-project/blob/main/metagenomic_final.ipynb\" target=\"_parent\"><img src=\"https://colab.research.google.com/assets/colab-badge.svg\" alt=\"Open In Colab\"/></a>"
      ]
    },
    {
      "cell_type": "markdown",
      "metadata": {
        "id": "x4AruxVWPFnO"
      },
      "source": [
        "#Import delle librerie"
      ]
    },
    {
      "cell_type": "code",
      "metadata": {
        "id": "DDP2iYK4O-X6"
      },
      "source": [
        "%%capture\n",
        "!pip3 install google-nucleus==0.4.0\n",
        "!pip install -q tensorflow==2.0.0-alpha0\n",
        "\n",
        "from __future__ import absolute_import\n",
        "from __future__ import division\n",
        "from __future__ import print_function\n",
        "\n",
        "import os\n",
        "import random\n",
        "\n",
        "import numpy as np\n",
        "\n",
        "#librerie per la lettura dei file fastq\n",
        "from nucleus.io import fastq\n",
        "from nucleus.io import fasta\n",
        "from nucleus.io import sam\n",
        "from nucleus.io import vcf\n",
        "from nucleus.io.genomics_writer import TFRecordWriter\n",
        "from nucleus.protos import reads_pb2\n",
        "from nucleus.util import cigar\n",
        "from nucleus.util import ranges\n",
        "from nucleus.util import utils\n",
        "\n",
        "import torch\n",
        "import tensorflow as tf\n",
        "from tensorflow import keras\n",
        "from tensorflow.keras import layers\n",
        "\n",
        "#matplotlib per il plot dell'accuratezza del modello in base ad ogni epoca\n",
        "import matplotlib.pyplot as plt\n",
        "\n",
        "#librerie per la creazione del vocabolario\n",
        "from tensorflow.keras.preprocessing.text import Tokenizer\n",
        "from tensorflow.keras.preprocessing.sequence import pad_sequences\n",
        "\n",
        "#librerie per la costruzione della rete neurale RNN\n",
        "from tensorflow.keras.layers import Embedding, LSTM, Dense, Bidirectional\n",
        "from tensorflow.keras.models import Sequential\n",
        "from tensorflow.keras.optimizers import Adam"
      ],
      "execution_count": 1,
      "outputs": []
    },
    {
      "cell_type": "markdown",
      "metadata": {
        "id": "98V_jRj4PROA"
      },
      "source": [
        "#Generazione di dataset randomici"
      ]
    },
    {
      "cell_type": "code",
      "metadata": {
        "id": "tDVaV9F9PVRs"
      },
      "source": [
        "bases_list = [\"A\",\"C\",\"G\",\"T\"]\n",
        "seq_length = 20 #lunghezza stringa\n",
        "seq_num = 20 #lunghezza dataset\n",
        "\n",
        "dna_not_sanitized = []\n",
        "dna_sanitized = []"
      ],
      "execution_count": 20,
      "outputs": []
    },
    {
      "cell_type": "code",
      "metadata": {
        "id": "DETl6UmH-CDh"
      },
      "source": [
        "def random_seq_generation(n_seq, seq_len, dataset):\n",
        "  for index in range(n_seq):\n",
        "    sequence = [random.choice(bases_list) for _ in range(seq_len)]\n",
        "    sequence = \"\".join(sequence)\n",
        "    dataset.append(sequence)"
      ],
      "execution_count": 21,
      "outputs": []
    },
    {
      "cell_type": "code",
      "metadata": {
        "id": "MTwW6If7-lQL"
      },
      "source": [
        "random_seq_generation(seq_num, seq_length, dna_not_sanitized)\n",
        "random_seq_generation(seq_num, seq_length, dna_sanitized)"
      ],
      "execution_count": 22,
      "outputs": []
    },
    {
      "cell_type": "markdown",
      "metadata": {
        "id": "khJvyYzMpeZZ"
      },
      "source": [
        "#Caricamento e analisi di dati reali (in questo caso trascurare la precedente sezione di generazione di dataset randomici)"
      ]
    },
    {
      "cell_type": "markdown",
      "metadata": {
        "id": "pGydAYSlqKNs"
      },
      "source": [
        "Collegamento al drive e import dei dati reali"
      ]
    },
    {
      "cell_type": "code",
      "metadata": {
        "id": "vAhdq0_cqA6n"
      },
      "source": [
        "#accesso al drive\n",
        "\"\"\"\n",
        "from google.colab import drive\n",
        "drive.mount('/content/drive')\n",
        "\"\"\""
      ],
      "execution_count": null,
      "outputs": []
    },
    {
      "cell_type": "code",
      "metadata": {
        "id": "5_GFYpDekiyK"
      },
      "source": [
        "path_not_sanitized = \"/content/drive/MyDrive/fastQ_data/fastQ_01_2021/ERX149279.fastq.gz\"\n",
        "path_sanitized = \"/content/drive/MyDrive/fastQ_data/fastQ_01_2021/ERX149293.fastq.gz\""
      ],
      "execution_count": null,
      "outputs": []
    },
    {
      "cell_type": "code",
      "metadata": {
        "id": "2oKteMsGkDjq"
      },
      "source": [
        "def seq_isolation(dataset, dataset_len, seq_dataset):\n",
        "  index = 0\n",
        "  seq_list = []\n",
        "\n",
        "  for i in dataset:\n",
        "    if index < dataset_len:\n",
        "      seq_list.append(i)\n",
        "      b = str(list(seq_list)[index]).split(\"\\n\")[2]\n",
        "      seq = \"\"\n",
        "      for j in b:\n",
        "        if j == \"A\" or j == \"C\" or j == \"G\" or j == \"T\":\n",
        "          seq += j\n",
        "      seq_dataset.append(seq)\n",
        "      index += 1\n",
        "    else:\n",
        "      break;"
      ],
      "execution_count": null,
      "outputs": []
    },
    {
      "cell_type": "code",
      "metadata": {
        "id": "7TOPJEY8kIDk"
      },
      "source": [
        "dataset_length = 50 #se non si usa questo flag l'iterazione sul fastq restituisce: \"Failed to parse FASTQ record\"  "
      ],
      "execution_count": null,
      "outputs": []
    },
    {
      "cell_type": "markdown",
      "metadata": {
        "id": "vjKPXZltkQ-s"
      },
      "source": [
        "Creazione della lista contenente solo le sequenze dei due fastq"
      ]
    },
    {
      "cell_type": "code",
      "metadata": {
        "id": "uXc_iQTgkMDc"
      },
      "source": [
        "#lista dna non sanificato -> dna_not_sanitized\n",
        "fastq_dataset_not_sanitized = fastq.FastqReader(path_not_sanitized)\n",
        "\n",
        "dna_not_sanitized = []\n",
        "seq_isolation(fastq_dataset_not_sanitized, dataset_length, dna_not_sanitized)"
      ],
      "execution_count": null,
      "outputs": []
    },
    {
      "cell_type": "code",
      "metadata": {
        "id": "vayNv_C3k9nl"
      },
      "source": [
        "#lista dna sanificato -> dna_sanitized\n",
        "fastq_dataset_sanitized = fastq.FastqReader(path_sanitized)\n",
        "\n",
        "dna_sanitized = []\n",
        "seq_isolation(fastq_dataset_sanitized, dataset_length, dna_sanitized)"
      ],
      "execution_count": null,
      "outputs": []
    },
    {
      "cell_type": "markdown",
      "metadata": {
        "id": "wt9FrIPEsXsf"
      },
      "source": [
        "Check sulla lunghezza delle sequenze"
      ]
    },
    {
      "cell_type": "code",
      "metadata": {
        "id": "LKNr1LGxsZ4Z",
        "colab": {
          "base_uri": "https://localhost:8080/"
        },
        "outputId": "0199caed-3924-4011-ceae-510151c1f0ad"
      },
      "source": [
        "#Lunghezza massima e minima del dataset \"not_sanitized\"\n",
        "print(\"Lunghezza massima delle sequenze dna_not_sanitized: \" , len(max(dna_not_sanitized, key=len)))\n",
        "print(\"Lunghezza minima delle sequenze dna_not_sanitized: \" , len(min(dna_not_sanitized, key=len)), \"\\n\")\n",
        "\n",
        "#Lunghezza massima e minima del dataset \"sanitized\"\n",
        "print(\"Lunghezza massima delle sequenze dna_sanitized: \" ,  len(max(dna_sanitized, key=len)))\n",
        "print(\"Lunghezza minima delle sequenze dna_sanitized: \" , len(min(dna_sanitized, key=len)))"
      ],
      "execution_count": null,
      "outputs": [
        {
          "output_type": "stream",
          "text": [
            "Lunghezza massima delle sequenze dna_not_sanitized:  76\n",
            "Lunghezza minima delle sequenze dna_not_sanitized:  76 \n",
            "\n",
            "Lunghezza massima delle sequenze dna_sanitized:  76\n",
            "Lunghezza minima delle sequenze dna_sanitized:  76\n"
          ],
          "name": "stdout"
        }
      ]
    },
    {
      "cell_type": "markdown",
      "metadata": {
        "id": "5nm26iWyti0e"
      },
      "source": [
        "Check che verifica se la sequenza ha qualche parametro \"K\", il quale indica un'imprecisione in fase di campionamento"
      ]
    },
    {
      "cell_type": "code",
      "metadata": {
        "id": "x2jSNcbOtr8H",
        "colab": {
          "base_uri": "https://localhost:8080/"
        },
        "outputId": "50b2dfd2-0294-4552-c74b-971ca50591c7"
      },
      "source": [
        "def sequences_check(sequences_list):\n",
        "  i = 0\n",
        "\n",
        "  for single_sequence in sequences_list:\n",
        "    for index in single_sequence:\n",
        "      if index == \"K\":\n",
        "        return True\n",
        "    i+= 1\n",
        "  return False\n",
        "  \n",
        "print(\"Check delle sequenze non sanificate: \\n\", sequences_check(dna_not_sanitized))\n",
        "print(\"Check delle sequenze  sanificate: \\n\", sequences_check(dna_sanitized))"
      ],
      "execution_count": null,
      "outputs": [
        {
          "output_type": "stream",
          "text": [
            "Check delle sequenze non sanificate: \n",
            " False\n",
            "Check delle sequenze  sanificate: \n",
            " False\n"
          ],
          "name": "stdout"
        }
      ]
    },
    {
      "cell_type": "markdown",
      "metadata": {
        "id": "4Fee-J8Hv6Xl"
      },
      "source": [
        "Se la funzione \"sequence_check()\" restituisce \"True\" per una delle due liste, procedere con la correzione; altrimenti procedere con la creazione del vocabolario"
      ]
    },
    {
      "cell_type": "code",
      "metadata": {
        "id": "YA9OYhpBwKxS"
      },
      "source": [
        "#con questo metodo sostituisco il parametro \"k\" con una delle basi azotate(in questo caso ho scelto l'Adenina)\n",
        "def sequences_correction(sequences_list): \n",
        "  j = 0\n",
        "  new_dna_sequence_list = []\n",
        "  for single_sequence in sequences_list:\n",
        "    i = 0\n",
        "    new_sequence = \"\"\n",
        "    for index in single_sequence:\n",
        "      if index == \"K\":\n",
        "        new_sequence+=\"A\"\n",
        "      else:\n",
        "        new_sequence+=index\n",
        "      i+=1\n",
        "    new_dna_sequence_list.append(new_sequence)  \n",
        "    j+=1     \n",
        "\n",
        "  sequences_list = new_dna_sequence_list\n",
        "  return sequences_list"
      ],
      "execution_count": null,
      "outputs": []
    },
    {
      "cell_type": "code",
      "metadata": {
        "id": "zXACHaqy05hm"
      },
      "source": [
        "sequences_correction(dna_not_sanitized)\n",
        "sequences_correction(dna_sanitized)"
      ],
      "execution_count": null,
      "outputs": []
    },
    {
      "cell_type": "markdown",
      "metadata": {
        "id": "JJqAwxPCSsio"
      },
      "source": [
        "#Creo il vocabolario"
      ]
    },
    {
      "cell_type": "code",
      "metadata": {
        "colab": {
          "base_uri": "https://localhost:8080/"
        },
        "id": "yqTGuXyUac1t",
        "outputId": "02ae0e2f-2375-4174-bae6-f14181d60559"
      },
      "source": [
        "tokenizer = Tokenizer(char_level=True)\n",
        "\n",
        "tokenizer.fit_on_texts(dna_not_sanitized)\n",
        "\n",
        "vocab = tokenizer.word_index\n",
        "vocab_length = len(vocab) + 1\n",
        "\n",
        "print(\"Vocabulary: \" ,vocab)"
      ],
      "execution_count": 23,
      "outputs": [
        {
          "output_type": "stream",
          "text": [
            "Vocabulary:  {'c': 1, 'a': 2, 'g': 3, 't': 4}\n"
          ],
          "name": "stdout"
        }
      ]
    },
    {
      "cell_type": "code",
      "metadata": {
        "id": "O5uXy2ogTC5s"
      },
      "source": [
        "input_not_sanitized = []\n",
        "\n",
        "for record in dna_not_sanitized:\n",
        "\ttoken_list = tokenizer.texts_to_sequences([record])[0]\n",
        "\tfor i in range(1, len(token_list)):\n",
        "\t\tn_gram_sequence = token_list[:i+1]\n",
        "\t\tinput_not_sanitized.append(n_gram_sequence)\n",
        "\n",
        "#pad sequences \n",
        "max_sequence_len = max([len(x) for x in input_not_sanitized])\n",
        "input_sequences = np.array(pad_sequences(input_not_sanitized, maxlen=max_sequence_len, padding='pre'))\n",
        "\n",
        "#xs, labels_x = input_sequences[:,:-1],input_sequences[:,-1] #il -1 omette l'ultimo carattere\n",
        "xs = input_sequences[:,:-1] #il -1 omette l'ultimo carattere"
      ],
      "execution_count": 24,
      "outputs": []
    },
    {
      "cell_type": "code",
      "metadata": {
        "colab": {
          "base_uri": "https://localhost:8080/"
        },
        "id": "bXv9sV36kk6E",
        "outputId": "96fe0f8c-cde2-48b9-983f-45a20e0524bb"
      },
      "source": [
        "print(input_sequences)\n",
        "print(input_sequences[:-1])"
      ],
      "execution_count": 25,
      "outputs": [
        {
          "output_type": "stream",
          "text": [
            "[[0 0 0 ... 0 1 1]\n",
            " [0 0 0 ... 1 1 2]\n",
            " [0 0 0 ... 1 2 2]\n",
            " ...\n",
            " [0 0 3 ... 2 1 1]\n",
            " [0 3 4 ... 1 1 3]\n",
            " [3 4 4 ... 1 3 1]]\n",
            "[[0 0 0 ... 0 1 1]\n",
            " [0 0 0 ... 1 1 2]\n",
            " [0 0 0 ... 1 2 2]\n",
            " ...\n",
            " [0 0 0 ... 2 2 1]\n",
            " [0 0 3 ... 2 1 1]\n",
            " [0 3 4 ... 1 1 3]]\n"
          ],
          "name": "stdout"
        }
      ]
    },
    {
      "cell_type": "code",
      "metadata": {
        "id": "pWSt4TxlUYDG"
      },
      "source": [
        "input_sanitized = []\n",
        "\n",
        "for line in dna_sanitized:\n",
        "\ttoken_list = tokenizer.texts_to_sequences([line])[0]\n",
        "\tfor i in range(1, len(token_list)):\n",
        "\t\tn_gram_sequence = token_list[:i+1]\n",
        "\t\tinput_sanitized.append(n_gram_sequence)\n",
        "\n",
        "#pad sequences\n",
        "max_sequence_len = max([len(x) for x in input_sanitized])\n",
        "input_sequences = np.array(pad_sequences(input_sanitized, maxlen=max_sequence_len, padding='pre'))\n",
        "\n",
        "ys, labels_y = input_sequences[:,:-1],input_sequences[:,-1]\n",
        "\n",
        "ys = tf.keras.utils.to_categorical(labels_y, num_classes=vocab_length)"
      ],
      "execution_count": 26,
      "outputs": []
    },
    {
      "cell_type": "markdown",
      "metadata": {
        "id": "BnTRmRr_Usus"
      },
      "source": [
        "#Costruzione del modello Rnn con layer LSTM"
      ]
    },
    {
      "cell_type": "markdown",
      "metadata": {
        "id": "RRdnF-T7GW3A"
      },
      "source": [
        "##Modello RNN Bidirezionale(LSTM)"
      ]
    },
    {
      "cell_type": "markdown",
      "metadata": {
        "id": "cnKFEBGnK7MP"
      },
      "source": [
        "**N.B:** Bidirectional fa una copia del layer RNN passatogli come argomento e, attraverso il campo go_backwards, riesce a capovolgere l'input, quindi ad elaborarlo anche in ordine inverso.\n",
        "Questo apporccio non tiene conto solo delle parole successive da generare, ma anche del contesto che c'è intorno al carattere/parola successiva al fine di ottere una migliore predizione, preservando più informazioni utili nel tempo."
      ]
    },
    {
      "cell_type": "code",
      "metadata": {
        "id": "lyPaav9HU1U-"
      },
      "source": [
        "def bidirectional_rnn(vocab, max_seq_len):\n",
        "  print(\"Bidirectional LSTM MODEL\")\n",
        "  model_bidirectional = Sequential(name=\"metagenomic prediction bidirectional\")\n",
        "  model_bidirectional.add(Embedding(vocab, 110, input_length=max_seq_len, name=\"input_layer\"))\n",
        "  model_bidirectional.add(Bidirectional(LSTM(150), name=\"LSTM\"))\n",
        "  model_bidirectional.add(Dense(vocab, activation='softmax', name=\"output_layer\"))\n",
        "\n",
        "  adam = Adam(lr=0.01)\n",
        "  model_bidirectional.compile(loss='categorical_crossentropy', optimizer=adam, metrics=['accuracy'])\n",
        "\n",
        "  return model_bidirectional"
      ],
      "execution_count": 27,
      "outputs": []
    },
    {
      "cell_type": "code",
      "metadata": {
        "colab": {
          "base_uri": "https://localhost:8080/"
        },
        "id": "Dop7BAANU21P",
        "outputId": "ec411a15-0f85-447c-94a8-84ffc24a0e80"
      },
      "source": [
        "model_bidirectional = bidirectional_rnn(vocab_length, max_sequence_len-1)\n",
        "model_bidirectional.summary()"
      ],
      "execution_count": 28,
      "outputs": [
        {
          "output_type": "stream",
          "text": [
            "Bidirectional LSTM MODEL\n",
            "Model: \"metagenomic prediction bidirectional\"\n",
            "_________________________________________________________________\n",
            "Layer (type)                 Output Shape              Param #   \n",
            "=================================================================\n",
            "input_layer (Embedding)      (None, 19, 110)           550       \n",
            "_________________________________________________________________\n",
            "LSTM (Bidirectional)         (None, 300)               313200    \n",
            "_________________________________________________________________\n",
            "output_layer (Dense)         (None, 5)                 1505      \n",
            "=================================================================\n",
            "Total params: 315,255\n",
            "Trainable params: 315,255\n",
            "Non-trainable params: 0\n",
            "_________________________________________________________________\n"
          ],
          "name": "stdout"
        }
      ]
    },
    {
      "cell_type": "markdown",
      "metadata": {
        "id": "SsYlsw4_Gbcc"
      },
      "source": [
        "##Training del modello bidirezionale"
      ]
    },
    {
      "cell_type": "code",
      "metadata": {
        "colab": {
          "base_uri": "https://localhost:8080/"
        },
        "id": "nLpqqVH6U4mG",
        "outputId": "d68bbfae-b4ed-4daf-cd84-2304d777dcf9"
      },
      "source": [
        "history_bidirectional = model_bidirectional.fit(xs, ys, epochs=50, verbose=1)"
      ],
      "execution_count": 29,
      "outputs": [
        {
          "output_type": "stream",
          "text": [
            "Epoch 1/50\n",
            "380/380 [==============================] - 1s 4ms/sample - loss: 1.4921 - accuracy: 0.2395\n",
            "Epoch 2/50\n",
            "380/380 [==============================] - 1s 2ms/sample - loss: 1.4117 - accuracy: 0.2579\n",
            "Epoch 3/50\n",
            "380/380 [==============================] - 1s 2ms/sample - loss: 1.3988 - accuracy: 0.2842\n",
            "Epoch 4/50\n",
            "380/380 [==============================] - 1s 2ms/sample - loss: 1.4088 - accuracy: 0.2579\n",
            "Epoch 5/50\n",
            "380/380 [==============================] - 1s 3ms/sample - loss: 1.3851 - accuracy: 0.3158\n",
            "Epoch 6/50\n",
            "380/380 [==============================] - 1s 2ms/sample - loss: 1.3659 - accuracy: 0.3237\n",
            "Epoch 7/50\n",
            "380/380 [==============================] - 1s 2ms/sample - loss: 1.3498 - accuracy: 0.3553\n",
            "Epoch 8/50\n",
            "380/380 [==============================] - 1s 2ms/sample - loss: 1.3179 - accuracy: 0.3763\n",
            "Epoch 9/50\n",
            "380/380 [==============================] - 1s 2ms/sample - loss: 1.3023 - accuracy: 0.3921\n",
            "Epoch 10/50\n",
            "380/380 [==============================] - 1s 2ms/sample - loss: 1.2703 - accuracy: 0.4211\n",
            "Epoch 11/50\n",
            "380/380 [==============================] - 1s 2ms/sample - loss: 1.1874 - accuracy: 0.4474\n",
            "Epoch 12/50\n",
            "380/380 [==============================] - 1s 2ms/sample - loss: 1.1200 - accuracy: 0.4789\n",
            "Epoch 13/50\n",
            "380/380 [==============================] - 1s 2ms/sample - loss: 0.9875 - accuracy: 0.5763\n",
            "Epoch 14/50\n",
            "380/380 [==============================] - 1s 2ms/sample - loss: 0.8597 - accuracy: 0.6342\n",
            "Epoch 15/50\n",
            "380/380 [==============================] - 1s 2ms/sample - loss: 0.6739 - accuracy: 0.7447\n",
            "Epoch 16/50\n",
            "380/380 [==============================] - 1s 2ms/sample - loss: 0.5439 - accuracy: 0.8053\n",
            "Epoch 17/50\n",
            "380/380 [==============================] - 1s 2ms/sample - loss: 0.3623 - accuracy: 0.8763\n",
            "Epoch 18/50\n",
            "380/380 [==============================] - 1s 2ms/sample - loss: 0.2409 - accuracy: 0.9237\n",
            "Epoch 19/50\n",
            "380/380 [==============================] - 1s 3ms/sample - loss: 0.2006 - accuracy: 0.9289\n",
            "Epoch 20/50\n",
            "380/380 [==============================] - 1s 3ms/sample - loss: 0.1732 - accuracy: 0.9368\n",
            "Epoch 21/50\n",
            "380/380 [==============================] - 1s 2ms/sample - loss: 0.1377 - accuracy: 0.9395\n",
            "Epoch 22/50\n",
            "380/380 [==============================] - 1s 3ms/sample - loss: 0.1394 - accuracy: 0.9368\n",
            "Epoch 23/50\n",
            "380/380 [==============================] - 1s 3ms/sample - loss: 0.1257 - accuracy: 0.9395\n",
            "Epoch 24/50\n",
            "380/380 [==============================] - 1s 3ms/sample - loss: 0.1235 - accuracy: 0.9474\n",
            "Epoch 25/50\n",
            "380/380 [==============================] - 1s 3ms/sample - loss: 0.1149 - accuracy: 0.9395\n",
            "Epoch 26/50\n",
            "380/380 [==============================] - 1s 3ms/sample - loss: 0.1115 - accuracy: 0.9342\n",
            "Epoch 27/50\n",
            "380/380 [==============================] - 1s 2ms/sample - loss: 0.1176 - accuracy: 0.9395\n",
            "Epoch 28/50\n",
            "380/380 [==============================] - 1s 3ms/sample - loss: 0.1249 - accuracy: 0.9316\n",
            "Epoch 29/50\n",
            "380/380 [==============================] - 1s 3ms/sample - loss: 0.1187 - accuracy: 0.9316\n",
            "Epoch 30/50\n",
            "380/380 [==============================] - 1s 2ms/sample - loss: 0.1088 - accuracy: 0.9368\n",
            "Epoch 31/50\n",
            "380/380 [==============================] - 1s 2ms/sample - loss: 0.1096 - accuracy: 0.9447\n",
            "Epoch 32/50\n",
            "380/380 [==============================] - 1s 3ms/sample - loss: 0.1157 - accuracy: 0.9368\n",
            "Epoch 33/50\n",
            "380/380 [==============================] - 1s 3ms/sample - loss: 0.1067 - accuracy: 0.9526\n",
            "Epoch 34/50\n",
            "380/380 [==============================] - 1s 3ms/sample - loss: 0.1166 - accuracy: 0.9368\n",
            "Epoch 35/50\n",
            "380/380 [==============================] - 1s 3ms/sample - loss: 0.1008 - accuracy: 0.9395\n",
            "Epoch 36/50\n",
            "380/380 [==============================] - 1s 3ms/sample - loss: 0.1065 - accuracy: 0.9395\n",
            "Epoch 37/50\n",
            "380/380 [==============================] - 1s 3ms/sample - loss: 0.1062 - accuracy: 0.9368\n",
            "Epoch 38/50\n",
            "380/380 [==============================] - 1s 3ms/sample - loss: 0.1037 - accuracy: 0.9368\n",
            "Epoch 39/50\n",
            "380/380 [==============================] - 1s 3ms/sample - loss: 0.1064 - accuracy: 0.9447\n",
            "Epoch 40/50\n",
            "380/380 [==============================] - 1s 3ms/sample - loss: 0.1073 - accuracy: 0.9395\n",
            "Epoch 41/50\n",
            "380/380 [==============================] - 1s 3ms/sample - loss: 0.1027 - accuracy: 0.9368\n",
            "Epoch 42/50\n",
            "380/380 [==============================] - 1s 2ms/sample - loss: 0.1014 - accuracy: 0.9474\n",
            "Epoch 43/50\n",
            "380/380 [==============================] - 1s 2ms/sample - loss: 0.1059 - accuracy: 0.9368\n",
            "Epoch 44/50\n",
            "380/380 [==============================] - 1s 2ms/sample - loss: 0.1064 - accuracy: 0.9395\n",
            "Epoch 45/50\n",
            "380/380 [==============================] - 1s 2ms/sample - loss: 0.1107 - accuracy: 0.9395\n",
            "Epoch 46/50\n",
            "380/380 [==============================] - 1s 2ms/sample - loss: 0.1053 - accuracy: 0.9368\n",
            "Epoch 47/50\n",
            "380/380 [==============================] - 1s 3ms/sample - loss: 0.1045 - accuracy: 0.9368\n",
            "Epoch 48/50\n",
            "380/380 [==============================] - 1s 3ms/sample - loss: 0.0990 - accuracy: 0.9368\n",
            "Epoch 49/50\n",
            "380/380 [==============================] - 1s 2ms/sample - loss: 0.1025 - accuracy: 0.9342\n",
            "Epoch 50/50\n",
            "380/380 [==============================] - 1s 2ms/sample - loss: 0.1005 - accuracy: 0.9421\n"
          ],
          "name": "stdout"
        }
      ]
    },
    {
      "cell_type": "markdown",
      "metadata": {
        "id": "m0Q2oHY_E7oH"
      },
      "source": [
        "##Modello RNN Unidirezionale(LSTM)"
      ]
    },
    {
      "cell_type": "code",
      "metadata": {
        "id": "CVgPhqxqFDKD"
      },
      "source": [
        "def unidirectional_rnn(vocab, max_seq_len):\n",
        "  print(\"Unidirectional LSTM MODEL\")\n",
        "  model_unidirectional = Sequential(name=\"metagenomic prediction unidirectional\")\n",
        "  model_unidirectional.add(Embedding(vocab, 110, input_length=max_seq_len, name=\"input_layer\"))\n",
        "  model_unidirectional.add(LSTM(150, go_backwards=False))\n",
        "  model_unidirectional.add(Dense(vocab, activation='softmax', name=\"output_layer\"))\n",
        "\n",
        "  adam = Adam(lr=0.01)\n",
        "  model_unidirectional.compile(loss='categorical_crossentropy', optimizer=adam, metrics=['accuracy'])\n",
        "\n",
        "  return model_unidirectional"
      ],
      "execution_count": 33,
      "outputs": []
    },
    {
      "cell_type": "code",
      "metadata": {
        "id": "o6rwZa3-FHej",
        "colab": {
          "base_uri": "https://localhost:8080/"
        },
        "outputId": "38aa766e-9934-4f90-9aab-e5d37006e54b"
      },
      "source": [
        "model_unidirectional = unidirectional_rnn(vocab_length, max_sequence_len-1)\n",
        "model_unidirectional.summary()"
      ],
      "execution_count": 34,
      "outputs": [
        {
          "output_type": "stream",
          "text": [
            "Unidirectional LSTM MODEL\n",
            "Model: \"metagenomic prediction unidirectional\"\n",
            "_________________________________________________________________\n",
            "Layer (type)                 Output Shape              Param #   \n",
            "=================================================================\n",
            "input_layer (Embedding)      (None, 19, 110)           550       \n",
            "_________________________________________________________________\n",
            "unified_lstm_3 (UnifiedLSTM) (None, 150)               156600    \n",
            "_________________________________________________________________\n",
            "output_layer (Dense)         (None, 5)                 755       \n",
            "=================================================================\n",
            "Total params: 157,905\n",
            "Trainable params: 157,905\n",
            "Non-trainable params: 0\n",
            "_________________________________________________________________\n"
          ],
          "name": "stdout"
        }
      ]
    },
    {
      "cell_type": "markdown",
      "metadata": {
        "id": "F6IJzIqbFoxN"
      },
      "source": [
        "##Training del modello unidirezionale"
      ]
    },
    {
      "cell_type": "code",
      "metadata": {
        "id": "11HoxjlsFL5V",
        "colab": {
          "base_uri": "https://localhost:8080/"
        },
        "outputId": "405bd3a0-1046-4258-9432-8933c3044078"
      },
      "source": [
        "history_unidirectional = model_unidirectional.fit(xs, ys, epochs=50, verbose=1)"
      ],
      "execution_count": 35,
      "outputs": [
        {
          "output_type": "stream",
          "text": [
            "Epoch 1/50\n",
            "380/380 [==============================] - 1s 2ms/sample - loss: 1.5715 - accuracy: 0.2474\n",
            "Epoch 2/50\n",
            "380/380 [==============================] - 1s 1ms/sample - loss: 1.4132 - accuracy: 0.2395\n",
            "Epoch 3/50\n",
            "380/380 [==============================] - 1s 1ms/sample - loss: 1.3968 - accuracy: 0.2395\n",
            "Epoch 4/50\n",
            "380/380 [==============================] - 0s 1ms/sample - loss: 1.3846 - accuracy: 0.2842\n",
            "Epoch 5/50\n",
            "380/380 [==============================] - 1s 1ms/sample - loss: 1.3826 - accuracy: 0.3026\n",
            "Epoch 6/50\n",
            "380/380 [==============================] - 0s 1ms/sample - loss: 1.3787 - accuracy: 0.3079\n",
            "Epoch 7/50\n",
            "380/380 [==============================] - 0s 1ms/sample - loss: 1.3940 - accuracy: 0.2289\n",
            "Epoch 8/50\n",
            "380/380 [==============================] - 1s 1ms/sample - loss: 1.3951 - accuracy: 0.3026\n",
            "Epoch 9/50\n",
            "380/380 [==============================] - 1s 1ms/sample - loss: 1.3838 - accuracy: 0.2974\n",
            "Epoch 10/50\n",
            "380/380 [==============================] - 0s 1ms/sample - loss: 1.3669 - accuracy: 0.2974\n",
            "Epoch 11/50\n",
            "380/380 [==============================] - 1s 1ms/sample - loss: 1.3650 - accuracy: 0.3132\n",
            "Epoch 12/50\n",
            "380/380 [==============================] - 1s 1ms/sample - loss: 1.3598 - accuracy: 0.3500\n",
            "Epoch 13/50\n",
            "380/380 [==============================] - 0s 1ms/sample - loss: 1.3498 - accuracy: 0.3342\n",
            "Epoch 14/50\n",
            "380/380 [==============================] - 0s 1ms/sample - loss: 1.3382 - accuracy: 0.3579\n",
            "Epoch 15/50\n",
            "380/380 [==============================] - 1s 1ms/sample - loss: 1.3341 - accuracy: 0.3553\n",
            "Epoch 16/50\n",
            "380/380 [==============================] - 1s 1ms/sample - loss: 1.3027 - accuracy: 0.3658\n",
            "Epoch 17/50\n",
            "380/380 [==============================] - 1s 1ms/sample - loss: 1.2849 - accuracy: 0.3921\n",
            "Epoch 18/50\n",
            "380/380 [==============================] - 1s 1ms/sample - loss: 1.2444 - accuracy: 0.4184\n",
            "Epoch 19/50\n",
            "380/380 [==============================] - 1s 1ms/sample - loss: 1.1943 - accuracy: 0.4684\n",
            "Epoch 20/50\n",
            "380/380 [==============================] - 0s 1ms/sample - loss: 1.1270 - accuracy: 0.5079\n",
            "Epoch 21/50\n",
            "380/380 [==============================] - 1s 1ms/sample - loss: 1.0206 - accuracy: 0.5421\n",
            "Epoch 22/50\n",
            "380/380 [==============================] - 0s 1ms/sample - loss: 0.8842 - accuracy: 0.6368\n",
            "Epoch 23/50\n",
            "380/380 [==============================] - 1s 1ms/sample - loss: 0.7209 - accuracy: 0.7184\n",
            "Epoch 24/50\n",
            "380/380 [==============================] - 0s 1ms/sample - loss: 0.5628 - accuracy: 0.7947\n",
            "Epoch 25/50\n",
            "380/380 [==============================] - 1s 1ms/sample - loss: 0.4113 - accuracy: 0.8553\n",
            "Epoch 26/50\n",
            "380/380 [==============================] - 0s 1ms/sample - loss: 0.2813 - accuracy: 0.9105\n",
            "Epoch 27/50\n",
            "380/380 [==============================] - 1s 1ms/sample - loss: 0.2026 - accuracy: 0.9342\n",
            "Epoch 28/50\n",
            "380/380 [==============================] - 1s 1ms/sample - loss: 0.1729 - accuracy: 0.9263\n",
            "Epoch 29/50\n",
            "380/380 [==============================] - 1s 1ms/sample - loss: 0.1484 - accuracy: 0.9342\n",
            "Epoch 30/50\n",
            "380/380 [==============================] - 0s 1ms/sample - loss: 0.1366 - accuracy: 0.9395\n",
            "Epoch 31/50\n",
            "380/380 [==============================] - 1s 1ms/sample - loss: 0.1273 - accuracy: 0.9395\n",
            "Epoch 32/50\n",
            "380/380 [==============================] - 1s 1ms/sample - loss: 0.1164 - accuracy: 0.9447\n",
            "Epoch 33/50\n",
            "380/380 [==============================] - 1s 1ms/sample - loss: 0.1190 - accuracy: 0.9447\n",
            "Epoch 34/50\n",
            "380/380 [==============================] - 1s 1ms/sample - loss: 0.1135 - accuracy: 0.9368\n",
            "Epoch 35/50\n",
            "380/380 [==============================] - 1s 1ms/sample - loss: 0.1095 - accuracy: 0.9421\n",
            "Epoch 36/50\n",
            "380/380 [==============================] - 1s 1ms/sample - loss: 0.1059 - accuracy: 0.9395\n",
            "Epoch 37/50\n",
            "380/380 [==============================] - 0s 1ms/sample - loss: 0.1105 - accuracy: 0.9368\n",
            "Epoch 38/50\n",
            "380/380 [==============================] - 1s 1ms/sample - loss: 0.1054 - accuracy: 0.9421\n",
            "Epoch 39/50\n",
            "380/380 [==============================] - 1s 1ms/sample - loss: 0.1038 - accuracy: 0.9474\n",
            "Epoch 40/50\n",
            "380/380 [==============================] - 0s 1ms/sample - loss: 0.1073 - accuracy: 0.9421\n",
            "Epoch 41/50\n",
            "380/380 [==============================] - 1s 1ms/sample - loss: 0.1032 - accuracy: 0.9474\n",
            "Epoch 42/50\n",
            "380/380 [==============================] - 0s 1ms/sample - loss: 0.1042 - accuracy: 0.9447\n",
            "Epoch 43/50\n",
            "380/380 [==============================] - 1s 1ms/sample - loss: 0.1052 - accuracy: 0.9395\n",
            "Epoch 44/50\n",
            "380/380 [==============================] - 1s 1ms/sample - loss: 0.1054 - accuracy: 0.9421\n",
            "Epoch 45/50\n",
            "380/380 [==============================] - 1s 1ms/sample - loss: 0.1039 - accuracy: 0.9447\n",
            "Epoch 46/50\n",
            "380/380 [==============================] - 1s 1ms/sample - loss: 0.1030 - accuracy: 0.9395\n",
            "Epoch 47/50\n",
            "380/380 [==============================] - 1s 1ms/sample - loss: 0.1085 - accuracy: 0.9342\n",
            "Epoch 48/50\n",
            "380/380 [==============================] - 0s 1ms/sample - loss: 0.1024 - accuracy: 0.9368\n",
            "Epoch 49/50\n",
            "380/380 [==============================] - 1s 1ms/sample - loss: 0.1053 - accuracy: 0.9289\n",
            "Epoch 50/50\n",
            "380/380 [==============================] - 0s 1ms/sample - loss: 0.0998 - accuracy: 0.9342\n"
          ],
          "name": "stdout"
        }
      ]
    },
    {
      "cell_type": "markdown",
      "metadata": {
        "id": "kjVVsF1rGo-T"
      },
      "source": [
        "##Plot curva di Training"
      ]
    },
    {
      "cell_type": "code",
      "metadata": {
        "id": "rZidmnc-U79N"
      },
      "source": [
        "def plot_graphs(history, string, name_model):\n",
        "  title = \"Visualizzazione della curva di Training del modello \" + name_model\n",
        "  plt.suptitle(title)\n",
        "  plt.plot(history.history[string])\n",
        "  plt.xlabel(\"Epoche\")\n",
        "  plt.ylabel(ylabel=\"Accuratezza\")\n",
        "  plt.show()"
      ],
      "execution_count": 36,
      "outputs": []
    },
    {
      "cell_type": "code",
      "metadata": {
        "colab": {
          "base_uri": "https://localhost:8080/",
          "height": 308
        },
        "id": "tt-T68mJU98S",
        "outputId": "19a29fe7-3b4d-409b-9e45-161fd6de1c00"
      },
      "source": [
        "plot_graphs(history_bidirectional, 'accuracy', \"bidirezionale\")"
      ],
      "execution_count": 37,
      "outputs": [
        {
          "output_type": "display_data",
          "data": {
            "image/png": "[encoded data removed]",
            "text/plain": [
              "<Figure size 432x288 with 1 Axes>"
            ]
          },
          "metadata": {
            "tags": [],
            "needs_background": "light"
          }
        }
      ]
    },
    {
      "cell_type": "code",
      "metadata": {
        "id": "Nc16N7CXG6dM",
        "colab": {
          "base_uri": "https://localhost:8080/",
          "height": 308
        },
        "outputId": "77423730-5771-45c0-d55f-3e5c53d3ed70"
      },
      "source": [
        "plot_graphs(history_unidirectional, 'accuracy', \"unidirezionale\")"
      ],
      "execution_count": 38,
      "outputs": [
        {
          "output_type": "display_data",
          "data": {
            "image/png": "[encoded data removed]",
            "text/plain": [
              "<Figure size 432x288 with 1 Axes>"
            ]
          },
          "metadata": {
            "tags": [],
            "needs_background": "light"
          }
        }
      ]
    },
    {
      "cell_type": "code",
      "metadata": {
        "id": "cfiDYGL-gxHo"
      },
      "source": [
        "def make_prediction(next_word_len, tokenizer, model, text_to_predict, j):\n",
        "\tfor _ in range(next_word_len):\n",
        "\t\ttoken_list = tokenizer.texts_to_sequences([text_to_predict])[0]\n",
        "\t\ttoken_list = pad_sequences([token_list], maxlen=max_sequence_len-1, padding='pre')\n",
        "\t\tpredicted = model.predict_classes(token_list, verbose=0)\n",
        "\t\toutput_word = \"\"\n",
        "\t\tfor word, index in tokenizer.word_index.items():\n",
        "\t\t\tif index == predicted:\n",
        "\t\t\t\toutput_word = word\n",
        "\t\t\t\tbreak\n",
        "\t\ttext_to_predict += \"\" + output_word \n",
        "\t\tj += \"\" + output_word \n",
        "\t\tnew_sequence = \"\".join(j) #isolo la nuova sequenza generata\n",
        "\treturn new_sequence"
      ],
      "execution_count": 44,
      "outputs": []
    },
    {
      "cell_type": "code",
      "metadata": {
        "id": "N0ienvjiiw8_"
      },
      "source": [
        "def make_upper(text, index):\n",
        "  s = \"\"\n",
        "  for i in text:\n",
        "    if i == \"a\":\n",
        "      s = \"A\"\n",
        "    if i == \"c\":\n",
        "      s = \"C\"\n",
        "    if i == \"g\":\n",
        "      s = \"G\"\n",
        "    if i == \"t\":\n",
        "      s = \"T\"\n",
        "    index += \"\" + s\n",
        "    text = \"\".join(index)\n",
        "  return text"
      ],
      "execution_count": 40,
      "outputs": []
    },
    {
      "cell_type": "markdown",
      "metadata": {
        "id": "143wOQzGFQlL"
      },
      "source": [
        "## Predizione partendo da metà sequenza non sanificata appartenente al dataset di partenza utilizzato per il training."
      ]
    },
    {
      "cell_type": "code",
      "metadata": {
        "id": "5RvJrUsGH3nL",
        "colab": {
          "base_uri": "https://localhost:8080/"
        },
        "outputId": "5f7121ed-2e4d-4f77-c632-1b78b75a7091"
      },
      "source": [
        "#predizione con metà sequenza esistente\n",
        "existing_dna_seq = dna_not_sanitized[1]\n",
        "half_seq_length = int(seq_length / 2)\n",
        "\n",
        "\n",
        "text_to_predict = existing_dna_seq[0:10]\n",
        "next_words = half_seq_length\n",
        "new_sequence = []\n",
        "increase_string = \"\"\n",
        "\n",
        "new_sequence = make_prediction(next_words, tokenizer, model_unidirectional, text_to_predict, increase_string)\n",
        "\n",
        "print(make_upper(new_sequence, \"\")) #concatenazione tra sequenza passata in input e la nuova generata"
      ],
      "execution_count": 60,
      "outputs": [
        {
          "output_type": "stream",
          "text": [
            "CCCCCCCCTC\n"
          ],
          "name": "stdout"
        }
      ]
    },
    {
      "cell_type": "code",
      "metadata": {
        "colab": {
          "base_uri": "https://localhost:8080/"
        },
        "id": "95KCZvvAHxdo",
        "outputId": "59fb1f26-914d-4fe9-fcfc-12718786a8bd"
      },
      "source": [
        "print(\"Dna not sanitized in pos 0:\" , dna_not_sanitized[1])\n",
        "print(\"Dna sanitized in pos 0:    \" ,dna_sanitized[1])\n",
        "print(vocab)"
      ],
      "execution_count": 50,
      "outputs": [
        {
          "output_type": "stream",
          "text": [
            "Dna not sanitized in pos 0: CTCGTGTAACTGCCACTTCA\n",
            "Dna sanitized in pos 0:     ATGTTGAGTGCGCATGACAC\n",
            "{'c': 1, 'a': 2, 'g': 3, 't': 4}\n"
          ],
          "name": "stdout"
        }
      ]
    },
    {
      "cell_type": "markdown",
      "metadata": {
        "id": "ybE9QpyqGCHM"
      },
      "source": [
        "##Predizione partendo da metà sequenza randomica"
      ]
    },
    {
      "cell_type": "code",
      "metadata": {
        "colab": {
          "base_uri": "https://localhost:8080/"
        },
        "id": "-ONs5spxg1rp",
        "outputId": "cb8f0d28-ce85-4c86-a29e-a687adc87615"
      },
      "source": [
        "#genero metà sequenza di dna non sanificato\n",
        "half_seq_length = int(seq_length / 2)\n",
        "half_sequence = [random.choice(bases_list) for _ in range(half_seq_length)]\n",
        "half_sequence = \"\".join(half_sequence)\n",
        "\n",
        "print(half_sequence)"
      ],
      "execution_count": 51,
      "outputs": [
        {
          "output_type": "stream",
          "text": [
            "GCACCTAACT\n"
          ],
          "name": "stdout"
        }
      ]
    },
    {
      "cell_type": "code",
      "metadata": {
        "colab": {
          "base_uri": "https://localhost:8080/"
        },
        "id": "cZx5OkTB-5_R",
        "outputId": "b0d76205-e7d9-43e5-aff7-ef62e6e62ce0"
      },
      "source": [
        "text_to_predict = half_sequence\n",
        "next_words = half_seq_length\n",
        "new_sequence = []\n",
        "increase_string = \"\"\n",
        "\n",
        "new_sequence = make_prediction(next_words, tokenizer, model_bidirectional, text_to_predict, increase_string)\n",
        "#new_sequence , text_to_predict = make_prediction(next_words, tokenizer, model, text_to_predict, increase_string)\n",
        "\n",
        "#print(text_to_predict) #concatenazione tra sequenza passata in input e la nuova generata\n",
        "print(make_upper(new_sequence,\"\"))"
      ],
      "execution_count": 62,
      "outputs": [
        {
          "output_type": "stream",
          "text": [
            "CTCGCACAGG\n"
          ],
          "name": "stdout"
        }
      ]
    },
    {
      "cell_type": "markdown",
      "metadata": {
        "id": "ievTU1NIGin9"
      },
      "source": [
        "##Predizione di una sequenza costituita da 440 caratteri."
      ]
    },
    {
      "cell_type": "markdown",
      "metadata": {
        "id": "esbyPwmy2ac9"
      },
      "source": [
        " Come si procede? Si scompone la sequenza lunga 440 in 44 sottosequenze, ognuna lunga 10 caratteri (questo perchè il modello risulta accurato per la predizione di stringhe lunghe 10 caratteri); poi per ognuna si genera la sequenza sanificata; infine si costruisce la sequenza finale tenendo conto dell'ordine di partenza relativo alle sottosequenze.\n",
        " "
      ]
    },
    {
      "cell_type": "code",
      "metadata": {
        "id": "scHVDYYgaVdv"
      },
      "source": [
        "rnd_max_len = 440\n",
        "sub_seq_len = 10\n",
        "n_sub_seq = 44\n",
        "not_sanitized_max = []\n",
        "sub_seq_data = []\n",
        "\n",
        "random_seq_generation(1, rnd_max_len, not_sanitized_max)"
      ],
      "execution_count": 63,
      "outputs": []
    },
    {
      "cell_type": "code",
      "metadata": {
        "id": "zECPPK0d-vLo"
      },
      "source": [
        "sequence = not_sanitized_max[0]"
      ],
      "execution_count": 64,
      "outputs": []
    },
    {
      "cell_type": "code",
      "metadata": {
        "id": "nEqFPcbb_BOG"
      },
      "source": [
        "#grazie a questa funzione si riesce a dividere l'intera sequenza di lunghezza 440 in 44 sottosequenze, ognuna di 10 caratteri; si crea, quindi, una lista di sottosequenze\n",
        "def sub_seq_data_generator(entire_sequence, sub_len, n_sub_seq):\n",
        "  for i in range(n_sub_seq):\n",
        "    sub_seq = entire_sequence[i*sub_len:(i+1)*sub_len]\n",
        "    sub_seq_data.append(sub_seq)\n",
        "\n",
        "  return sub_seq_data"
      ],
      "execution_count": 65,
      "outputs": []
    },
    {
      "cell_type": "code",
      "metadata": {
        "id": "c4_b6VhjCFHd"
      },
      "source": [
        "sub_seq_data = sub_seq_data_generator(sequence, sub_seq_len, n_sub_seq)"
      ],
      "execution_count": 66,
      "outputs": []
    },
    {
      "cell_type": "code",
      "metadata": {
        "id": "ks5g6QXOHkWx"
      },
      "source": [
        "sanitized_sub_seq_data = []\n",
        "increase_sequence = \"\"\n",
        "\n",
        "for i in range(n_sub_seq):\n",
        "  sanitized_sub_seq_data.append(make_prediction(next_words, tokenizer, model_bidirectional, sub_seq_data[i], increase_sequence))"
      ],
      "execution_count": 67,
      "outputs": []
    },
    {
      "cell_type": "code",
      "metadata": {
        "id": "MgITChfEO9Jm"
      },
      "source": [
        "sanitized_max = \"\"\n",
        "\n",
        "for i in range(n_sub_seq):\n",
        "  sanitized_max += sanitized_sub_seq_data[i]"
      ],
      "execution_count": 68,
      "outputs": []
    },
    {
      "cell_type": "code",
      "metadata": {
        "colab": {
          "base_uri": "https://localhost:8080/"
        },
        "id": "nqaslNI_1ww7",
        "outputId": "e627bff8-ff5a-4e9d-baaa-036199c37612"
      },
      "source": [
        "print(\"Sequenza sanificata    : \" , make_upper(sanitized_max, \"\"))\n",
        "print(\"Sequenza non sanificata: \" , sequence)"
      ],
      "execution_count": 69,
      "outputs": [
        {
          "output_type": "stream",
          "text": [
            "Sequenza sanificata    :  GATTTAGCGCCATCACCCCCCGCTCACCTTGCACACCCTCTCATCATCACCACACACATGTCTTTCGAGGATATCGCCCAGACGCGTCAGCAGACTCCTCAACCCCCCCGCTCTCAGCGCTGCGATCTACTAACGCACCCCTCATTCGCAAACGCATTACCATCACCCCCCACCCCCCCTTCTCTACGGACCCCTCATCAACTCTCTCTAATGCGCACCCGATATCGTCATCATTCGCACCGCATTCATAGTGCGATCGCGACCCCTGTCCCCCCCCCCTTATCCTCAGGGACGCTTAGGACATTCACGCACGTAATCACCGCACCCCCCCCCCCTGTATTTAGCGCAGGGAAATCAGCCAGGACCCCCCCGCACCCCCCTACCCCCCCCCTTTGACGATACGTCACTTTTCATCAGCATTTAGCCAATCAGCGACGTTC\n",
            "Sequenza non sanificata:  GCGTACTTGCCCGGTAGGATTCGCCTCATTCAGGTGGTCACGTGCGCCGGTTTCACTGCGACCAGGCTCCTGCAGTAGATTAACATTGTCTCATTTAAACTTTGGGAGGCCCCTCGGTCTCTGAGATCTGGGAGGCGGATATAAGCCGCTCTCGCCGCTTCCCGGGATGTTTATTTAATAGCCCTCCCTGCTAAAGACAATATTGCGTGCAGTAAATTGTCCGAATACACGGCAGGGTCAGCGTATTCTATATAACTTGTTTTCTGTGCCGAACTTTGATAGGCAACCTGGGTGTCTCGACGTAGAATCCCTTCCGATAAGAGTTATATACGCACCAAACGGACACAAGCCTATGCTAAGGAGGGGATGGAGATGTGGTTCCTCATTATTACATTTAACAACCTCTCAGATCCCGCAAAACTAGTACCCTCAAGAAAGTT\n"
          ],
          "name": "stdout"
        }
      ]
    }
  ]
}