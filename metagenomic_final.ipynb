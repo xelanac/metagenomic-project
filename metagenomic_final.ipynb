{
  "nbformat": 4,
  "nbformat_minor": 0,
  "metadata": {
    "colab": {
      "name": "metagenomic_final.ipynb",
      "provenance": [],
      "collapsed_sections": [
        "RRdnF-T7GW3A",
        "SsYlsw4_Gbcc",
        "143wOQzGFQlL"
      ],
      "authorship_tag": "ABX9TyM4LGgzo0CYkqn73t4Xrwfh",
      "include_colab_link": true
    },
    "kernelspec": {
      "display_name": "Python 3",
      "name": "python3"
    }
  },
  "cells": [
    {
      "cell_type": "markdown",
      "metadata": {
        "id": "view-in-github",
        "colab_type": "text"
      },
      "source": [
        "<a href=\"https://colab.research.google.com/github/xelanac/metagenomic_project/blob/main/metagenomic_final.ipynb\" target=\"_parent\"><img src=\"https://colab.research.google.com/assets/colab-badge.svg\" alt=\"Open In Colab\"/></a>"
      ]
    },
    {
      "cell_type": "markdown",
      "metadata": {
        "id": "x4AruxVWPFnO"
      },
      "source": [
        "#Import delle librerie"
      ]
    },
    {
      "cell_type": "code",
      "metadata": {
        "id": "DDP2iYK4O-X6"
      },
      "source": [
        "%%capture\n",
        "!pip3 install google-nucleus==0.4.0\n",
        "!pip install -q tensorflow==2.0.0-alpha0\n",
        "\n",
        "from __future__ import absolute_import\n",
        "from __future__ import division\n",
        "from __future__ import print_function\n",
        "\n",
        "import os\n",
        "import random\n",
        "\n",
        "import numpy as np\n",
        "\n",
        "#librerie per la lettura dei file fastq\n",
        "from nucleus.io import fastq\n",
        "from nucleus.io import fasta\n",
        "from nucleus.io import sam\n",
        "from nucleus.io import vcf\n",
        "from nucleus.io.genomics_writer import TFRecordWriter\n",
        "from nucleus.protos import reads_pb2\n",
        "from nucleus.util import cigar\n",
        "from nucleus.util import ranges\n",
        "from nucleus.util import utils\n",
        "\n",
        "import torch\n",
        "import tensorflow as tf\n",
        "from tensorflow import keras\n",
        "from tensorflow.keras import layers\n",
        "\n",
        "#matplotlib per il plot dell'accuratezza del modello in base ad ogni epoca\n",
        "import matplotlib.pyplot as plt\n",
        "\n",
        "#librerie per la creazione del vocabolario\n",
        "from tensorflow.keras.preprocessing.text import Tokenizer\n",
        "from tensorflow.keras.preprocessing.sequence import pad_sequences\n",
        "\n",
        "#librerie per la costruzione della rete neurale RNN\n",
        "from tensorflow.keras.layers import Embedding, LSTM, Dense, Bidirectional\n",
        "from tensorflow.keras.models import Sequential\n",
        "from tensorflow.keras.optimizers import Adam"
      ],
      "execution_count": 2,
      "outputs": []
    },
    {
      "cell_type": "markdown",
      "metadata": {
        "id": "98V_jRj4PROA"
      },
      "source": [
        "#Generazione di dataset randomici"
      ]
    },
    {
      "cell_type": "code",
      "metadata": {
        "id": "tDVaV9F9PVRs"
      },
      "source": [
        "bases_list = [\"A\",\"C\",\"G\",\"T\"]\n",
        "seq_length = 20\n",
        "seq_num = 20\n",
        "\n",
        "dna_not_sanitized = []\n",
        "dna_sanitized = []"
      ],
      "execution_count": 3,
      "outputs": []
    },
    {
      "cell_type": "code",
      "metadata": {
        "id": "DETl6UmH-CDh"
      },
      "source": [
        "def random_seq_generation(n_seq, seq_len, dataset):\n",
        "  for index in range(n_seq):\n",
        "    sequence = [random.choice(bases_list) for _ in range(seq_len)]\n",
        "    sequence = \"\".join(sequence)\n",
        "    dataset.append(sequence)"
      ],
      "execution_count": 4,
      "outputs": []
    },
    {
      "cell_type": "code",
      "metadata": {
        "id": "MTwW6If7-lQL"
      },
      "source": [
        "random_seq_generation(seq_num, seq_length, dna_not_sanitized)\n",
        "random_seq_generation(seq_num, seq_length, dna_sanitized)"
      ],
      "execution_count": 5,
      "outputs": []
    },
    {
      "cell_type": "markdown",
      "metadata": {
        "id": "khJvyYzMpeZZ"
      },
      "source": [
        "#Caricamento e analisi di dati reali (in questo caso trascurare la precedente sezione di generazione di dataset randomici)"
      ]
    },
    {
      "cell_type": "markdown",
      "metadata": {
        "id": "pGydAYSlqKNs"
      },
      "source": [
        "Collegamento al drive e import dei dati reali"
      ]
    },
    {
      "cell_type": "code",
      "metadata": {
        "id": "vAhdq0_cqA6n"
      },
      "source": [
        "#l'accesso al drive non è stato fatto attrsverso il codice, ma cliccando sull'icona della cartella drive\n",
        "#riporto, sottoforma di commento, anche il codice per montarlo\n",
        "\"\"\"\n",
        "from google.colab import drive\n",
        "drive.mount('/content/drive')\n",
        "\"\"\" \n",
        "# Leggo il file grezzo fastq con la libreria\n",
        "input_path_not_sanitized = \"/content/drive/My Drive/fastQ_data/T0-R2-U1.R1.fastq\"\n",
        "input_path_sanitized = \"/content/drive/My Drive/fastQ_data/T0-R2-U3.R1.fastq\"\n",
        "\n",
        "fastq_data_not_sanitized = fastq.FastqReader(input_path_not_sanitized)\n",
        "fastq_data_sanitized = fastq.FastqReader(input_path_sanitized)"
      ],
      "execution_count": null,
      "outputs": []
    },
    {
      "cell_type": "markdown",
      "metadata": {
        "id": "U1lKWqV6qaRT"
      },
      "source": [
        "Visualizzazione del fastQ"
      ]
    },
    {
      "cell_type": "code",
      "metadata": {
        "id": "qHUIOCoxqUpy"
      },
      "source": [
        "def read_fastq_structure(dataset):\n",
        "  for i in dataset:\n",
        "    print(i)\n",
        "    break;\n",
        "\n",
        "print(\"Dataset campionato prima dell'azione danificante: \" , read_fastq_structure(dna_not_sanitized , \"\\n\"))\n",
        "print(\"Dataset campionato dopo l'azione danificante: \", read_fastq_structure(dna_sanitized, \"\\n\"))"
      ],
      "execution_count": null,
      "outputs": []
    },
    {
      "cell_type": "markdown",
      "metadata": {
        "id": "AOIOfifdrOl5"
      },
      "source": [
        "Funzione per l'isolamento delle sequenze\n"
      ]
    },
    {
      "cell_type": "code",
      "metadata": {
        "id": "_sgKzZ5nrQ-i"
      },
      "source": [
        "# Definisco un metodo per la lettura di un record della libreria FASTQ\n",
        "# Eventualmente rivediamo il metodo ora lo prendo per buono ma c'è qualcosa che non va\n",
        "# Se lo lanci due volte sfalsa l'output\n",
        "\n",
        "def seq_isolation(fastq_data, seq_list, single_record):\n",
        "    seq_list.append(single_record)\n",
        "    single_sequence = str(seq_list[0])\n",
        "    single_record_list = single_sequence.split(\"\\n\") #lista contenente le proprietà di una singola sequenza(id, sequence, quality)\n",
        "\n",
        "    fastq_sequence = single_record_list[2].split(\" \") #2 è la posizione della sequenza\n",
        "    final_sequence = fastq_sequence[1] #posizione nella nuova lista\n",
        "    new_sequence = \"\"\n",
        "\n",
        "    for i in final_sequence: #tolgo le \"\" dalla stringa\n",
        "      if i != '\"':\n",
        "        new_sequence += i\n",
        "\n",
        "    final_sequence = new_sequence\n",
        "    #print(final_sequence)\n",
        "    return final_sequence  "
      ],
      "execution_count": null,
      "outputs": []
    },
    {
      "cell_type": "markdown",
      "metadata": {
        "id": "Dkpu9Fl0rbqM"
      },
      "source": [
        "**Inizio dell'analisi dei dati**"
      ]
    },
    {
      "cell_type": "code",
      "metadata": {
        "id": "dz7_pO84rdkW"
      },
      "source": [
        "# Creo due liste contenenti rispettivamente le sequenze del dna campionate prima e dopo l'azione sanificante\n",
        "fastq_data_list = []\n",
        "dna_not_sanitized = []\n",
        "dna_sanitized = []\n",
        "\n",
        "for index in fastq_data_not_sanitized:\n",
        "  dna_not_sanitized.append(seq_isolation(fastq_data_not_sanitized, fastq_data_list, index))\n",
        "\n",
        "fastq_data_list = []\n",
        "\n",
        "for index in fastq_data_sanitized:\n",
        "  dna_not_sanitized.append(seq_isolation(fastq_data_not_sanitized, fastq_data_list, index))\n",
        "\n",
        "# Stampo il numero di sequenze del dataset \"not_sanitized\"\n",
        "len(dna_not_sanitized)\n",
        "# Stampo il numero di sequenze del dataset \"sanitized\"\n",
        "len(dna_sanitized)"
      ],
      "execution_count": null,
      "outputs": []
    },
    {
      "cell_type": "markdown",
      "metadata": {
        "id": "wt9FrIPEsXsf"
      },
      "source": [
        "Check sulla lunghezza delle sequenze"
      ]
    },
    {
      "cell_type": "code",
      "metadata": {
        "id": "LKNr1LGxsZ4Z"
      },
      "source": [
        "#Lunghezza massima e minima del dataset \"not_sanitized\"\n",
        "print(\"Lunghezza massima delle sequenze dna_not_sanitized: \" , len(max(dna_not_sanitized, key=len)))\n",
        "print(\"Lunghezza minima delle sequenze dna_not_sanitized: \" , len(min(dna_not_sanitized, key=len)), \"\\n\")\n",
        "\n",
        "#Lunghezza massima e minima del dataset \"sanitized\"\n",
        "print(\"Lunghezza massima delle sequenze dna_sanitized: \" ,  len(max(dna_sanitized, key=len)))\n",
        "print(\"Lunghezza minima delle sequenze dna_sanitized: \" , len(min(dna_sanitized, key=len)))"
      ],
      "execution_count": null,
      "outputs": []
    },
    {
      "cell_type": "markdown",
      "metadata": {
        "id": "5nm26iWyti0e"
      },
      "source": [
        "Check che verifica se la sequenza ha qualche parametro \"K\", il quale indica un'imprecisione in fase di campionamento"
      ]
    },
    {
      "cell_type": "code",
      "metadata": {
        "id": "x2jSNcbOtr8H"
      },
      "source": [
        "def sequences_check(sequences_list):\n",
        "  i = 0\n",
        "\n",
        "  for single_sequence in sequences_list:\n",
        "    for index in single_sequence:\n",
        "      if index == \"K\":\n",
        "        return True\n",
        "    i+= 1\n",
        "  return False\n",
        "  \n",
        "print(\"Check delle sequenze non sanificate: \\n\", sequence_check(dna_not_sanitized))\n",
        "print(\"Check delle sequenze  sanificate: \\n\", sequence_check(dna_sanitized))"
      ],
      "execution_count": null,
      "outputs": []
    },
    {
      "cell_type": "markdown",
      "metadata": {
        "id": "4Fee-J8Hv6Xl"
      },
      "source": [
        "Se la funzione \"sequence_check\" restituisce \"True per una delle due liste, procedere con la correzione; altrimenti procedere con la creazione del vocabolario"
      ]
    },
    {
      "cell_type": "code",
      "metadata": {
        "id": "YA9OYhpBwKxS"
      },
      "source": [
        "#con questo metodo sostituisco il parametro \"k\" con una delle basi azotate(in questo caso ho scelto l'Adenina)\n",
        "def sequences_correction(sequences_list): \n",
        "  j = 0\n",
        "  new_dna_sequence_list = []\n",
        "  for single_sequence in sequences_list:\n",
        "    i = 0\n",
        "    new_sequence = \"\"\n",
        "    for index in single_sequence:\n",
        "      if index == \"K\":\n",
        "        new_sequence+=\"A\"\n",
        "      else:\n",
        "        new_sequence+=index\n",
        "      i+=1\n",
        "    new_dna_sequence_list.append(new_sequence)  \n",
        "    j+=1     \n",
        "\n",
        "  sequences_list = new_dna_sequence_list\n",
        "  return sequences_list"
      ],
      "execution_count": null,
      "outputs": []
    },
    {
      "cell_type": "code",
      "metadata": {
        "id": "zXACHaqy05hm"
      },
      "source": [
        "sequences_correction(dna_not_sanitized)\n",
        "sequences_correctio(dna_sanitized)"
      ],
      "execution_count": null,
      "outputs": []
    },
    {
      "cell_type": "markdown",
      "metadata": {
        "id": "JJqAwxPCSsio"
      },
      "source": [
        "#Creo il vocabolario"
      ]
    },
    {
      "cell_type": "code",
      "metadata": {
        "colab": {
          "base_uri": "https://localhost:8080/"
        },
        "id": "yqTGuXyUac1t",
        "outputId": "38492cd2-bed5-4f0a-a661-f1e2d06f57d6"
      },
      "source": [
        "tokenizer = Tokenizer(char_level=True)\n",
        "\n",
        "tokenizer.fit_on_texts(dna_not_sanitized)\n",
        "\n",
        "vocab = tokenizer.word_index\n",
        "vocab_length = len(vocab) + 1\n",
        "\n",
        "print(\"Vocabulary: \" ,vocab)\n",
        "#type(vocab)"
      ],
      "execution_count": 6,
      "outputs": [
        {
          "output_type": "stream",
          "text": [
            "Vocabulary:  {'g': 1, 't': 2, 'a': 3, 'c': 4}\n"
          ],
          "name": "stdout"
        }
      ]
    },
    {
      "cell_type": "code",
      "metadata": {
        "id": "O5uXy2ogTC5s"
      },
      "source": [
        "input_not_sanitized = []\n",
        "\n",
        "for line in dna_not_sanitized:\n",
        "\ttoken_list = tokenizer.texts_to_sequences([line])[0]\n",
        "\tfor i in range(1, len(token_list)):\n",
        "\t\tn_gram_sequence = token_list[:i+1]\n",
        "\t\tinput_not_sanitized.append(n_gram_sequence)\n",
        "\n",
        "#pad sequences \n",
        "max_sequence_len = max([len(x) for x in input_not_sanitized])\n",
        "input_sequences = np.array(pad_sequences(input_not_sanitized, maxlen=max_sequence_len, padding='pre'))\n",
        "\n",
        "#xs, labels_x = input_sequences[:,:-1],input_sequences[:,-1] #il -1 omette l'ultimo carattere\n",
        "xs = input_sequences[:,:-1] #il -1 omette l'ultimo carattere\n"
      ],
      "execution_count": 7,
      "outputs": []
    },
    {
      "cell_type": "code",
      "metadata": {
        "colab": {
          "base_uri": "https://localhost:8080/"
        },
        "id": "bXv9sV36kk6E",
        "outputId": "6e34dfce-42a0-44c6-8299-eec9a4d50d85"
      },
      "source": [
        "print(input_sequences)\n",
        "print(input_sequences[:-1])"
      ],
      "execution_count": 8,
      "outputs": [
        {
          "output_type": "stream",
          "text": [
            "[[0 0 0 ... 0 4 2]\n",
            " [0 0 0 ... 4 2 1]\n",
            " [0 0 0 ... 2 1 4]\n",
            " ...\n",
            " [0 0 4 ... 2 2 3]\n",
            " [0 4 1 ... 2 3 4]\n",
            " [4 1 2 ... 3 4 2]]\n",
            "[[0 0 0 ... 0 4 2]\n",
            " [0 0 0 ... 4 2 1]\n",
            " [0 0 0 ... 2 1 4]\n",
            " ...\n",
            " [0 0 0 ... 3 2 2]\n",
            " [0 0 4 ... 2 2 3]\n",
            " [0 4 1 ... 2 3 4]]\n"
          ],
          "name": "stdout"
        }
      ]
    },
    {
      "cell_type": "code",
      "metadata": {
        "id": "pWSt4TxlUYDG"
      },
      "source": [
        "input_sanitized = []\n",
        "\n",
        "for line in dna_sanitized:\n",
        "\ttoken_list = tokenizer.texts_to_sequences([line])[0]\n",
        "\tfor i in range(1, len(token_list)):\n",
        "\t\tn_gram_sequence = token_list[:i+1]\n",
        "\t\tinput_sanitized.append(n_gram_sequence)\n",
        "\n",
        "#pad sequences\n",
        "max_sequence_len = max([len(x) for x in input_sanitized])\n",
        "input_sequences = np.array(pad_sequences(input_sanitized, maxlen=max_sequence_len, padding='pre'))\n",
        "\n",
        "ys, labels_y = input_sequences[:,:-1],input_sequences[:,-1]\n",
        "\n",
        "ys = tf.keras.utils.to_categorical(labels_y, num_classes=vocab_length)"
      ],
      "execution_count": 9,
      "outputs": []
    },
    {
      "cell_type": "markdown",
      "metadata": {
        "id": "BnTRmRr_Usus"
      },
      "source": [
        "#Costruzione del modello Rnn con layer LSTM"
      ]
    },
    {
      "cell_type": "markdown",
      "metadata": {
        "id": "RRdnF-T7GW3A"
      },
      "source": [
        "##Modello RNN Bidirezionale(LSTM)"
      ]
    },
    {
      "cell_type": "code",
      "metadata": {
        "id": "lyPaav9HU1U-"
      },
      "source": [
        "model = Sequential(name=\"metagenomic prediction\")\n",
        "model.add(Embedding(vocab_length, 110, input_length=max_sequence_len-1, name=\"input_layer\"))\n",
        "model.add(Bidirectional(LSTM(150), name=\"LSTM\"))\n",
        "model.add(Dense(vocab_length, activation='softmax', name=\"last_layer\"))\n",
        "\n",
        "adam = Adam(lr=0.01)\n",
        "model.compile(loss='categorical_crossentropy', optimizer=adam, metrics=['accuracy'])"
      ],
      "execution_count": 10,
      "outputs": []
    },
    {
      "cell_type": "code",
      "metadata": {
        "colab": {
          "base_uri": "https://localhost:8080/"
        },
        "id": "Dop7BAANU21P",
        "outputId": "3acd3035-6e48-44bc-9895-c4f58deb27e9"
      },
      "source": [
        "model.summary()"
      ],
      "execution_count": 11,
      "outputs": [
        {
          "output_type": "stream",
          "text": [
            "Model: \"metagenomic prediction\"\n",
            "_________________________________________________________________\n",
            "Layer (type)                 Output Shape              Param #   \n",
            "=================================================================\n",
            "input_layer (Embedding)      (None, 19, 110)           550       \n",
            "_________________________________________________________________\n",
            "LSTM (Bidirectional)         (None, 300)               313200    \n",
            "_________________________________________________________________\n",
            "last_layer (Dense)           (None, 5)                 1505      \n",
            "=================================================================\n",
            "Total params: 315,255\n",
            "Trainable params: 315,255\n",
            "Non-trainable params: 0\n",
            "_________________________________________________________________\n"
          ],
          "name": "stdout"
        }
      ]
    },
    {
      "cell_type": "markdown",
      "metadata": {
        "id": "SsYlsw4_Gbcc"
      },
      "source": [
        "##Training"
      ]
    },
    {
      "cell_type": "code",
      "metadata": {
        "colab": {
          "base_uri": "https://localhost:8080/"
        },
        "id": "nLpqqVH6U4mG",
        "outputId": "07bfa00d-d494-4ac2-8f38-9b4cf4251946"
      },
      "source": [
        "history = model.fit(xs, ys, epochs=40, verbose=1)"
      ],
      "execution_count": 13,
      "outputs": [
        {
          "output_type": "stream",
          "text": [
            "Epoch 1/40\n",
            "380/380 [==============================] - 1s 4ms/sample - loss: 1.5543 - accuracy: 0.2342\n",
            "Epoch 2/40\n",
            "380/380 [==============================] - 1s 3ms/sample - loss: 1.4386 - accuracy: 0.2447\n",
            "Epoch 3/40\n",
            "380/380 [==============================] - 1s 3ms/sample - loss: 1.3954 - accuracy: 0.2895\n",
            "Epoch 4/40\n",
            "380/380 [==============================] - 1s 3ms/sample - loss: 1.3814 - accuracy: 0.2921\n",
            "Epoch 5/40\n",
            "380/380 [==============================] - 1s 3ms/sample - loss: 1.3744 - accuracy: 0.3132\n",
            "Epoch 6/40\n",
            "380/380 [==============================] - 1s 3ms/sample - loss: 1.3607 - accuracy: 0.3289\n",
            "Epoch 7/40\n",
            "380/380 [==============================] - 1s 3ms/sample - loss: 1.3433 - accuracy: 0.3500\n",
            "Epoch 8/40\n",
            "380/380 [==============================] - 1s 3ms/sample - loss: 1.3505 - accuracy: 0.3553\n",
            "Epoch 9/40\n",
            "380/380 [==============================] - 1s 3ms/sample - loss: 1.3117 - accuracy: 0.3816\n",
            "Epoch 10/40\n",
            "380/380 [==============================] - 1s 3ms/sample - loss: 1.3103 - accuracy: 0.3737\n",
            "Epoch 11/40\n",
            "380/380 [==============================] - 1s 3ms/sample - loss: 1.2391 - accuracy: 0.4132\n",
            "Epoch 12/40\n",
            "380/380 [==============================] - 1s 3ms/sample - loss: 1.2800 - accuracy: 0.4342\n",
            "Epoch 13/40\n",
            "380/380 [==============================] - 1s 3ms/sample - loss: 1.1214 - accuracy: 0.5026\n",
            "Epoch 14/40\n",
            "380/380 [==============================] - 1s 3ms/sample - loss: 0.9494 - accuracy: 0.6263\n",
            "Epoch 15/40\n",
            "380/380 [==============================] - 1s 3ms/sample - loss: 0.8473 - accuracy: 0.6684\n",
            "Epoch 16/40\n",
            "380/380 [==============================] - 1s 3ms/sample - loss: 0.6242 - accuracy: 0.7842\n",
            "Epoch 17/40\n",
            "380/380 [==============================] - 1s 3ms/sample - loss: 0.4696 - accuracy: 0.8447\n",
            "Epoch 18/40\n",
            "380/380 [==============================] - 1s 3ms/sample - loss: 0.3533 - accuracy: 0.8921\n",
            "Epoch 19/40\n",
            "380/380 [==============================] - 1s 3ms/sample - loss: 0.2390 - accuracy: 0.9316\n",
            "Epoch 20/40\n",
            "380/380 [==============================] - 1s 3ms/sample - loss: 0.1733 - accuracy: 0.9368\n",
            "Epoch 21/40\n",
            "380/380 [==============================] - 1s 3ms/sample - loss: 0.1401 - accuracy: 0.9447\n",
            "Epoch 22/40\n",
            "380/380 [==============================] - 1s 3ms/sample - loss: 0.1208 - accuracy: 0.9395\n",
            "Epoch 23/40\n",
            "380/380 [==============================] - 1s 3ms/sample - loss: 0.1211 - accuracy: 0.9421\n",
            "Epoch 24/40\n",
            "380/380 [==============================] - 1s 3ms/sample - loss: 0.1136 - accuracy: 0.9447\n",
            "Epoch 25/40\n",
            "380/380 [==============================] - 1s 3ms/sample - loss: 0.1129 - accuracy: 0.9395\n",
            "Epoch 26/40\n",
            "380/380 [==============================] - 1s 3ms/sample - loss: 0.1106 - accuracy: 0.9474\n",
            "Epoch 27/40\n",
            "380/380 [==============================] - 1s 3ms/sample - loss: 0.1021 - accuracy: 0.9553\n",
            "Epoch 28/40\n",
            "380/380 [==============================] - 1s 3ms/sample - loss: 0.1071 - accuracy: 0.9421\n",
            "Epoch 29/40\n",
            "380/380 [==============================] - 1s 3ms/sample - loss: 0.1061 - accuracy: 0.9474\n",
            "Epoch 30/40\n",
            "380/380 [==============================] - 1s 3ms/sample - loss: 0.1003 - accuracy: 0.9500\n",
            "Epoch 31/40\n",
            "380/380 [==============================] - 1s 3ms/sample - loss: 0.1086 - accuracy: 0.9395\n",
            "Epoch 32/40\n",
            "380/380 [==============================] - 1s 3ms/sample - loss: 0.1003 - accuracy: 0.9447\n",
            "Epoch 33/40\n",
            "380/380 [==============================] - 1s 3ms/sample - loss: 0.0988 - accuracy: 0.9500\n",
            "Epoch 34/40\n",
            "380/380 [==============================] - 1s 3ms/sample - loss: 0.1009 - accuracy: 0.9526\n",
            "Epoch 35/40\n",
            "380/380 [==============================] - 1s 3ms/sample - loss: 0.1033 - accuracy: 0.9421\n",
            "Epoch 36/40\n",
            "380/380 [==============================] - 1s 3ms/sample - loss: 0.1008 - accuracy: 0.9526\n",
            "Epoch 37/40\n",
            "380/380 [==============================] - 1s 3ms/sample - loss: 0.0955 - accuracy: 0.9474\n",
            "Epoch 38/40\n",
            "380/380 [==============================] - 1s 3ms/sample - loss: 0.0994 - accuracy: 0.9421\n",
            "Epoch 39/40\n",
            "380/380 [==============================] - 1s 3ms/sample - loss: 0.1070 - accuracy: 0.9474\n",
            "Epoch 40/40\n",
            "380/380 [==============================] - 1s 3ms/sample - loss: 0.0966 - accuracy: 0.9526\n"
          ],
          "name": "stdout"
        }
      ]
    },
    {
      "cell_type": "code",
      "metadata": {
        "id": "rZidmnc-U79N"
      },
      "source": [
        "def plot_graphs(history, string):\n",
        "  plt.plot(history.history[string])\n",
        "  plt.xlabel(\"Epochs\")\n",
        "  plt.ylabel(ylabel=\"Accuratezza\")\n",
        "  plt.show()"
      ],
      "execution_count": 14,
      "outputs": []
    },
    {
      "cell_type": "code",
      "metadata": {
        "colab": {
          "base_uri": "https://localhost:8080/",
          "height": 279
        },
        "id": "tt-T68mJU98S",
        "outputId": "28cc94ed-db0d-45dd-e108-5e89b6260f5c"
      },
      "source": [
        "plot_graphs(history, 'accuracy')"
      ],
      "execution_count": 15,
      "outputs": [
        {
          "output_type": "display_data",
          "data": {
            "image/png": "[encoded data removed]",
            "text/plain": [
              "<Figure size 432x288 with 1 Axes>"
            ]
          },
          "metadata": {
            "tags": [],
            "needs_background": "light"
          }
        }
      ]
    },
    {
      "cell_type": "code",
      "metadata": {
        "colab": {
          "base_uri": "https://localhost:8080/"
        },
        "id": "-ONs5spxg1rp",
        "outputId": "35b300f0-1d3f-4422-c243-c35ec47507a3"
      },
      "source": [
        "#genero metà sequenza di dna non sanificato\n",
        "half_seq_length = int(seq_length / 2)\n",
        "half_sequence = [random.choice(bases_list) for _ in range(half_seq_length)]\n",
        "half_sequence = \"\".join(half_sequence)\n",
        "\n",
        "print(half_sequence)"
      ],
      "execution_count": 16,
      "outputs": [
        {
          "output_type": "stream",
          "text": [
            "TCTGTAATGG\n"
          ],
          "name": "stdout"
        }
      ]
    },
    {
      "cell_type": "code",
      "metadata": {
        "id": "cfiDYGL-gxHo"
      },
      "source": [
        "def make_prediction(next_word_len, tokenizer, model, text_to_predict, j):\n",
        "\tfor _ in range(next_word_len):\n",
        "\t\ttoken_list = tokenizer.texts_to_sequences([text_to_predict])[0]\n",
        "\t\ttoken_list = pad_sequences([token_list], maxlen=max_sequence_len-1, padding='pre')\n",
        "\t\tpredicted = model.predict_classes(token_list, verbose=0)\n",
        "\t\toutput_word = \"\"\n",
        "\t\tfor word, index in tokenizer.word_index.items():\n",
        "\t\t\tif index == predicted:\n",
        "\t\t\t\toutput_word = word\n",
        "\t\t\t\tbreak\n",
        "\t\ttext_to_predict += \"\" + output_word \n",
        "\t\tj += \"\" + output_word \n",
        "\t\tnew_sequence = \"\".join(j) #isolo la nuova sequenza generata\n",
        "\treturn new_sequence"
      ],
      "execution_count": 17,
      "outputs": []
    },
    {
      "cell_type": "markdown",
      "metadata": {
        "id": "143wOQzGFQlL"
      },
      "source": [
        "## Predizione partendo da metà sequenza non sanificata appartenente al dataset in input."
      ]
    },
    {
      "cell_type": "code",
      "metadata": {
        "colab": {
          "base_uri": "https://localhost:8080/"
        },
        "id": "5RvJrUsGH3nL",
        "outputId": "3b4e57c7-57e7-4f4a-dae4-bbc005db6956"
      },
      "source": [
        "#predizione con metà sequenza esistente\n",
        "existing_dna_seq = dna_not_sanitized[1]\n",
        "half_seq_length = int(seq_length / 2)\n",
        "\n",
        "\n",
        "text_to_predict = existing_dna_seq[0:10]\n",
        "next_words = half_seq_length\n",
        "new_sequence = []\n",
        "increase_string = \"\"\n",
        "\n",
        "new_sequence = make_prediction(next_words, tokenizer, model, text_to_predict, increase_string)\n",
        "\n",
        "print(new_sequence) #concatenazione tra sequenza passata in input e la nuova generata"
      ],
      "execution_count": 18,
      "outputs": [
        {
          "output_type": "stream",
          "text": [
            "ccggaccccg\n"
          ],
          "name": "stdout"
        }
      ]
    },
    {
      "cell_type": "code",
      "metadata": {
        "colab": {
          "base_uri": "https://localhost:8080/"
        },
        "id": "95KCZvvAHxdo",
        "outputId": "2a50ba0c-56b9-4bd4-fe78-19a081804c54"
      },
      "source": [
        "print(\"Dna not sanitized in pos 0:\" , dna_not_sanitized[1])\n",
        "print(\"Dna sanitized in pos 0:    \" ,dna_sanitized[1])\n",
        "print(vocab)"
      ],
      "execution_count": 19,
      "outputs": [
        {
          "output_type": "stream",
          "text": [
            "Dna not sanitized in pos 0: TTACCGTCAATCAGATATGA\n",
            "Dna sanitized in pos 0:     ACGTAGGGCACCGCACCCCT\n",
            "{'g': 1, 't': 2, 'a': 3, 'c': 4}\n"
          ],
          "name": "stdout"
        }
      ]
    },
    {
      "cell_type": "markdown",
      "metadata": {
        "id": "ybE9QpyqGCHM"
      },
      "source": [
        "##Predizione partendo da metà sequenza randomica"
      ]
    },
    {
      "cell_type": "code",
      "metadata": {
        "colab": {
          "base_uri": "https://localhost:8080/"
        },
        "id": "cZx5OkTB-5_R",
        "outputId": "15bccd98-6cb4-45a0-b59d-dfe3ce87c955"
      },
      "source": [
        "text_to_predict = half_sequence\n",
        "next_words = half_seq_length\n",
        "new_sequence = []\n",
        "increase_string = \"\"\n",
        "\n",
        "new_sequence = make_prediction(next_words, tokenizer, model, text_to_predict, increase_string)\n",
        "#new_sequence , text_to_predict = make_prediction(next_words, tokenizer, model, text_to_predict, increase_string)\n",
        "\n",
        "#print(text_to_predict) #concatenazione tra sequenza passata in input e la nuova generata\n",
        "print(new_sequence)"
      ],
      "execution_count": 20,
      "outputs": [
        {
          "output_type": "stream",
          "text": [
            "tgtatatcgg\n"
          ],
          "name": "stdout"
        }
      ]
    },
    {
      "cell_type": "code",
      "metadata": {
        "id": "N0ienvjiiw8_"
      },
      "source": [
        "def make_upper(text, index):\n",
        "  s = \"\"\n",
        "  for i in text:\n",
        "    if i == \"a\":\n",
        "      s = \"A\"\n",
        "    if i == \"c\":\n",
        "      s = \"C\"\n",
        "    if i == \"g\":\n",
        "      s = \"G\"\n",
        "    if i == \"t\":\n",
        "      s = \"T\"\n",
        "    index += \"\" + s\n",
        "    text = \"\".join(index)\n",
        "  return text"
      ],
      "execution_count": 21,
      "outputs": []
    },
    {
      "cell_type": "code",
      "metadata": {
        "colab": {
          "base_uri": "https://localhost:8080/"
        },
        "id": "YmnP9ZmvsYTq",
        "outputId": "1d4aa74f-35a9-493b-a205-321f2bb82c33"
      },
      "source": [
        "increase_sequence = \"\"\n",
        "print(make_upper(new_sequence, increase_sequence))"
      ],
      "execution_count": 22,
      "outputs": [
        {
          "output_type": "stream",
          "text": [
            "TGTATATCGG\n"
          ],
          "name": "stdout"
        }
      ]
    },
    {
      "cell_type": "markdown",
      "metadata": {
        "id": "ievTU1NIGin9"
      },
      "source": [
        "##Predizione di una sequenza costituita da 440 caratteri."
      ]
    },
    {
      "cell_type": "markdown",
      "metadata": {
        "id": "esbyPwmy2ac9"
      },
      "source": [
        " Come si procede? Si scompone la sequenza lunga 440 in 44 sottosequenze, ognuna lunga 40 caratteri (questo perchè il modello risulta accurato per la predizione di stringhe lunghe 10 caratteri); poi per ognuna si genera la sequenza sanificata; infine si costruisce la sequenza finale tenendo conto dell'ordine di partenza relativo alle sottosequenze.\n",
        " "
      ]
    },
    {
      "cell_type": "code",
      "metadata": {
        "id": "scHVDYYgaVdv"
      },
      "source": [
        "rnd_max_len = 440\n",
        "sub_seq_len = 10\n",
        "n_sub_seq = 44\n",
        "not_sanitized_max = []\n",
        "sub_seq_data = []\n",
        "\n",
        "random_seq_generation(1, rnd_max_len, not_sanitized_max)"
      ],
      "execution_count": 61,
      "outputs": []
    },
    {
      "cell_type": "code",
      "metadata": {
        "id": "zECPPK0d-vLo"
      },
      "source": [
        "sequence = not_sanitized_max[0]"
      ],
      "execution_count": 63,
      "outputs": []
    },
    {
      "cell_type": "code",
      "metadata": {
        "id": "nEqFPcbb_BOG"
      },
      "source": [
        "#grazie a questa funzione si riesce a dividere l'intera sequenza di lunghezza 440 in 44 sottosequenze, ognuna di 10 caratteri; si crea, quindi, una lista di sottosequenza\n",
        "def sub_seq_data_generator(entire_sequence, sub_len, n_sub_seq):\n",
        "  for i in range(n_sub_seq):\n",
        "    sub_seq = entire_sequence[i*sub_len:(i+1)*sub_len]\n",
        "    sub_seq_data.append(sub_seq)\n",
        "\n",
        "  return sub_seq_data"
      ],
      "execution_count": 64,
      "outputs": []
    },
    {
      "cell_type": "code",
      "metadata": {
        "id": "c4_b6VhjCFHd"
      },
      "source": [
        "sub_seq_data = sub_seq_data_generator(sequence, sub_seq_len, n_sub_seq)"
      ],
      "execution_count": 65,
      "outputs": []
    },
    {
      "cell_type": "code",
      "metadata": {
        "id": "ks5g6QXOHkWx"
      },
      "source": [
        "new_sequence = make_prediction(next_words, tokenizer, model, text_to_predict, increase_string)\n",
        "sanitized_sub_seq_data = []\n",
        "increase_sequence = \"\"\n",
        "\n",
        "for i in range(n_sub_seq):\n",
        "  sanitized_sub_seq_data.append(make_prediction(next_words, tokenizer, model, sub_seq_data[i], increase_sequence))"
      ],
      "execution_count": 66,
      "outputs": []
    },
    {
      "cell_type": "code",
      "metadata": {
        "id": "MgITChfEO9Jm"
      },
      "source": [
        "sanitized_max = \"\"\n",
        "\n",
        "for i in range(n_sub_seq):\n",
        "  sanitized_max += sanitized_sub_seq_data[i]"
      ],
      "execution_count": 67,
      "outputs": []
    },
    {
      "cell_type": "code",
      "metadata": {
        "colab": {
          "base_uri": "https://localhost:8080/"
        },
        "id": "nqaslNI_1ww7",
        "outputId": "73ec8039-80fe-4e54-ca68-826eeb92d5b8"
      },
      "source": [
        "print(\"Sequenza sanificata    : \" , make_upper(sanitized_max, \"\"))\n",
        "print(\"Sequenza non sanificata: \" , sequence)"
      ],
      "execution_count": 68,
      "outputs": [
        {
          "output_type": "stream",
          "text": [
            "Sequenza sanificata    :  TATAGTCCGGTAGTGTATCCTATGTCTCGGGGTGTCGTGCAGCGACGCATCAGGAGTACCGTGTTCCGTCATCGGACATCGGGGTTACACGTAGTCCGTCGCTCCAAGCGCTTCTCTCAGCGCGGATTCCGGTCCGTGTCCGCAGGCAGCCGTATACAGCCAGCCGACAGACGTGGATTAGAGACACCGGCGTGTACAGGGTGTACATCGGAGTTATCTCGTGTATAGCCCGGAGTAGACGGGTTACATCGTACATTCACTATACGTCCGAGGGACACGCGGGACACACCCGGAGTACATTAGTGTACCGTATATGTCGGTTGTATTCCGTATGTCGGGCAAACCCCTTCGGGAGTTACCGTAGTCCGTCGGAGTACAGCCTCGGTCCCCGTGTCCGTCCTATACAGGCCACGTGTACCCAGCGACGCCTAACGACACCG\n",
            "Sequenza non sanificata:  TGAATGTATGATTGGTACTACGTGCGAAGAAGAAGTCCTACAAGCTCCGCAGTAGATGTATGGTCTTCTTGACTTTGAAACATATTCTTTCACCGTGATTCTCCATGGCTCAACGCTCACTATCAGTAATACTACATTTCAAGTACCAATTGGGCAGTTACCAGAGGTCGGATGAAGTTCCCTACCGAAGGGTTTGTACTGCACGGTACCCTTTTACGGGATTGTTGCCCTGACAACTGCTAGAATTATAGCGGGGGGGAGCTACGAGAGGATTTGCCTAGGGAACCACACCTGAATTCAGTGGAGCTTATTAGGGCAGGTCTGCTATTGTGGGCAGAAGGATACGGCCCAGGTGATCTGATAGCGCATTAGTGTCATCCTGTAGGACATTAGTCCCTCGTGTCCCGTAGATAGGAATAGGTCTTCTACAGCGCGAATTA\n"
          ],
          "name": "stdout"
        }
      ]
    }
  ]
}