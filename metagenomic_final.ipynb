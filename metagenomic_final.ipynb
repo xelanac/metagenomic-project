{
  "nbformat": 4,
  "nbformat_minor": 0,
  "metadata": {
    "colab": {
      "name": "metagenomic_final.ipynb",
      "provenance": [],
      "authorship_tag": "ABX9TyMiVOu6gdTPEuVwYJ4xg3F4",
      "include_colab_link": true
    },
    "kernelspec": {
      "name": "python3",
      "display_name": "Python 3"
    }
  },
  "cells": [
    {
      "cell_type": "markdown",
      "metadata": {
        "id": "view-in-github",
        "colab_type": "text"
      },
      "source": [
        "<a href=\"https://colab.research.google.com/github/xelanac/metagenomic_project/blob/main/metagenomic_final.ipynb\" target=\"_parent\"><img src=\"https://colab.research.google.com/assets/colab-badge.svg\" alt=\"Open In Colab\"/></a>"
      ]
    },
    {
      "cell_type": "markdown",
      "metadata": {
        "id": "x4AruxVWPFnO"
      },
      "source": [
        "#Import delle librerie"
      ]
    },
    {
      "cell_type": "code",
      "metadata": {
        "id": "DDP2iYK4O-X6"
      },
      "source": [
        "%%capture\n",
        "!pip3 install google-nucleus==0.4.0\n",
        "!pip install -q tensorflow==2.0.0-alpha0\n",
        "\n",
        "from __future__ import absolute_import\n",
        "from __future__ import division\n",
        "from __future__ import print_function\n",
        "\n",
        "import os\n",
        "import random\n",
        "\n",
        "import numpy as np\n",
        "\n",
        "from nucleus.io import fastq\n",
        "from nucleus.io import fasta\n",
        "from nucleus.io import sam\n",
        "from nucleus.io import vcf\n",
        "from nucleus.io.genomics_writer import TFRecordWriter\n",
        "from nucleus.protos import reads_pb2\n",
        "from nucleus.util import cigar\n",
        "from nucleus.util import ranges\n",
        "from nucleus.util import utils\n",
        "\n",
        "import torch\n",
        "import tensorflow as tf\n",
        "from tensorflow import keras\n",
        "from tensorflow.keras import layers"
      ],
      "execution_count": null,
      "outputs": []
    },
    {
      "cell_type": "markdown",
      "metadata": {
        "id": "98V_jRj4PROA"
      },
      "source": [
        "#Generazione di dataset randomici"
      ]
    },
    {
      "cell_type": "code",
      "metadata": {
        "id": "tDVaV9F9PVRs"
      },
      "source": [
        "bases_list = [\"A\",\"C\",\"G\",\"T\"]\n",
        "seq_length = 30\n",
        "seq_num = 20\n",
        "\n",
        "dna_not_sanitized = []\n",
        "dna_sanitized = []"
      ],
      "execution_count": null,
      "outputs": []
    },
    {
      "cell_type": "code",
      "metadata": {
        "id": "DETl6UmH-CDh"
      },
      "source": [
        "def random_seq_generation(n_seq, seq_len, dataset):\n",
        "  for index in range(n_seq):\n",
        "    sequence = [random.choice(bases_list) for _ in range(seq_len)]\n",
        "    sequence = \"\".join(sequence)\n",
        "    dataset.append(sequence)"
      ],
      "execution_count": null,
      "outputs": []
    },
    {
      "cell_type": "code",
      "metadata": {
        "id": "MTwW6If7-lQL"
      },
      "source": [
        "random_seq_generation(seq_num, seq_length, dna_not_sanitized)\n",
        "random_seq_generation(seq_num, seq_length, dna_sanitized)"
      ],
      "execution_count": null,
      "outputs": []
    },
    {
      "cell_type": "code",
      "metadata": {
        "id": "T4U7dWcCQNFy"
      },
      "source": [
        "\"\"\"\n",
        "#creo il dataset non sanificato\n",
        "for i in range(seq_num):\n",
        "  sequence = [random.choice(bases_list) for _ in range(seq_length)]\n",
        "  sequence = \"\".join(sequence)\n",
        "  dna_not_sanitized.append(sequence)\n",
        "\n",
        "#creo il dataset sanificato\n",
        "for i in range(seq_num):\n",
        "  sequence = [random.choice(bases_list) for _ in range(seq_length)]\n",
        "  sequence = \"\".join(sequence)\n",
        "  dna_sanitized.append(sequence)\n",
        "\"\"\""
      ],
      "execution_count": null,
      "outputs": []
    },
    {
      "cell_type": "markdown",
      "metadata": {
        "id": "khJvyYzMpeZZ"
      },
      "source": [
        "#Caricamento e analisi di dati reali (in questo caso trascurare la precedente sezione di generazione di dataset randomici)"
      ]
    },
    {
      "cell_type": "markdown",
      "metadata": {
        "id": "pGydAYSlqKNs"
      },
      "source": [
        "Collegamento al drive e import dei dati reali"
      ]
    },
    {
      "cell_type": "code",
      "metadata": {
        "id": "vAhdq0_cqA6n"
      },
      "source": [
        "#l'accesso al drive non è stato fatto attrsverso il codice, ma cliccando sull'icona della cartella drive\n",
        "#riporto, sottoforma di commento, anche il codice per montarlo\n",
        "\"\"\"\n",
        "from google.colab import drive\n",
        "drive.mount('/content/drive')\n",
        "\"\"\" \n",
        "# Leggo il file grezzo fastq con la libreria\n",
        "input_path_not_sanitized = \"/content/drive/My Drive/fastQ_data/T0-R2-U1.R1.fastq\"\n",
        "input_path_sanitized = \"/content/drive/My Drive/fastQ_data/T0-R2-U3.R1.fastq\"\n",
        "\n",
        "fastq_data_not_sanitized = fastq.FastqReader(input_path_not_sanitized)\n",
        "fastq_data_sanitized = fastq.FastqReader(input_path_sanitized)"
      ],
      "execution_count": null,
      "outputs": []
    },
    {
      "cell_type": "markdown",
      "metadata": {
        "id": "U1lKWqV6qaRT"
      },
      "source": [
        "Visualizzazione del fastQ"
      ]
    },
    {
      "cell_type": "code",
      "metadata": {
        "id": "qHUIOCoxqUpy"
      },
      "source": [
        "def read_fastq_structure(dataset):\n",
        "  for i in dataset:\n",
        "    print(i)\n",
        "    break;\n",
        "\n",
        "print(\"Dataset campionato prima dell'azione danificante: \" , read_fastq_structure(dna_not_sanitized , \"\\n\"))\n",
        "print(\"Dataset campionato dopo l'azione danificante: \", read_fastq_structure(dna_sanitized, \"\\n\"))"
      ],
      "execution_count": null,
      "outputs": []
    },
    {
      "cell_type": "markdown",
      "metadata": {
        "id": "AOIOfifdrOl5"
      },
      "source": [
        "Funzione per l'isolamento delle sequenze\n"
      ]
    },
    {
      "cell_type": "code",
      "metadata": {
        "id": "_sgKzZ5nrQ-i"
      },
      "source": [
        "# Definisco un metodo per la lettura di un record della libreria FASTQ\n",
        "# Eventualmente rivediamo il metodo ora lo prendo per buono ma c'è qualcosa che non va\n",
        "# Se lo lanci due volte sfalsa l'output\n",
        "\n",
        "def seq_isolation(fastq_data, seq_list, single_record):\n",
        "    seq_list.append(single_record)\n",
        "    single_sequence = str(seq_list[0])\n",
        "    single_record_list = single_sequence.split(\"\\n\") #lista contenente le proprietà di una singola sequenza(id, sequence, quality)\n",
        "\n",
        "    fastq_sequence = single_record_list[2].split(\" \") #2 è la posizione della sequenza\n",
        "    final_sequence = fastq_sequence[1] #posizione nella nuova lista\n",
        "    new_sequence = \"\"\n",
        "\n",
        "    for i in final_sequence: #tolgo le \"\" dalla stringa\n",
        "      if i != '\"':\n",
        "        new_sequence += i\n",
        "\n",
        "    final_sequence = new_sequence\n",
        "    #print(final_sequence)\n",
        "    return final_sequence  "
      ],
      "execution_count": null,
      "outputs": []
    },
    {
      "cell_type": "markdown",
      "metadata": {
        "id": "Dkpu9Fl0rbqM"
      },
      "source": [
        "**Inizio dell'analisi dei dati**"
      ]
    },
    {
      "cell_type": "code",
      "metadata": {
        "id": "dz7_pO84rdkW"
      },
      "source": [
        "# Creo due liste contenenti rispettivamente le sequenze del dna campionate prima e dopo l'azione sanificante\n",
        "fastq_data_list = []\n",
        "dna_not_sanitized = []\n",
        "dna_sanitized = []\n",
        "\n",
        "for index in fastq_data_not_sanitized:\n",
        "  dna_not_sanitized.append(seq_isolation(fastq_data_not_sanitized, fastq_data_list, index))\n",
        "\n",
        "fastq_data_list = []\n",
        "\n",
        "for index in fastq_data_sanitized:\n",
        "  dna_not_sanitized.append(seq_isolation(fastq_data_not_sanitized, fastq_data_list, index))\n",
        "\n",
        "# Stampo il numero di sequenze del dataset \"not_sanitized\"\n",
        "len(dna_not_sanitized)\n",
        "# Stampo il numero di sequenze del dataset \"sanitized\"\n",
        "len(dna_sanitized)"
      ],
      "execution_count": null,
      "outputs": []
    },
    {
      "cell_type": "markdown",
      "metadata": {
        "id": "wt9FrIPEsXsf"
      },
      "source": [
        "Check sulla lunghezza delle sequenze"
      ]
    },
    {
      "cell_type": "code",
      "metadata": {
        "id": "LKNr1LGxsZ4Z"
      },
      "source": [
        "#Lunghezza massima e minima del dataset \"not_sanitized\"\n",
        "print(\"Lunghezza massima delle sequenze dna_not_sanitized: \" , len(max(dna_not_sanitized, key=len)))\n",
        "print(\"Lunghezza minima delle sequenze dna_not_sanitized: \" , len(min(dna_not_sanitized, key=len)), \"\\n\")\n",
        "\n",
        "#Lunghezza massima e minima del dataset \"sanitized\"\n",
        "print(\"Lunghezza massima delle sequenze dna_sanitized: \" ,  len(max(dna_sanitized, key=len)))\n",
        "print(\"Lunghezza minima delle sequenze dna_sanitized: \" , len(min(dna_sanitized, key=len)))"
      ],
      "execution_count": null,
      "outputs": []
    },
    {
      "cell_type": "markdown",
      "metadata": {
        "id": "5nm26iWyti0e"
      },
      "source": [
        "Check che verifica se la sequenza ha qualche parametro \"K\", il quale indica un'imprecisione in fase di campionamento"
      ]
    },
    {
      "cell_type": "code",
      "metadata": {
        "id": "x2jSNcbOtr8H"
      },
      "source": [
        "def sequences_check(sequences_list):\n",
        "  i = 0\n",
        "\n",
        "  for single_sequence in sequences_list:\n",
        "    for index in single_sequence:\n",
        "      if index == \"K\":\n",
        "        return True\n",
        "    i+= 1\n",
        "  return False\n",
        "  \n",
        "print(\"Check delle sequenze non sanificate: \\n\", sequence_check(dna_not_sanitized))\n",
        "print(\"Check delle sequenze  sanificate: \\n\", sequence_check(dna_sanitized))"
      ],
      "execution_count": null,
      "outputs": []
    },
    {
      "cell_type": "markdown",
      "metadata": {
        "id": "4Fee-J8Hv6Xl"
      },
      "source": [
        "Se la funzione \"sequence_check\" restituisce \"True per una delle due liste, procedere con la correzione; altrimenti procedere con la creazione del vocabolario"
      ]
    },
    {
      "cell_type": "code",
      "metadata": {
        "id": "YA9OYhpBwKxS"
      },
      "source": [
        "#con questo metodo sostituisco il parametro \"k\" con una delle basi azotate(in questo caso ho scelto l'Adenina)\n",
        "def sequences_correction(sequences_list): \n",
        "  j = 0\n",
        "  new_dna_sequence_list = []\n",
        "  for single_sequence in sequences_list:\n",
        "    i = 0\n",
        "    new_sequence = \"\"\n",
        "    for index in single_sequence:\n",
        "      if index == \"K\":\n",
        "        new_sequence+=\"A\"\n",
        "      else:\n",
        "        new_sequence+=index\n",
        "      i+=1\n",
        "    new_dna_sequence_list.append(new_sequence)  \n",
        "    j+=1     \n",
        "\n",
        "  sequences_list = new_dna_sequence_list\n",
        "  return sequences_list"
      ],
      "execution_count": null,
      "outputs": []
    },
    {
      "cell_type": "code",
      "metadata": {
        "id": "zXACHaqy05hm"
      },
      "source": [
        "sequences_correction(dna_not_sanitized)\n",
        "sequences_correctio(dna_sanitized)"
      ],
      "execution_count": null,
      "outputs": []
    },
    {
      "cell_type": "markdown",
      "metadata": {
        "id": "JJqAwxPCSsio"
      },
      "source": [
        "#Creo il vocabolario"
      ]
    },
    {
      "cell_type": "code",
      "metadata": {
        "id": "-mKijPYcSvk2"
      },
      "source": [
        "%%capture\n",
        "from tensorflow.keras.preprocessing.text import Tokenizer\n",
        "from tensorflow.keras.preprocessing.sequence import pad_sequences"
      ],
      "execution_count": null,
      "outputs": []
    },
    {
      "cell_type": "code",
      "metadata": {
        "id": "ezZjWjF7S1v8",
        "colab": {
          "base_uri": "https://localhost:8080/",
          "height": 52
        },
        "outputId": "491c6b5b-6279-4195-86de-cb7911dd9cd4"
      },
      "source": [
        "\"\"\"\n",
        "vocab_size = 6\n",
        "oov_tok = \"<OOV>\"\n",
        "\n",
        "tokenizer = Tokenizer(num_words = vocab_size, char_level=True, oov_token=oov_tok)\n",
        "\n",
        "tokenizer.fit_on_texts(dna_sanitized)\n",
        "vocab = tokenizer.word_index\n",
        "\n",
        "print(vocab)\n",
        "\"\"\""
      ],
      "execution_count": null,
      "outputs": [
        {
          "output_type": "execute_result",
          "data": {
            "application/vnd.google.colaboratory.intrinsic+json": {
              "type": "string"
            },
            "text/plain": [
              "'\\nvocab_size = 6\\noov_tok = \"<OOV>\"\\n\\ntokenizer = Tokenizer(num_words = vocab_size, char_level=True, oov_token=oov_tok)\\n\\ntokenizer.fit_on_texts(dna_sanitized)\\nvocab = tokenizer.word_index\\n\\nprint(vocab)\\n'"
            ]
          },
          "metadata": {
            "tags": []
          },
          "execution_count": 118
        }
      ]
    },
    {
      "cell_type": "code",
      "metadata": {
        "id": "yqTGuXyUac1t",
        "colab": {
          "base_uri": "https://localhost:8080/"
        },
        "outputId": "8af97c88-3a12-4ba7-a8ee-7daddd045264"
      },
      "source": [
        "tokenizer = Tokenizer(char_level=True)\n",
        "\n",
        "tokenizer.fit_on_texts(dna_not_sanitized)\n",
        "\n",
        "vocab = tokenizer.word_index\n",
        "vocab_lenght = len(vocab) + 1\n",
        "\n",
        "print(\"Vocabulary: \" ,vocab)\n",
        "type(vocab)"
      ],
      "execution_count": null,
      "outputs": [
        {
          "output_type": "stream",
          "text": [
            "Vocabulary:  {'t': 1, 'c': 2, 'a': 3, 'g': 4}\n"
          ],
          "name": "stdout"
        },
        {
          "output_type": "execute_result",
          "data": {
            "text/plain": [
              "dict"
            ]
          },
          "metadata": {
            "tags": []
          },
          "execution_count": 7
        }
      ]
    },
    {
      "cell_type": "code",
      "metadata": {
        "id": "O5uXy2ogTC5s"
      },
      "source": [
        "input_not_sanitized = []\n",
        "\n",
        "for line in dna_not_sanitized:\n",
        "\ttoken_list = tokenizer.texts_to_sequences([line])[0]\n",
        "\t#print(token_list)\n",
        "\tfor i in range(1, len(token_list)):\n",
        "\t\tn_gram_sequence = token_list[:i+1]\n",
        "\t\tinput_not_sanitized.append(n_gram_sequence)\n",
        "\n",
        "#pad sequences \n",
        "max_sequence_len = max([len(x) for x in input_not_sanitized])\n",
        "input_sequences = np.array(pad_sequences(input_not_sanitized, maxlen=max_sequence_len, padding='pre'))\n",
        "\n",
        "#xs, labels_x = input_sequences[:,:-1],input_sequences[:,-1] #il -1 omette l'ultimo carattere\n",
        "xs = input_sequences[:,:-1] #il -1 omette l'ultimo carattere\n"
      ],
      "execution_count": null,
      "outputs": []
    },
    {
      "cell_type": "code",
      "metadata": {
        "id": "bXv9sV36kk6E",
        "colab": {
          "base_uri": "https://localhost:8080/"
        },
        "outputId": "2626f6ac-46b3-49a2-ffc7-e704d7b9fe58"
      },
      "source": [
        "print(input_sequences)\n",
        "print(input_sequences[:-1])"
      ],
      "execution_count": null,
      "outputs": [
        {
          "output_type": "stream",
          "text": [
            "[[0 0 0 ... 0 1 3]\n",
            " [0 0 0 ... 1 3 3]\n",
            " [0 0 0 ... 3 3 1]\n",
            " ...\n",
            " [0 0 3 ... 3 2 2]\n",
            " [0 3 4 ... 2 2 4]\n",
            " [3 4 1 ... 2 4 4]]\n",
            "[[0 0 0 ... 0 1 3]\n",
            " [0 0 0 ... 1 3 3]\n",
            " [0 0 0 ... 3 3 1]\n",
            " ...\n",
            " [0 0 0 ... 4 3 2]\n",
            " [0 0 3 ... 3 2 2]\n",
            " [0 3 4 ... 2 2 4]]\n"
          ],
          "name": "stdout"
        }
      ]
    },
    {
      "cell_type": "code",
      "metadata": {
        "id": "pWSt4TxlUYDG"
      },
      "source": [
        "input_sanitized = []\n",
        "\n",
        "for line in dna_sanitized:\n",
        "\ttoken_list = tokenizer.texts_to_sequences([line])[0]\n",
        "\tfor i in range(1, len(token_list)):\n",
        "\t\tn_gram_sequence = token_list[:i+1]\n",
        "\t\tinput_sanitized.append(n_gram_sequence)\n",
        "\n",
        "#pad sequences\n",
        "max_sequence_len = max([len(x) for x in input_sanitized])\n",
        "input_sequences = np.array(pad_sequences(input_sanitized, maxlen=max_sequence_len, padding='pre'))\n",
        "\n",
        "ys, labels_y = input_sequences[:,:-1],input_sequences[:,-1]\n",
        "\n",
        "ys = tf.keras.utils.to_categorical(labels_y, num_classes=vocab_lenght)"
      ],
      "execution_count": null,
      "outputs": []
    },
    {
      "cell_type": "code",
      "metadata": {
        "id": "2gHUVCWfiKcv",
        "colab": {
          "base_uri": "https://localhost:8080/"
        },
        "outputId": "93705556-bdc8-44c9-b363-d785b4d17483"
      },
      "source": [
        "print(\"Dna not sanitized in pos 0:\" , dna_not_sanitized[0])\n",
        "print(\"Dna sanitized in pos 0:    \" ,dna_sanitized[0])\n",
        "print(vocab)"
      ],
      "execution_count": null,
      "outputs": [
        {
          "output_type": "stream",
          "text": [
            "Dna not sanitized in pos 0: TAATTTGAGAGACGGGTCGAGGGCAGGAGG\n",
            "Dna sanitized in pos 0:     AGCGAGCCGAATATCCCGTTTCAATTTCAG\n",
            "{'t': 1, 'c': 2, 'a': 3, 'g': 4}\n"
          ],
          "name": "stdout"
        }
      ]
    },
    {
      "cell_type": "markdown",
      "metadata": {
        "id": "BnTRmRr_Usus"
      },
      "source": [
        "#Costruzione del modello Rnn con layer LSTM"
      ]
    },
    {
      "cell_type": "code",
      "metadata": {
        "id": "NqZ2h5ITUxX9"
      },
      "source": [
        "from tensorflow.keras.layers import Embedding, LSTM, Dense, Bidirectional\n",
        "from tensorflow.keras.models import Sequential\n",
        "from tensorflow.keras.optimizers import Adam"
      ],
      "execution_count": null,
      "outputs": []
    },
    {
      "cell_type": "code",
      "metadata": {
        "id": "lyPaav9HU1U-"
      },
      "source": [
        "model = Sequential()\n",
        "model.add(Embedding(vocab_lenght, 100, input_length=max_sequence_len-1))\n",
        "model.add(Bidirectional(LSTM(150)))\n",
        "model.add(Dense(vocab_lenght, activation='softmax'))\n",
        "\n",
        "adam = Adam(lr=0.01)\n",
        "model.compile(loss='categorical_crossentropy', optimizer=adam, metrics=['accuracy'])"
      ],
      "execution_count": null,
      "outputs": []
    },
    {
      "cell_type": "code",
      "metadata": {
        "id": "Dop7BAANU21P",
        "colab": {
          "base_uri": "https://localhost:8080/"
        },
        "outputId": "f28e5625-225c-41f5-a48e-d2c18c4f9363"
      },
      "source": [
        "model.summary()"
      ],
      "execution_count": null,
      "outputs": [
        {
          "output_type": "stream",
          "text": [
            "Model: \"sequential_1\"\n",
            "_________________________________________________________________\n",
            "Layer (type)                 Output Shape              Param #   \n",
            "=================================================================\n",
            "embedding_1 (Embedding)      (None, 29, 100)           500       \n",
            "_________________________________________________________________\n",
            "bidirectional_1 (Bidirection (None, 300)               301200    \n",
            "_________________________________________________________________\n",
            "dense (Dense)                (None, 5)                 1505      \n",
            "=================================================================\n",
            "Total params: 303,205\n",
            "Trainable params: 303,205\n",
            "Non-trainable params: 0\n",
            "_________________________________________________________________\n"
          ],
          "name": "stdout"
        }
      ]
    },
    {
      "cell_type": "code",
      "metadata": {
        "id": "qOIezHFSrUnL",
        "colab": {
          "base_uri": "https://localhost:8080/"
        },
        "outputId": "360c0dc9-f76e-4639-daee-c340abf3bfaf"
      },
      "source": [
        "xs.shape"
      ],
      "execution_count": null,
      "outputs": [
        {
          "output_type": "execute_result",
          "data": {
            "text/plain": [
              "(1980, 99)"
            ]
          },
          "metadata": {
            "tags": []
          },
          "execution_count": 174
        }
      ]
    },
    {
      "cell_type": "code",
      "metadata": {
        "id": "nLpqqVH6U4mG",
        "colab": {
          "base_uri": "https://localhost:8080/",
          "height": 324
        },
        "outputId": "f23a4aee-79ee-40d9-d2a7-d97c92ab69bf"
      },
      "source": [
        "history = model.fit(xs, ys, epochs=50, verbose=1)"
      ],
      "execution_count": null,
      "outputs": [
        {
          "output_type": "error",
          "ename": "ValueError",
          "evalue": "ignored",
          "traceback": [
            "\u001b[0;31m---------------------------------------------------------------------------\u001b[0m",
            "\u001b[0;31mValueError\u001b[0m                                Traceback (most recent call last)",
            "\u001b[0;32m<ipython-input-66-bbb44c44b9e3>\u001b[0m in \u001b[0;36m<module>\u001b[0;34m()\u001b[0m\n\u001b[0;32m----> 1\u001b[0;31m \u001b[0mhistory\u001b[0m \u001b[0;34m=\u001b[0m \u001b[0mmodel\u001b[0m\u001b[0;34m.\u001b[0m\u001b[0mfit\u001b[0m\u001b[0;34m(\u001b[0m\u001b[0mxs\u001b[0m\u001b[0;34m,\u001b[0m \u001b[0mys\u001b[0m\u001b[0;34m,\u001b[0m \u001b[0mepochs\u001b[0m\u001b[0;34m=\u001b[0m\u001b[0;36m50\u001b[0m\u001b[0;34m,\u001b[0m \u001b[0mverbose\u001b[0m\u001b[0;34m=\u001b[0m\u001b[0;36m1\u001b[0m\u001b[0;34m)\u001b[0m\u001b[0;34m\u001b[0m\u001b[0;34m\u001b[0m\u001b[0m\n\u001b[0m",
            "\u001b[0;32m/usr/local/lib/python3.6/dist-packages/tensorflow/python/keras/engine/training.py\u001b[0m in \u001b[0;36mfit\u001b[0;34m(self, x, y, batch_size, epochs, verbose, callbacks, validation_split, validation_data, shuffle, class_weight, sample_weight, initial_epoch, steps_per_epoch, validation_steps, validation_freq, max_queue_size, workers, use_multiprocessing, **kwargs)\u001b[0m\n\u001b[1;32m    804\u001b[0m         \u001b[0msteps\u001b[0m\u001b[0;34m=\u001b[0m\u001b[0msteps_per_epoch\u001b[0m\u001b[0;34m,\u001b[0m\u001b[0;34m\u001b[0m\u001b[0;34m\u001b[0m\u001b[0m\n\u001b[1;32m    805\u001b[0m         \u001b[0mvalidation_split\u001b[0m\u001b[0;34m=\u001b[0m\u001b[0mvalidation_split\u001b[0m\u001b[0;34m,\u001b[0m\u001b[0;34m\u001b[0m\u001b[0;34m\u001b[0m\u001b[0m\n\u001b[0;32m--> 806\u001b[0;31m         shuffle=shuffle)\n\u001b[0m\u001b[1;32m    807\u001b[0m \u001b[0;34m\u001b[0m\u001b[0m\n\u001b[1;32m    808\u001b[0m     \u001b[0;31m# Prepare validation data.\u001b[0m\u001b[0;34m\u001b[0m\u001b[0;34m\u001b[0m\u001b[0;34m\u001b[0m\u001b[0m\n",
            "\u001b[0;32m/usr/local/lib/python3.6/dist-packages/tensorflow/python/keras/engine/training.py\u001b[0m in \u001b[0;36m_standardize_user_data\u001b[0;34m(self, x, y, sample_weight, class_weight, batch_size, check_steps, steps_name, steps, validation_split, shuffle, extract_tensors_from_dataset)\u001b[0m\n\u001b[1;32m   2594\u001b[0m           \u001b[0mfeed_input_shapes\u001b[0m\u001b[0;34m,\u001b[0m\u001b[0;34m\u001b[0m\u001b[0;34m\u001b[0m\u001b[0m\n\u001b[1;32m   2595\u001b[0m           \u001b[0mcheck_batch_axis\u001b[0m\u001b[0;34m=\u001b[0m\u001b[0;32mFalse\u001b[0m\u001b[0;34m,\u001b[0m  \u001b[0;31m# Don't enforce the batch size.\u001b[0m\u001b[0;34m\u001b[0m\u001b[0;34m\u001b[0m\u001b[0m\n\u001b[0;32m-> 2596\u001b[0;31m           exception_prefix='input')\n\u001b[0m\u001b[1;32m   2597\u001b[0m \u001b[0;34m\u001b[0m\u001b[0m\n\u001b[1;32m   2598\u001b[0m     \u001b[0;32mif\u001b[0m \u001b[0my\u001b[0m \u001b[0;32mis\u001b[0m \u001b[0;32mnot\u001b[0m \u001b[0;32mNone\u001b[0m\u001b[0;34m:\u001b[0m\u001b[0;34m\u001b[0m\u001b[0;34m\u001b[0m\u001b[0m\n",
            "\u001b[0;32m/usr/local/lib/python3.6/dist-packages/tensorflow/python/keras/engine/training_utils.py\u001b[0m in \u001b[0;36mstandardize_input_data\u001b[0;34m(data, names, shapes, check_batch_axis, exception_prefix)\u001b[0m\n\u001b[1;32m    347\u001b[0m                              \u001b[0;34m': expected '\u001b[0m \u001b[0;34m+\u001b[0m \u001b[0mnames\u001b[0m\u001b[0;34m[\u001b[0m\u001b[0mi\u001b[0m\u001b[0;34m]\u001b[0m \u001b[0;34m+\u001b[0m \u001b[0;34m' to have shape '\u001b[0m \u001b[0;34m+\u001b[0m\u001b[0;34m\u001b[0m\u001b[0;34m\u001b[0m\u001b[0m\n\u001b[1;32m    348\u001b[0m                              \u001b[0mstr\u001b[0m\u001b[0;34m(\u001b[0m\u001b[0mshape\u001b[0m\u001b[0;34m)\u001b[0m \u001b[0;34m+\u001b[0m \u001b[0;34m' but got array with shape '\u001b[0m \u001b[0;34m+\u001b[0m\u001b[0;34m\u001b[0m\u001b[0;34m\u001b[0m\u001b[0m\n\u001b[0;32m--> 349\u001b[0;31m                              str(data_shape))\n\u001b[0m\u001b[1;32m    350\u001b[0m   \u001b[0;32mreturn\u001b[0m \u001b[0mdata\u001b[0m\u001b[0;34m\u001b[0m\u001b[0;34m\u001b[0m\u001b[0m\n\u001b[1;32m    351\u001b[0m \u001b[0;34m\u001b[0m\u001b[0m\n",
            "\u001b[0;31mValueError\u001b[0m: Error when checking input: expected embedding_3_input to have shape (30,) but got array with shape (29,)"
          ]
        }
      ]
    },
    {
      "cell_type": "code",
      "metadata": {
        "id": "rZidmnc-U79N"
      },
      "source": [
        "import matplotlib.pyplot as plt\n",
        "\n",
        "\n",
        "def plot_graphs(history, string):\n",
        "  plt.plot(history.history[string])\n",
        "  plt.xlabel(\"Epochs\")\n",
        "  plt.ylabel(ylabel=\"Accuratezza\")\n",
        "  plt.show()"
      ],
      "execution_count": null,
      "outputs": []
    },
    {
      "cell_type": "code",
      "metadata": {
        "id": "tt-T68mJU98S",
        "colab": {
          "base_uri": "https://localhost:8080/",
          "height": 281
        },
        "outputId": "61dc294d-1276-473c-efb0-229d0edb2baa"
      },
      "source": [
        "plot_graphs(history, 'accuracy')"
      ],
      "execution_count": null,
      "outputs": [
        {
          "output_type": "display_data",
          "data": {
            "image/png": "[encoded data removed]",
            "text/plain": [
              "<Figure size 432x288 with 1 Axes>"
            ]
          },
          "metadata": {
            "tags": [],
            "needs_background": "light"
          }
        }
      ]
    },
    {
      "cell_type": "code",
      "metadata": {
        "id": "-ONs5spxg1rp",
        "colab": {
          "base_uri": "https://localhost:8080/"
        },
        "outputId": "aed2cbcb-4835-4bbc-b8d2-390b272f672b"
      },
      "source": [
        "#genero metà sequenza di dna non sanificato\n",
        "half_seq_length = int(seq_length / 2)\n",
        "half_sequence = [random.choice(bases_list) for _ in range(half_seq_length)]\n",
        "half_sequence = \"\".join(half_sequence)\n",
        "\n",
        "print(half_sequence)"
      ],
      "execution_count": null,
      "outputs": [
        {
          "output_type": "stream",
          "text": [
            "AACCAAGACCTTGAA\n"
          ],
          "name": "stdout"
        }
      ]
    },
    {
      "cell_type": "code",
      "metadata": {
        "id": "cfiDYGL-gxHo"
      },
      "source": [
        "def make_prediction(next_words, tokenizer, model, text_to_predict, j):\n",
        "\tfor _ in range(next_words):\n",
        "\t\ttoken_list = tokenizer.texts_to_sequences([text_to_predict])[0]\n",
        "\t\ttoken_list = pad_sequences([token_list], maxlen=max_sequence_len-1, padding='pre')\n",
        "\t\tpredicted = model.predict_classes(token_list, verbose=0)\n",
        "\t\toutput_word = \"\"\n",
        "\t\tfor word, index in tokenizer.word_index.items():\n",
        "\t\t\tif index == predicted:\n",
        "\t\t\t\toutput_word = word\n",
        "\t\t\t\tbreak\n",
        "\t\ttext_to_predict += \"\" + output_word \n",
        "\t\tj += \"\" + output_word \n",
        "\t\tnew_sequence = \"\".join(j) #isolo la nuova sequenza generata\n",
        "\treturn new_sequence, text_to_predict"
      ],
      "execution_count": null,
      "outputs": []
    },
    {
      "cell_type": "code",
      "metadata": {
        "id": "cZx5OkTB-5_R",
        "colab": {
          "base_uri": "https://localhost:8080/"
        },
        "outputId": "163ed124-1c6c-4443-8994-8bb5e76f8a8b"
      },
      "source": [
        "text_to_predict = half_sequence\n",
        "next_words = half_seq_length\n",
        "new_sequence = []\n",
        "increase_string = \"\"\n",
        "\n",
        "new_sequence, text_to_predict = make_prediction(next_words, tokenizer, model, text_to_predict, increase_string)\n",
        "\n",
        "print(text_to_predict) #concatenazione tra sequenza passata in input e la nuova generata\n",
        "print(new_sequence)"
      ],
      "execution_count": null,
      "outputs": [
        {
          "output_type": "stream",
          "text": [
            "AACCAAGACCTTGAAacactcagagacttg\n",
            "acactcagagacttg\n"
          ],
          "name": "stdout"
        }
      ]
    },
    {
      "cell_type": "code",
      "metadata": {
        "id": "N0ienvjiiw8_"
      },
      "source": [
        "def make_upper(text, index):\n",
        "  s = \"\"\n",
        "  for i in text:\n",
        "    if i == \"a\":\n",
        "      s = \"A\"\n",
        "    if i == \"c\":\n",
        "      s = \"C\"\n",
        "    if i == \"g\":\n",
        "      s = \"G\"\n",
        "    if i == \"t\":\n",
        "      s = \"T\"\n",
        "    index += \"\" + s\n",
        "    text = \"\".join(index)\n",
        "  return text"
      ],
      "execution_count": null,
      "outputs": []
    },
    {
      "cell_type": "code",
      "metadata": {
        "id": "YmnP9ZmvsYTq",
        "colab": {
          "base_uri": "https://localhost:8080/"
        },
        "outputId": "5805beaa-5db6-4dd7-8b8f-df0e5d2753f2"
      },
      "source": [
        "increase_sequence = \"\"\n",
        "print(make_upper(new_sequence, increase_sequence))"
      ],
      "execution_count": null,
      "outputs": [
        {
          "output_type": "stream",
          "text": [
            "ACACTCAGAGACTTG\n"
          ],
          "name": "stdout"
        }
      ]
    }
  ]
}