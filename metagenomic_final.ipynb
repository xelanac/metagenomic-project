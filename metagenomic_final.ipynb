{
  "nbformat": 4,
  "nbformat_minor": 0,
  "metadata": {
    "colab": {
      "name": "metagenomic_final.ipynb",
      "provenance": [],
      "collapsed_sections": [
        "RRdnF-T7GW3A",
        "SsYlsw4_Gbcc",
        "143wOQzGFQlL"
      ],
      "mount_file_id": "1fL0-eDKgqVA4MlRSci89QiN6Bhk3Uyol",
      "authorship_tag": "ABX9TyNhjs98MHAUzBruAwkr4Yz+",
      "include_colab_link": true
    },
    "kernelspec": {
      "display_name": "Python 3",
      "name": "python3"
    }
  },
  "cells": [
    {
      "cell_type": "markdown",
      "metadata": {
        "id": "view-in-github",
        "colab_type": "text"
      },
      "source": [
        "<a href=\"https://colab.research.google.com/github/xelanac/metagenomic-project/blob/main/metagenomic_final.ipynb\" target=\"_parent\"><img src=\"https://colab.research.google.com/assets/colab-badge.svg\" alt=\"Open In Colab\"/></a>"
      ]
    },
    {
      "cell_type": "markdown",
      "metadata": {
        "id": "x4AruxVWPFnO"
      },
      "source": [
        "#Import delle librerie"
      ]
    },
    {
      "cell_type": "code",
      "metadata": {
        "id": "DDP2iYK4O-X6"
      },
      "source": [
        "%%capture\n",
        "!pip3 install google-nucleus==0.4.0\n",
        "!pip install -q tensorflow==2.0.0-alpha0\n",
        "\n",
        "from __future__ import absolute_import\n",
        "from __future__ import division\n",
        "from __future__ import print_function\n",
        "\n",
        "import os\n",
        "import random\n",
        "\n",
        "import numpy as np\n",
        "\n",
        "#librerie per la lettura dei file fastq\n",
        "from nucleus.io import fastq\n",
        "from nucleus.io import fasta\n",
        "from nucleus.io import sam\n",
        "from nucleus.io import vcf\n",
        "from nucleus.io.genomics_writer import TFRecordWriter\n",
        "from nucleus.protos import reads_pb2\n",
        "from nucleus.util import cigar\n",
        "from nucleus.util import ranges\n",
        "from nucleus.util import utils\n",
        "\n",
        "import torch\n",
        "import tensorflow as tf\n",
        "from tensorflow import keras\n",
        "from tensorflow.keras import layers\n",
        "\n",
        "#matplotlib per il plot dell'accuratezza del modello in base ad ogni epoca\n",
        "import matplotlib.pyplot as plt\n",
        "\n",
        "#librerie per la creazione del vocabolario\n",
        "from tensorflow.keras.preprocessing.text import Tokenizer\n",
        "from tensorflow.keras.preprocessing.sequence import pad_sequences\n",
        "\n",
        "#librerie per la costruzione della rete neurale RNN\n",
        "from tensorflow.keras.layers import Embedding, LSTM, Dense, Bidirectional\n",
        "from tensorflow.keras.models import Sequential\n",
        "from tensorflow.keras.optimizers import Adam"
      ],
      "execution_count": 1,
      "outputs": []
    },
    {
      "cell_type": "markdown",
      "metadata": {
        "id": "98V_jRj4PROA"
      },
      "source": [
        "#Generazione di dataset randomici"
      ]
    },
    {
      "cell_type": "code",
      "metadata": {
        "id": "tDVaV9F9PVRs"
      },
      "source": [
        "bases_list = [\"A\",\"C\",\"G\",\"T\"]\n",
        "seq_length = 20 #lunghezza stringa\n",
        "seq_num = 50 #lunghezza dataset\n",
        "\n",
        "dna_not_sanitized = []\n",
        "dna_sanitized = []"
      ],
      "execution_count": 70,
      "outputs": []
    },
    {
      "cell_type": "code",
      "metadata": {
        "id": "DETl6UmH-CDh"
      },
      "source": [
        "def random_seq_generation(n_seq, seq_len, dataset):\n",
        "  for index in range(n_seq):\n",
        "    sequence = [random.choice(bases_list) for _ in range(seq_len)]\n",
        "    sequence = \"\".join(sequence)\n",
        "    dataset.append(sequence)"
      ],
      "execution_count": 71,
      "outputs": []
    },
    {
      "cell_type": "code",
      "metadata": {
        "id": "MTwW6If7-lQL"
      },
      "source": [
        "random_seq_generation(seq_num, seq_length, dna_not_sanitized)\n",
        "random_seq_generation(seq_num, seq_length, dna_sanitized)"
      ],
      "execution_count": 72,
      "outputs": []
    },
    {
      "cell_type": "markdown",
      "metadata": {
        "id": "khJvyYzMpeZZ"
      },
      "source": [
        "#Caricamento e analisi di dati reali (in questo caso trascurare la precedente sezione di generazione di dataset randomici)"
      ]
    },
    {
      "cell_type": "markdown",
      "metadata": {
        "id": "pGydAYSlqKNs"
      },
      "source": [
        "Collegamento al drive e import dei dati reali"
      ]
    },
    {
      "cell_type": "code",
      "metadata": {
        "id": "vAhdq0_cqA6n"
      },
      "source": [
        "#accesso al drive\n",
        "\"\"\"\n",
        "from google.colab import drive\n",
        "drive.mount('/content/drive')\n",
        "\"\"\""
      ],
      "execution_count": null,
      "outputs": []
    },
    {
      "cell_type": "code",
      "metadata": {
        "id": "5_GFYpDekiyK"
      },
      "source": [
        "path_not_sanitized = \"/content/drive/MyDrive/fastQ_data/fastQ_01_2021/ERX149279.fastq.gz\"\n",
        "path_sanitized = \"/content/drive/MyDrive/fastQ_data/fastQ_01_2021/ERX149293.fastq.gz\""
      ],
      "execution_count": null,
      "outputs": []
    },
    {
      "cell_type": "code",
      "metadata": {
        "id": "2oKteMsGkDjq"
      },
      "source": [
        "def seq_isolation(dataset, dataset_len, seq_dataset):\n",
        "  index = 0\n",
        "  seq_list = []\n",
        "\n",
        "  for i in dataset:\n",
        "    if index < dataset_len:\n",
        "      seq_list.append(i)\n",
        "      b = str(list(seq_list)[index]).split(\"\\n\")[2]\n",
        "      seq = \"\"\n",
        "      for j in b:\n",
        "        if j == \"A\" or j == \"C\" or j == \"G\" or j == \"T\":\n",
        "          seq += j\n",
        "      seq_dataset.append(seq)\n",
        "      index += 1\n",
        "    else:\n",
        "      break;"
      ],
      "execution_count": null,
      "outputs": []
    },
    {
      "cell_type": "code",
      "metadata": {
        "id": "7TOPJEY8kIDk"
      },
      "source": [
        "dataset_length = 50 #se non si usa questo flag l'iterazione sul fastq restituisce: \"Failed to parse FASTQ record\"  "
      ],
      "execution_count": null,
      "outputs": []
    },
    {
      "cell_type": "markdown",
      "metadata": {
        "id": "vjKPXZltkQ-s"
      },
      "source": [
        "Creazione della lista contenente solo le sequenze dei due fastq"
      ]
    },
    {
      "cell_type": "code",
      "metadata": {
        "id": "uXc_iQTgkMDc"
      },
      "source": [
        "#lista dna non sanificato -> dna_not_sanitized\n",
        "fastq_dataset_not_sanitized = fastq.FastqReader(path_not_sanitized)\n",
        "\n",
        "dna_not_sanitized = []\n",
        "seq_isolation(fastq_dataset_not_sanitized, dataset_length, dna_not_sanitized)"
      ],
      "execution_count": null,
      "outputs": []
    },
    {
      "cell_type": "code",
      "metadata": {
        "id": "vayNv_C3k9nl"
      },
      "source": [
        "#lista dna sanificato -> dna_sanitized\n",
        "fastq_dataset_sanitized = fastq.FastqReader(path_sanitized)\n",
        "\n",
        "dna_sanitized = []\n",
        "seq_isolation(fastq_dataset_sanitized, dataset_length, dna_sanitized)"
      ],
      "execution_count": null,
      "outputs": []
    },
    {
      "cell_type": "markdown",
      "metadata": {
        "id": "wt9FrIPEsXsf"
      },
      "source": [
        "Check sulla lunghezza delle sequenze"
      ]
    },
    {
      "cell_type": "code",
      "metadata": {
        "id": "LKNr1LGxsZ4Z",
        "colab": {
          "base_uri": "https://localhost:8080/"
        },
        "outputId": "0199caed-3924-4011-ceae-510151c1f0ad"
      },
      "source": [
        "#Lunghezza massima e minima del dataset \"not_sanitized\"\n",
        "print(\"Lunghezza massima delle sequenze dna_not_sanitized: \" , len(max(dna_not_sanitized, key=len)))\n",
        "print(\"Lunghezza minima delle sequenze dna_not_sanitized: \" , len(min(dna_not_sanitized, key=len)), \"\\n\")\n",
        "\n",
        "#Lunghezza massima e minima del dataset \"sanitized\"\n",
        "print(\"Lunghezza massima delle sequenze dna_sanitized: \" ,  len(max(dna_sanitized, key=len)))\n",
        "print(\"Lunghezza minima delle sequenze dna_sanitized: \" , len(min(dna_sanitized, key=len)))"
      ],
      "execution_count": null,
      "outputs": [
        {
          "output_type": "stream",
          "text": [
            "Lunghezza massima delle sequenze dna_not_sanitized:  76\n",
            "Lunghezza minima delle sequenze dna_not_sanitized:  76 \n",
            "\n",
            "Lunghezza massima delle sequenze dna_sanitized:  76\n",
            "Lunghezza minima delle sequenze dna_sanitized:  76\n"
          ],
          "name": "stdout"
        }
      ]
    },
    {
      "cell_type": "markdown",
      "metadata": {
        "id": "5nm26iWyti0e"
      },
      "source": [
        "Check che verifica se la sequenza ha qualche parametro \"K\", il quale indica un'imprecisione in fase di campionamento"
      ]
    },
    {
      "cell_type": "code",
      "metadata": {
        "id": "x2jSNcbOtr8H",
        "colab": {
          "base_uri": "https://localhost:8080/"
        },
        "outputId": "50b2dfd2-0294-4552-c74b-971ca50591c7"
      },
      "source": [
        "def sequences_check(sequences_list):\n",
        "  i = 0\n",
        "\n",
        "  for single_sequence in sequences_list:\n",
        "    for index in single_sequence:\n",
        "      if index == \"K\":\n",
        "        return True\n",
        "    i+= 1\n",
        "  return False\n",
        "  \n",
        "print(\"Check delle sequenze non sanificate: \\n\", sequences_check(dna_not_sanitized))\n",
        "print(\"Check delle sequenze  sanificate: \\n\", sequences_check(dna_sanitized))"
      ],
      "execution_count": null,
      "outputs": [
        {
          "output_type": "stream",
          "text": [
            "Check delle sequenze non sanificate: \n",
            " False\n",
            "Check delle sequenze  sanificate: \n",
            " False\n"
          ],
          "name": "stdout"
        }
      ]
    },
    {
      "cell_type": "markdown",
      "metadata": {
        "id": "4Fee-J8Hv6Xl"
      },
      "source": [
        "Se la funzione \"sequence_check()\" restituisce \"True\" per una delle due liste, procedere con la correzione; altrimenti procedere con la creazione del vocabolario"
      ]
    },
    {
      "cell_type": "code",
      "metadata": {
        "id": "YA9OYhpBwKxS"
      },
      "source": [
        "#con questo metodo sostituisco il parametro \"k\" con una delle basi azotate(in questo caso ho scelto l'Adenina)\n",
        "def sequences_correction(sequences_list): \n",
        "  j = 0\n",
        "  new_dna_sequence_list = []\n",
        "  for single_sequence in sequences_list:\n",
        "    i = 0\n",
        "    new_sequence = \"\"\n",
        "    for index in single_sequence:\n",
        "      if index == \"K\":\n",
        "        new_sequence+=\"A\"\n",
        "      else:\n",
        "        new_sequence+=index\n",
        "      i+=1\n",
        "    new_dna_sequence_list.append(new_sequence)  \n",
        "    j+=1     \n",
        "\n",
        "  sequences_list = new_dna_sequence_list\n",
        "  return sequences_list"
      ],
      "execution_count": null,
      "outputs": []
    },
    {
      "cell_type": "code",
      "metadata": {
        "id": "zXACHaqy05hm"
      },
      "source": [
        "sequences_correction(dna_not_sanitized)\n",
        "sequences_correction(dna_sanitized)"
      ],
      "execution_count": null,
      "outputs": []
    },
    {
      "cell_type": "markdown",
      "metadata": {
        "id": "JJqAwxPCSsio"
      },
      "source": [
        "#Creo il vocabolario"
      ]
    },
    {
      "cell_type": "code",
      "metadata": {
        "colab": {
          "base_uri": "https://localhost:8080/"
        },
        "id": "yqTGuXyUac1t",
        "outputId": "6f71b39c-ff15-4874-fe52-4177fb5fb4b1"
      },
      "source": [
        "tokenizer = Tokenizer(char_level=True)\n",
        "\n",
        "tokenizer.fit_on_texts(dna_not_sanitized)\n",
        "\n",
        "vocab = tokenizer.word_index\n",
        "vocab_length = len(vocab) + 1\n",
        "\n",
        "print(\"Vocabulary: \" ,vocab)"
      ],
      "execution_count": 73,
      "outputs": [
        {
          "output_type": "stream",
          "text": [
            "Vocabulary:  {'a': 1, 'c': 2, 't': 3, 'g': 4}\n"
          ],
          "name": "stdout"
        }
      ]
    },
    {
      "cell_type": "code",
      "metadata": {
        "id": "O5uXy2ogTC5s"
      },
      "source": [
        "input_not_sanitized = []\n",
        "\n",
        "for record in dna_not_sanitized:\n",
        "\ttoken_list = tokenizer.texts_to_sequences([record])[0]\n",
        "\tfor i in range(1, len(token_list)):\n",
        "\t\tn_gram_sequence = token_list[:i+1]\n",
        "\t\tinput_not_sanitized.append(n_gram_sequence)\n",
        "\n",
        "#pad sequences \n",
        "max_sequence_len = max([len(x) for x in input_not_sanitized])\n",
        "input_sequences = np.array(pad_sequences(input_not_sanitized, maxlen=max_sequence_len, padding='pre'))\n",
        "\n",
        "#xs, labels_x = input_sequences[:,:-1],input_sequences[:,-1] #il -1 omette l'ultimo carattere\n",
        "xs = input_sequences[:,:-1] #il -1 omette l'ultimo carattere"
      ],
      "execution_count": 74,
      "outputs": []
    },
    {
      "cell_type": "code",
      "metadata": {
        "colab": {
          "base_uri": "https://localhost:8080/"
        },
        "id": "bXv9sV36kk6E",
        "outputId": "61889277-34f7-4580-b231-df398f31a58f"
      },
      "source": [
        "print(input_sequences)\n",
        "print(input_sequences[:-1])"
      ],
      "execution_count": 75,
      "outputs": [
        {
          "output_type": "stream",
          "text": [
            "[[0 0 0 ... 0 2 3]\n",
            " [0 0 0 ... 2 3 4]\n",
            " [0 0 0 ... 3 4 4]\n",
            " ...\n",
            " [0 0 1 ... 4 3 1]\n",
            " [0 1 2 ... 3 1 1]\n",
            " [1 2 1 ... 1 1 1]]\n",
            "[[0 0 0 ... 0 2 3]\n",
            " [0 0 0 ... 2 3 4]\n",
            " [0 0 0 ... 3 4 4]\n",
            " ...\n",
            " [0 0 0 ... 3 4 3]\n",
            " [0 0 1 ... 4 3 1]\n",
            " [0 1 2 ... 3 1 1]]\n"
          ],
          "name": "stdout"
        }
      ]
    },
    {
      "cell_type": "code",
      "metadata": {
        "id": "pWSt4TxlUYDG"
      },
      "source": [
        "input_sanitized = []\n",
        "\n",
        "for line in dna_sanitized:\n",
        "\ttoken_list = tokenizer.texts_to_sequences([line])[0]\n",
        "\tfor i in range(1, len(token_list)):\n",
        "\t\tn_gram_sequence = token_list[:i+1]\n",
        "\t\tinput_sanitized.append(n_gram_sequence)\n",
        "\n",
        "#pad sequences\n",
        "max_sequence_len = max([len(x) for x in input_sanitized])\n",
        "input_sequences = np.array(pad_sequences(input_sanitized, maxlen=max_sequence_len, padding='pre'))\n",
        "\n",
        "ys, labels_y = input_sequences[:,:-1],input_sequences[:,-1]\n",
        "\n",
        "ys = tf.keras.utils.to_categorical(labels_y, num_classes=vocab_length)"
      ],
      "execution_count": 76,
      "outputs": []
    },
    {
      "cell_type": "markdown",
      "metadata": {
        "id": "BnTRmRr_Usus"
      },
      "source": [
        "#Costruzione del modello Rnn con layer LSTM"
      ]
    },
    {
      "cell_type": "markdown",
      "metadata": {
        "id": "RRdnF-T7GW3A"
      },
      "source": [
        "##Modello RNN Bidirezionale(LSTM)"
      ]
    },
    {
      "cell_type": "markdown",
      "metadata": {
        "id": "cnKFEBGnK7MP"
      },
      "source": [
        "**N.B:** Bidirectional fa una copia del layer RNN passatogli come argomento e, attraverso il campo go_backwards, riesce a capovolgere l'input, quindi ad elaborarlo anche in ordine inverso.\n",
        "Questo apporccio non tiene conto solo delle parole successive da generare, ma anche del contesto che c'è intorno al carattere/parola successiva al fine di ottere una migliore predizione, preservando più informazioni utili nel tempo."
      ]
    },
    {
      "cell_type": "code",
      "metadata": {
        "id": "lyPaav9HU1U-"
      },
      "source": [
        "def bidirectional_rnn(vocab, max_seq_len):\n",
        "  print(\"Bidirectional LSTM MODEL\")\n",
        "  model_bidirectional = Sequential(name=\"metagenomic prediction bidirectional\")\n",
        "  model_bidirectional.add(Embedding(vocab, 110, input_length=max_seq_len, name=\"input_layer\"))\n",
        "  model_bidirectional.add(Bidirectional(LSTM(150), name=\"LSTM\"))\n",
        "  model_bidirectional.add(Dense(vocab, activation='softmax', name=\"output_layer\"))\n",
        "\n",
        "  adam = Adam(lr=0.01)\n",
        "  model_bidirectional.compile(loss='categorical_crossentropy', optimizer=adam, metrics=['accuracy'])\n",
        "\n",
        "  return model_bidirectional"
      ],
      "execution_count": 77,
      "outputs": []
    },
    {
      "cell_type": "code",
      "metadata": {
        "colab": {
          "base_uri": "https://localhost:8080/"
        },
        "id": "Dop7BAANU21P",
        "outputId": "6c95787b-0b0a-45ed-ac08-f3f0fae54ba9"
      },
      "source": [
        "model_bidirectional = bidirectional_rnn(vocab_length, max_sequence_len-1)\n",
        "model_bidirectional.summary()"
      ],
      "execution_count": 78,
      "outputs": [
        {
          "output_type": "stream",
          "text": [
            "Bidirectional LSTM MODEL\n",
            "Model: \"metagenomic prediction bidirectional\"\n",
            "_________________________________________________________________\n",
            "Layer (type)                 Output Shape              Param #   \n",
            "=================================================================\n",
            "input_layer (Embedding)      (None, 19, 110)           550       \n",
            "_________________________________________________________________\n",
            "LSTM (Bidirectional)         (None, 300)               313200    \n",
            "_________________________________________________________________\n",
            "output_layer (Dense)         (None, 5)                 1505      \n",
            "=================================================================\n",
            "Total params: 315,255\n",
            "Trainable params: 315,255\n",
            "Non-trainable params: 0\n",
            "_________________________________________________________________\n"
          ],
          "name": "stdout"
        }
      ]
    },
    {
      "cell_type": "markdown",
      "metadata": {
        "id": "SsYlsw4_Gbcc"
      },
      "source": [
        "##Training del modello bidirezionale"
      ]
    },
    {
      "cell_type": "code",
      "metadata": {
        "colab": {
          "base_uri": "https://localhost:8080/"
        },
        "id": "nLpqqVH6U4mG",
        "outputId": "d1ea590d-701e-4d0b-8614-206bca66bb5f"
      },
      "source": [
        "history_bidirectional = model_bidirectional.fit(xs, ys, epochs=40, verbose=1)"
      ],
      "execution_count": 79,
      "outputs": [
        {
          "output_type": "stream",
          "text": [
            "Epoch 1/40\n",
            "950/950 [==============================] - 3s 3ms/sample - loss: 1.4683 - accuracy: 0.2516\n",
            "Epoch 2/40\n",
            "950/950 [==============================] - 2s 2ms/sample - loss: 1.3977 - accuracy: 0.2579\n",
            "Epoch 3/40\n",
            "950/950 [==============================] - 2s 2ms/sample - loss: 1.3966 - accuracy: 0.2284\n",
            "Epoch 4/40\n",
            "950/950 [==============================] - 2s 2ms/sample - loss: 1.3861 - accuracy: 0.2905\n",
            "Epoch 5/40\n",
            "950/950 [==============================] - 2s 2ms/sample - loss: 1.3915 - accuracy: 0.2695\n",
            "Epoch 6/40\n",
            "950/950 [==============================] - 2s 2ms/sample - loss: 1.4030 - accuracy: 0.2621\n",
            "Epoch 7/40\n",
            "950/950 [==============================] - 2s 2ms/sample - loss: 1.3852 - accuracy: 0.2726\n",
            "Epoch 8/40\n",
            "950/950 [==============================] - 2s 2ms/sample - loss: 1.3845 - accuracy: 0.2737\n",
            "Epoch 9/40\n",
            "950/950 [==============================] - 2s 2ms/sample - loss: 1.3814 - accuracy: 0.2674\n",
            "Epoch 10/40\n",
            "950/950 [==============================] - 2s 2ms/sample - loss: 1.3712 - accuracy: 0.2821\n",
            "Epoch 11/40\n",
            "950/950 [==============================] - 2s 2ms/sample - loss: 1.3625 - accuracy: 0.2853\n",
            "Epoch 12/40\n",
            "950/950 [==============================] - 2s 2ms/sample - loss: 1.3366 - accuracy: 0.3305\n",
            "Epoch 13/40\n",
            "950/950 [==============================] - 2s 2ms/sample - loss: 1.3295 - accuracy: 0.3211\n",
            "Epoch 14/40\n",
            "950/950 [==============================] - 4s 4ms/sample - loss: 1.3001 - accuracy: 0.3495\n",
            "Epoch 15/40\n",
            "950/950 [==============================] - 2s 2ms/sample - loss: 1.2641 - accuracy: 0.4053\n",
            "Epoch 16/40\n",
            "950/950 [==============================] - 2s 2ms/sample - loss: 1.2345 - accuracy: 0.4011\n",
            "Epoch 17/40\n",
            "950/950 [==============================] - 2s 2ms/sample - loss: 1.2012 - accuracy: 0.4368\n",
            "Epoch 18/40\n",
            "950/950 [==============================] - 2s 2ms/sample - loss: 1.1329 - accuracy: 0.4821\n",
            "Epoch 19/40\n",
            "950/950 [==============================] - 2s 2ms/sample - loss: 1.0713 - accuracy: 0.5211\n",
            "Epoch 20/40\n",
            "950/950 [==============================] - 2s 2ms/sample - loss: 0.9623 - accuracy: 0.5905\n",
            "Epoch 21/40\n",
            "950/950 [==============================] - 2s 2ms/sample - loss: 0.8879 - accuracy: 0.6389\n",
            "Epoch 22/40\n",
            "950/950 [==============================] - 2s 2ms/sample - loss: 0.7701 - accuracy: 0.6863\n",
            "Epoch 23/40\n",
            "950/950 [==============================] - 2s 2ms/sample - loss: 0.6471 - accuracy: 0.7495\n",
            "Epoch 24/40\n",
            "950/950 [==============================] - 2s 2ms/sample - loss: 0.4998 - accuracy: 0.8189\n",
            "Epoch 25/40\n",
            "950/950 [==============================] - 2s 2ms/sample - loss: 0.3832 - accuracy: 0.8758\n",
            "Epoch 26/40\n",
            "950/950 [==============================] - 2s 2ms/sample - loss: 0.2684 - accuracy: 0.9126\n",
            "Epoch 27/40\n",
            "950/950 [==============================] - 2s 2ms/sample - loss: 0.2076 - accuracy: 0.9263\n",
            "Epoch 28/40\n",
            "950/950 [==============================] - 2s 2ms/sample - loss: 0.1724 - accuracy: 0.9263\n",
            "Epoch 29/40\n",
            "950/950 [==============================] - 2s 2ms/sample - loss: 0.1557 - accuracy: 0.9295\n",
            "Epoch 30/40\n",
            "950/950 [==============================] - 2s 2ms/sample - loss: 0.1474 - accuracy: 0.9316\n",
            "Epoch 31/40\n",
            "950/950 [==============================] - 2s 2ms/sample - loss: 0.1440 - accuracy: 0.9284\n",
            "Epoch 32/40\n",
            "950/950 [==============================] - 2s 2ms/sample - loss: 0.1457 - accuracy: 0.9337\n",
            "Epoch 33/40\n",
            "950/950 [==============================] - 2s 2ms/sample - loss: 0.1394 - accuracy: 0.9221\n",
            "Epoch 34/40\n",
            "950/950 [==============================] - 2s 2ms/sample - loss: 0.1398 - accuracy: 0.9305\n",
            "Epoch 35/40\n",
            "950/950 [==============================] - 2s 2ms/sample - loss: 0.1373 - accuracy: 0.9284\n",
            "Epoch 36/40\n",
            "950/950 [==============================] - 2s 2ms/sample - loss: 0.1349 - accuracy: 0.9337\n",
            "Epoch 37/40\n",
            "950/950 [==============================] - 2s 2ms/sample - loss: 0.1308 - accuracy: 0.9295\n",
            "Epoch 38/40\n",
            "950/950 [==============================] - 2s 2ms/sample - loss: 0.1327 - accuracy: 0.9295\n",
            "Epoch 39/40\n",
            "950/950 [==============================] - 2s 2ms/sample - loss: 0.1313 - accuracy: 0.9274\n",
            "Epoch 40/40\n",
            "950/950 [==============================] - 2s 2ms/sample - loss: 0.1301 - accuracy: 0.9326\n"
          ],
          "name": "stdout"
        }
      ]
    },
    {
      "cell_type": "markdown",
      "metadata": {
        "id": "m0Q2oHY_E7oH"
      },
      "source": [
        "##Modello RNN Unidirezionale(LSTM)"
      ]
    },
    {
      "cell_type": "code",
      "metadata": {
        "id": "CVgPhqxqFDKD"
      },
      "source": [
        "def unidirectional_rnn(vocab, max_seq_len):\n",
        "  print(\"Unidirectional LSTM MODEL\")\n",
        "  model_unidirectional = Sequential(name=\"metagenomic prediction unidirectional\")\n",
        "  model_unidirectional.add(Embedding(vocab, 110, input_length=max_seq_len, name=\"input_layer\"))\n",
        "  model_unidirectional.add(LSTM(150, go_backwards=False))\n",
        "  model_unidirectional.add(Dense(vocab, activation='softmax', name=\"output_layer\"))\n",
        "\n",
        "  adam = Adam(lr=0.01)\n",
        "  model_unidirectional.compile(loss='categorical_crossentropy', optimizer=adam, metrics=['accuracy'])\n",
        "\n",
        "  return model_unidirectional"
      ],
      "execution_count": 80,
      "outputs": []
    },
    {
      "cell_type": "code",
      "metadata": {
        "id": "o6rwZa3-FHej",
        "colab": {
          "base_uri": "https://localhost:8080/"
        },
        "outputId": "930d7708-304f-4f42-902b-383bdc9ed98b"
      },
      "source": [
        "model_unidirectional = unidirectional_rnn(vocab_length, max_sequence_len-1)\n",
        "model_unidirectional.summary()"
      ],
      "execution_count": 81,
      "outputs": [
        {
          "output_type": "stream",
          "text": [
            "Unidirectional LSTM MODEL\n",
            "Model: \"metagenomic prediction unidirectional\"\n",
            "_________________________________________________________________\n",
            "Layer (type)                 Output Shape              Param #   \n",
            "=================================================================\n",
            "input_layer (Embedding)      (None, 19, 110)           550       \n",
            "_________________________________________________________________\n",
            "unified_lstm_8 (UnifiedLSTM) (None, 150)               156600    \n",
            "_________________________________________________________________\n",
            "output_layer (Dense)         (None, 5)                 755       \n",
            "=================================================================\n",
            "Total params: 157,905\n",
            "Trainable params: 157,905\n",
            "Non-trainable params: 0\n",
            "_________________________________________________________________\n"
          ],
          "name": "stdout"
        }
      ]
    },
    {
      "cell_type": "markdown",
      "metadata": {
        "id": "F6IJzIqbFoxN"
      },
      "source": [
        "##Training del modello unidirezionale"
      ]
    },
    {
      "cell_type": "code",
      "metadata": {
        "id": "11HoxjlsFL5V",
        "colab": {
          "base_uri": "https://localhost:8080/"
        },
        "outputId": "df1ea45b-db6c-4ae6-832f-a85030d70cc2"
      },
      "source": [
        "history_unidirectional = model_unidirectional.fit(xs, ys, epochs=40, verbose=1)"
      ],
      "execution_count": 82,
      "outputs": [
        {
          "output_type": "stream",
          "text": [
            "Epoch 1/40\n",
            "950/950 [==============================] - 1s 1ms/sample - loss: 1.4755 - accuracy: 0.2284\n",
            "Epoch 2/40\n",
            "950/950 [==============================] - 1s 1ms/sample - loss: 1.4023 - accuracy: 0.2221\n",
            "Epoch 3/40\n",
            "950/950 [==============================] - 1s 1ms/sample - loss: 1.3976 - accuracy: 0.2547\n",
            "Epoch 4/40\n",
            "950/950 [==============================] - 1s 1ms/sample - loss: 1.3916 - accuracy: 0.2589\n",
            "Epoch 5/40\n",
            "950/950 [==============================] - 1s 1ms/sample - loss: 1.3919 - accuracy: 0.2389\n",
            "Epoch 6/40\n",
            "950/950 [==============================] - 1s 1ms/sample - loss: 1.3849 - accuracy: 0.2863\n",
            "Epoch 7/40\n",
            "950/950 [==============================] - 1s 1ms/sample - loss: 1.3837 - accuracy: 0.2768\n",
            "Epoch 8/40\n",
            "950/950 [==============================] - 1s 1ms/sample - loss: 1.3873 - accuracy: 0.2811\n",
            "Epoch 9/40\n",
            "950/950 [==============================] - 1s 1ms/sample - loss: 1.3812 - accuracy: 0.2832\n",
            "Epoch 10/40\n",
            "950/950 [==============================] - 1s 1ms/sample - loss: 1.3793 - accuracy: 0.2832\n",
            "Epoch 11/40\n",
            "950/950 [==============================] - 1s 1ms/sample - loss: 1.3734 - accuracy: 0.2821\n",
            "Epoch 12/40\n",
            "950/950 [==============================] - 1s 1ms/sample - loss: 1.3704 - accuracy: 0.2989\n",
            "Epoch 13/40\n",
            "950/950 [==============================] - 1s 1ms/sample - loss: 1.3722 - accuracy: 0.2811\n",
            "Epoch 14/40\n",
            "950/950 [==============================] - 1s 1ms/sample - loss: 1.3606 - accuracy: 0.3116\n",
            "Epoch 15/40\n",
            "950/950 [==============================] - 1s 1ms/sample - loss: 1.3508 - accuracy: 0.3211\n",
            "Epoch 16/40\n",
            "950/950 [==============================] - 1s 1ms/sample - loss: 1.3339 - accuracy: 0.3253\n",
            "Epoch 17/40\n",
            "950/950 [==============================] - 1s 1ms/sample - loss: 1.3146 - accuracy: 0.3263\n",
            "Epoch 18/40\n",
            "950/950 [==============================] - 1s 1ms/sample - loss: 1.2900 - accuracy: 0.3653\n",
            "Epoch 19/40\n",
            "950/950 [==============================] - 1s 1ms/sample - loss: 1.2516 - accuracy: 0.4032\n",
            "Epoch 20/40\n",
            "950/950 [==============================] - 1s 1ms/sample - loss: 1.1997 - accuracy: 0.4537\n",
            "Epoch 21/40\n",
            "950/950 [==============================] - 1s 1ms/sample - loss: 1.1029 - accuracy: 0.5074\n",
            "Epoch 22/40\n",
            "950/950 [==============================] - 1s 1ms/sample - loss: 0.9872 - accuracy: 0.5863\n",
            "Epoch 23/40\n",
            "950/950 [==============================] - 1s 1ms/sample - loss: 0.8747 - accuracy: 0.6400\n",
            "Epoch 24/40\n",
            "950/950 [==============================] - 1s 1ms/sample - loss: 0.7380 - accuracy: 0.7200\n",
            "Epoch 25/40\n",
            "950/950 [==============================] - 1s 1ms/sample - loss: 0.6119 - accuracy: 0.7611\n",
            "Epoch 26/40\n",
            "950/950 [==============================] - 1s 1ms/sample - loss: 0.4602 - accuracy: 0.8295\n",
            "Epoch 27/40\n",
            "950/950 [==============================] - 1s 1ms/sample - loss: 0.3575 - accuracy: 0.8674\n",
            "Epoch 28/40\n",
            "950/950 [==============================] - 1s 1ms/sample - loss: 0.2483 - accuracy: 0.9137\n",
            "Epoch 29/40\n",
            "950/950 [==============================] - 1s 1ms/sample - loss: 0.1976 - accuracy: 0.9242\n",
            "Epoch 30/40\n",
            "950/950 [==============================] - 1s 1ms/sample - loss: 0.1744 - accuracy: 0.9263\n",
            "Epoch 31/40\n",
            "950/950 [==============================] - 1s 1ms/sample - loss: 0.1587 - accuracy: 0.9284\n",
            "Epoch 32/40\n",
            "950/950 [==============================] - 1s 1ms/sample - loss: 0.1480 - accuracy: 0.9253\n",
            "Epoch 33/40\n",
            "950/950 [==============================] - 1s 1ms/sample - loss: 0.1482 - accuracy: 0.9263\n",
            "Epoch 34/40\n",
            "950/950 [==============================] - 1s 1ms/sample - loss: 0.1450 - accuracy: 0.9253\n",
            "Epoch 35/40\n",
            "950/950 [==============================] - 1s 1ms/sample - loss: 0.1408 - accuracy: 0.9326\n",
            "Epoch 36/40\n",
            "950/950 [==============================] - 1s 1ms/sample - loss: 0.1362 - accuracy: 0.9295\n",
            "Epoch 37/40\n",
            "950/950 [==============================] - 1s 1ms/sample - loss: 0.1334 - accuracy: 0.9284\n",
            "Epoch 38/40\n",
            "950/950 [==============================] - 1s 1ms/sample - loss: 0.1349 - accuracy: 0.9337\n",
            "Epoch 39/40\n",
            "950/950 [==============================] - 1s 1ms/sample - loss: 0.1352 - accuracy: 0.9274\n",
            "Epoch 40/40\n",
            "950/950 [==============================] - 1s 1ms/sample - loss: 0.1295 - accuracy: 0.9326\n"
          ],
          "name": "stdout"
        }
      ]
    },
    {
      "cell_type": "markdown",
      "metadata": {
        "id": "kjVVsF1rGo-T"
      },
      "source": [
        "##Plot curva di Training"
      ]
    },
    {
      "cell_type": "code",
      "metadata": {
        "id": "rZidmnc-U79N"
      },
      "source": [
        "def plot_graphs(history, string, name_model):\n",
        "  title = \"Visualizzazione della curva di Training del modello \" + name_model\n",
        "  plt.suptitle(title)\n",
        "  plt.plot(history.history[string])\n",
        "  plt.xlabel(\"Epoche\")\n",
        "  plt.ylabel(ylabel=\"Accuratezza\")\n",
        "  plt.show()"
      ],
      "execution_count": 83,
      "outputs": []
    },
    {
      "cell_type": "code",
      "metadata": {
        "colab": {
          "base_uri": "https://localhost:8080/",
          "height": 308
        },
        "id": "tt-T68mJU98S",
        "outputId": "269ec9e1-8dcc-46c1-941c-d6f3ccc3543c"
      },
      "source": [
        "plot_graphs(history_bidirectional, 'accuracy', \"bidirezionale\")"
      ],
      "execution_count": 84,
      "outputs": [
        {
          "output_type": "display_data",
          "data": {
            "image/png": "[encoded data removed]",
            "text/plain": [
              "<Figure size 432x288 with 1 Axes>"
            ]
          },
          "metadata": {
            "tags": [],
            "needs_background": "light"
          }
        }
      ]
    },
    {
      "cell_type": "code",
      "metadata": {
        "id": "Nc16N7CXG6dM",
        "colab": {
          "base_uri": "https://localhost:8080/",
          "height": 308
        },
        "outputId": "d16d0805-ffee-45ae-854d-0618b0f70928"
      },
      "source": [
        "plot_graphs(history_unidirectional, 'accuracy', \"unidirezionale\")"
      ],
      "execution_count": 85,
      "outputs": [
        {
          "output_type": "display_data",
          "data": {
            "image/png": "[encoded data removed]",
            "text/plain": [
              "<Figure size 432x288 with 1 Axes>"
            ]
          },
          "metadata": {
            "tags": [],
            "needs_background": "light"
          }
        }
      ]
    },
    {
      "cell_type": "code",
      "metadata": {
        "id": "cfiDYGL-gxHo"
      },
      "source": [
        "def make_prediction(next_word_len, tokenizer, model, text_to_predict, j):\n",
        "\tfor _ in range(next_word_len):\n",
        "\t\ttoken_list = tokenizer.texts_to_sequences([text_to_predict])[0]\n",
        "\t\ttoken_list = pad_sequences([token_list], maxlen=max_sequence_len-1, padding='pre')\n",
        "\t\tpredicted = model.predict_classes(token_list, verbose=0)\n",
        "\t\toutput_word = \"\"\n",
        "\t\tfor word, index in tokenizer.word_index.items():\n",
        "\t\t\tif index == predicted:\n",
        "\t\t\t\toutput_word = word\n",
        "\t\t\t\tbreak\n",
        "\t\ttext_to_predict += \"\" + output_word \n",
        "\t\tj += \"\" + output_word \n",
        "\t\tnew_sequence = \"\".join(j) #isolo la nuova sequenza generata\n",
        "\treturn new_sequence"
      ],
      "execution_count": 86,
      "outputs": []
    },
    {
      "cell_type": "code",
      "metadata": {
        "id": "N0ienvjiiw8_"
      },
      "source": [
        "def make_upper(text, index):\n",
        "  s = \"\"\n",
        "  for i in text:\n",
        "    if i == \"a\":\n",
        "      s = \"A\"\n",
        "    if i == \"c\":\n",
        "      s = \"C\"\n",
        "    if i == \"g\":\n",
        "      s = \"G\"\n",
        "    if i == \"t\":\n",
        "      s = \"T\"\n",
        "    index += \"\" + s\n",
        "    text = \"\".join(index)\n",
        "  return text"
      ],
      "execution_count": 87,
      "outputs": []
    },
    {
      "cell_type": "markdown",
      "metadata": {
        "id": "143wOQzGFQlL"
      },
      "source": [
        "## Predizione partendo da metà sequenza non sanificata appartenente al dataset di partenza utilizzato per il training."
      ]
    },
    {
      "cell_type": "code",
      "metadata": {
        "id": "5RvJrUsGH3nL",
        "outputId": "a9acb8a3-c55a-47fd-ece9-954e90cc6cc6",
        "colab": {
          "base_uri": "https://localhost:8080/"
        }
      },
      "source": [
        "#predizione con metà sequenza esistente\n",
        "existing_dna_seq = dna_not_sanitized[1]\n",
        "half_seq_length = int(seq_length / 2)\n",
        "\n",
        "\n",
        "text_to_predict = existing_dna_seq[0:10]\n",
        "next_words = half_seq_length\n",
        "new_sequence = []\n",
        "increase_string = \"\"\n",
        "\n",
        "new_sequence = make_prediction(next_words, tokenizer, model_unidirectional, text_to_predict, increase_string)\n",
        "\n",
        "print(make_upper(new_sequence, \"\")) #concatenazione tra sequenza passata in input e la nuova generata"
      ],
      "execution_count": 90,
      "outputs": [
        {
          "output_type": "stream",
          "text": [
            "TGCGTTCTGC\n"
          ],
          "name": "stdout"
        }
      ]
    },
    {
      "cell_type": "code",
      "metadata": {
        "colab": {
          "base_uri": "https://localhost:8080/"
        },
        "id": "95KCZvvAHxdo",
        "outputId": "59dd78ee-8597-4ae2-b237-9543b871a2b5"
      },
      "source": [
        "print(\"Dna not sanitized in pos 0:\" , dna_not_sanitized[1])\n",
        "print(\"Dna sanitized in pos 0:    \" ,dna_sanitized[1])\n",
        "print(vocab)"
      ],
      "execution_count": 91,
      "outputs": [
        {
          "output_type": "stream",
          "text": [
            "Dna not sanitized in pos 0: TCTCTAGTCACCTAACAGTC\n",
            "Dna sanitized in pos 0:     GGACCTTTTCTAGCCGTACG\n",
            "{'a': 1, 'c': 2, 't': 3, 'g': 4}\n"
          ],
          "name": "stdout"
        }
      ]
    },
    {
      "cell_type": "markdown",
      "metadata": {
        "id": "ybE9QpyqGCHM"
      },
      "source": [
        "##Predizione partendo da metà sequenza randomica"
      ]
    },
    {
      "cell_type": "code",
      "metadata": {
        "colab": {
          "base_uri": "https://localhost:8080/"
        },
        "id": "-ONs5spxg1rp",
        "outputId": "eea72882-f839-462c-fafa-b06a9e52e977"
      },
      "source": [
        "#genero metà sequenza di dna non sanificato\n",
        "half_seq_length = int(seq_length / 2)\n",
        "half_sequence = [random.choice(bases_list) for _ in range(half_seq_length)]\n",
        "half_sequence = \"\".join(half_sequence)\n",
        "\n",
        "print(half_sequence)"
      ],
      "execution_count": 65,
      "outputs": [
        {
          "output_type": "stream",
          "text": [
            "ATGCTTTCTC\n"
          ],
          "name": "stdout"
        }
      ]
    },
    {
      "cell_type": "code",
      "metadata": {
        "colab": {
          "base_uri": "https://localhost:8080/"
        },
        "id": "cZx5OkTB-5_R",
        "outputId": "928f3de8-3226-4354-fe3a-a70015a6282a"
      },
      "source": [
        "text_to_predict = half_sequence\n",
        "next_words = half_seq_length\n",
        "new_sequence = []\n",
        "increase_string = \"\"\n",
        "\n",
        "new_sequence = make_prediction(next_words, tokenizer, model_bidirectional, text_to_predict, increase_string)\n",
        "#new_sequence , text_to_predict = make_prediction(next_words, tokenizer, model, text_to_predict, increase_string)\n",
        "\n",
        "#print(text_to_predict) #concatenazione tra sequenza passata in input e la nuova generata\n",
        "print(make_upper(new_sequence,\"\"))"
      ],
      "execution_count": 66,
      "outputs": [
        {
          "output_type": "stream",
          "text": [
            "GGAGCAATAG\n"
          ],
          "name": "stdout"
        }
      ]
    },
    {
      "cell_type": "markdown",
      "metadata": {
        "id": "ievTU1NIGin9"
      },
      "source": [
        "##Predizione di una sequenza costituita da 440 caratteri."
      ]
    },
    {
      "cell_type": "markdown",
      "metadata": {
        "id": "esbyPwmy2ac9"
      },
      "source": [
        " Come si procede? Si scompone la sequenza lunga 440 in 44 sottosequenze, ognuna lunga 10 caratteri (questo perchè il modello risulta accurato per la predizione di stringhe lunghe 10 caratteri); poi per ognuna si genera la sequenza sanificata; infine si costruisce la sequenza finale tenendo conto dell'ordine di partenza relativo alle sottosequenze.\n",
        " "
      ]
    },
    {
      "cell_type": "code",
      "metadata": {
        "id": "scHVDYYgaVdv"
      },
      "source": [
        "rnd_max_len = 440\n",
        "sub_seq_len = 10\n",
        "n_sub_seq = 44\n",
        "not_sanitized_max = []\n",
        "sub_seq_data = []\n",
        "\n",
        "random_seq_generation(1, rnd_max_len, not_sanitized_max)"
      ],
      "execution_count": 38,
      "outputs": []
    },
    {
      "cell_type": "code",
      "metadata": {
        "id": "zECPPK0d-vLo"
      },
      "source": [
        "sequence = not_sanitized_max[0]"
      ],
      "execution_count": 39,
      "outputs": []
    },
    {
      "cell_type": "code",
      "metadata": {
        "id": "nEqFPcbb_BOG"
      },
      "source": [
        "#grazie a questa funzione si riesce a dividere l'intera sequenza di lunghezza 440 in 44 sottosequenze, ognuna di 10 caratteri; si crea, quindi, una lista di sottosequenze\n",
        "def sub_seq_data_generator(entire_sequence, sub_len, n_sub_seq):\n",
        "  for i in range(n_sub_seq):\n",
        "    sub_seq = entire_sequence[i*sub_len:(i+1)*sub_len]\n",
        "    sub_seq_data.append(sub_seq)\n",
        "\n",
        "  return sub_seq_data"
      ],
      "execution_count": 40,
      "outputs": []
    },
    {
      "cell_type": "code",
      "metadata": {
        "id": "c4_b6VhjCFHd"
      },
      "source": [
        "sub_seq_data = sub_seq_data_generator(sequence, sub_seq_len, n_sub_seq)"
      ],
      "execution_count": 41,
      "outputs": []
    },
    {
      "cell_type": "code",
      "metadata": {
        "id": "ks5g6QXOHkWx"
      },
      "source": [
        "sanitized_sub_seq_data = []\n",
        "increase_sequence = \"\"\n",
        "\n",
        "for i in range(n_sub_seq):\n",
        "  sanitized_sub_seq_data.append(make_prediction(next_words, tokenizer, model_bidirectional, sub_seq_data[i], increase_sequence))"
      ],
      "execution_count": 42,
      "outputs": []
    },
    {
      "cell_type": "code",
      "metadata": {
        "id": "MgITChfEO9Jm"
      },
      "source": [
        "sanitized_max = \"\"\n",
        "\n",
        "for i in range(n_sub_seq):\n",
        "  sanitized_max += sanitized_sub_seq_data[i]"
      ],
      "execution_count": 43,
      "outputs": []
    },
    {
      "cell_type": "code",
      "metadata": {
        "colab": {
          "base_uri": "https://localhost:8080/"
        },
        "id": "nqaslNI_1ww7",
        "outputId": "0d874932-d2f1-4b56-f981-f5d98d7bad12"
      },
      "source": [
        "print(\"Sequenza sanificata    : \" , make_upper(sanitized_max, \"\"))\n",
        "print(\"Sequenza non sanificata: \" , sequence)"
      ],
      "execution_count": 44,
      "outputs": [
        {
          "output_type": "stream",
          "text": [
            "Sequenza sanificata    :  ACCGGCTCAGGGATGCTTTGTATTATTAGTGGGCTATCTTGGGTTGGCATTTCAGCAGCATCAATTAAGTATAATAATGACGGATGGGGCCGAATTAGGGGCATGCTATCCGAAGCGGATGCATGGCATCTGGGGCTTTTAGATAGATAGATGCGTCAGCGGGCAGCATCGGTTCTGCAAGTTTTTTTTGCGGGTGCCAACATCGGACGTAGAGATCGTATCGAATCGGATAGCATGTTGTCATGGCATCGGGTTGACATCATCGGATAGAGGGCACATCTCGCATCTTTGGTGCACCCTGCAACGTGGGTTATTATTAAAGCATCGGATGAGATAGAGATAGATAGAGAAGCGAAAGCTGGTGCTTTTTCAGCATCGTCTTTCTGTAATGGGGGGCGAAGCGCACTATTGACTTTACAAGATAAGCAGAGTTGGACATC\n",
            "Sequenza non sanificata:  TGGTGAGGGCATATTGTTCCGGAAACTAATCCGTACAATAATATGCGGATCTGTCATAGGGCCGGAGTAAGCAGTATATGGGATACCCATTGGTGGGGGGATGGACATAACACCCTGAGTTGTCTCCGTAACTCTTTGTTAGAGATTTGATTCGATGAGCGCTCGTTCTTGCTGCCTATACCAATCTTAAGTCTACCTATTAGTGCGGGTCGTGGTTATTCCGGCTGACGCTCTTAAGCGTTGAAAAGACGGGAATTCATGTGGTCGTCGAAGCTGTCGTCCTGCTAGCGAATGCCAAGCGGCTTTCTGGGTAAGATCTAGGCCCGGCTCGGGTATTATATGTGATGGTAACGTGGTCTCTGGCATTTAACCCCAGCCCGGTCTACGGACCTAGGGTTTTTGGACAAGTGATGACGGGTTGACTTCATTTTTCTACATGG\n"
          ],
          "name": "stdout"
        }
      ]
    }
  ]
}